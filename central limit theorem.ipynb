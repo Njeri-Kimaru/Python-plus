{
 "cells": [
  {
   "cell_type": "markdown",
   "id": "71bb4b54",
   "metadata": {},
   "source": [
    "##### imports\n",
    "    import pandas as pd\n",
    "    import numpy as np\n",
    "    import matplotlib.pyplot as plt\n",
    "    from collections import Counter\n",
    "    import itertools\n",
    "    \n",
    "##### listing two lists\n",
    "    pumpkin = [\"a\",\"b\",\"c\",\"d\",\"e\",\"f\"]\n",
    "    weights = [19,14,15,9,10,17]\n",
    "\n",
    "##### combining the lists into a dictionary\n",
    "    pumpkin_dict = dict(zip(pumpkin,weights))\n",
    "    pumpkin_dict\n",
    "    \n",
    "##### calculating the mean\n",
    "    def calculate_mu(x):\n",
    "        return sum(x.values())/len(x)\n",
    "    \n",
    "   pumpkin_mu = calculate_mu(pumpkin_dict)\n",
    "   pumpkin_mu\n",
    "\n",
    "##### plotting\n",
    "    plt.bar(pumpkin, weights, color = \"blue\", edgecolor = \"black\")\n",
    "    plt.axhline(pumpkin_mu, linestyle=\"--\", linewidth=2, color = \"red\", label = \"mean:{pumpkin_mu}\")\n",
    "    plt.xlabel(\"pumpkin\")\n",
    "    plt.ylabel(\"weights\")\n",
    "    plt.title(\"Pumpkin Weights with Mean Highlighted\")\n",
    "    plt.legend\n",
    "    plt.show\n",
    "\n",
    "##### combining the lists\n",
    "    sample_size = 2\n",
    "    combs = list(itertools.combinations(pumpkin_dict.keys(), sample_size))\n",
    "    combs\n",
    "    \n",
    "##### sample means\n",
    "    def sample_mean(n, data):\n",
    "        n = n\n",
    "        mu = sum(data.values())/len(data)\n",
    "        combinations = list(itertools.combinations(data.keys(),n))\n",
    "        x_bar = []\n",
    "        for comb in combinations:\n",
    "            sample_weights = [data[p] for p in comb]\n",
    "            sample_mean = sum(sample_weights)/n\n",
    "            x_bar.append(sample_mean)\n",
    "        return combinations, x_bar\n",
    "    \n",
    "    combinations, x_bar = sample_mean(sample_size, pumpkin_dict)\n",
    "    for c,m in zip(combinations,x_bar):\n",
    "        print(c,m)\n",
    "        \n",
    "##### means of all sample_means\n",
    "    mean_of_all_sample_means = sum(sample_mean)/len(sample_mean)\n",
    "    mean_of_all_sample_means"
   ]
  },
  {
   "cell_type": "markdown",
   "id": "94e4eaee",
   "metadata": {},
   "source": [
    "# THURSDAY 25TH SEP,2025 CLASS\n",
    "## CENTRAL LIMIT THEOREM"
   ]
  },
  {
   "cell_type": "markdown",
   "id": "20521ea3",
   "metadata": {},
   "source": [
    "--- LISTING TWO LISTS"
   ]
  },
  {
   "cell_type": "code",
   "execution_count": 1,
   "id": "2e03ec10",
   "metadata": {},
   "outputs": [],
   "source": [
    "pumpkin = [\"a\",\"b\",\"c\",\"d\",\"e\",\"f\"]\n",
    "weights = [19,14,15,9,10,17]"
   ]
  },
  {
   "cell_type": "markdown",
   "id": "dde98ddb",
   "metadata": {},
   "source": [
    "--- COMBINING THE LISTS INTO A DICTIONARY"
   ]
  },
  {
   "cell_type": "code",
   "execution_count": null,
   "id": "1efe3442",
   "metadata": {},
   "outputs": [
    {
     "data": {
      "text/plain": [
       "{'a': 19, 'b': 14, 'c': 15, 'd': 9, 'e': 10, 'f': 17}"
      ]
     },
     "execution_count": 2,
     "metadata": {},
     "output_type": "execute_result"
    }
   ],
   "source": [
    "import numpy as np\n",
    "from collections import Counter\n",
    "import itertools\n",
    "import matplotlib.pyplot as plt\n",
    "\n",
    "pumpkin_dict = dict(zip(pumpkin,weights))\n",
    "pumpkin_dict\n",
    "="
   ]
  },
  {
   "cell_type": "markdown",
   "id": "6d7137c8",
   "metadata": {},
   "source": [
    "--- CALCULATING THE MEAN"
   ]
  },
  {
   "cell_type": "code",
   "execution_count": 3,
   "id": "fea12a63",
   "metadata": {},
   "outputs": [],
   "source": [
    "def calculate_mu(x):\n",
    "    d = sum(x.values())/len(x)\n",
    "    return d"
   ]
  },
  {
   "cell_type": "code",
   "execution_count": 4,
   "id": "a350cae2",
   "metadata": {},
   "outputs": [],
   "source": [
    "def calculat_mu(x):\n",
    "    return sum(x.values())/len(x)"
   ]
  },
  {
   "cell_type": "code",
   "execution_count": 5,
   "id": "73683676",
   "metadata": {},
   "outputs": [
    {
     "data": {
      "text/plain": [
       "14.0"
      ]
     },
     "execution_count": 5,
     "metadata": {},
     "output_type": "execute_result"
    }
   ],
   "source": [
    "calculat_mu(pumpkin_dict)"
   ]
  },
  {
   "cell_type": "code",
   "execution_count": 6,
   "id": "9191720a",
   "metadata": {},
   "outputs": [
    {
     "data": {
      "text/plain": [
       "14.0"
      ]
     },
     "execution_count": 6,
     "metadata": {},
     "output_type": "execute_result"
    }
   ],
   "source": [
    "calculate_mu(pumpkin_dict)"
   ]
  },
  {
   "cell_type": "code",
   "execution_count": 7,
   "id": "c96b77be",
   "metadata": {},
   "outputs": [
    {
     "data": {
      "text/plain": [
       "14.0"
      ]
     },
     "execution_count": 7,
     "metadata": {},
     "output_type": "execute_result"
    }
   ],
   "source": [
    "pumpkin_mu = sum(weights)/len(weights)\n",
    "pumpkin_mu"
   ]
  },
  {
   "cell_type": "markdown",
   "id": "8e3beefe",
   "metadata": {},
   "source": [
    "--- PLOTTING"
   ]
  },
  {
   "cell_type": "code",
   "execution_count": 9,
   "id": "8c529037",
   "metadata": {},
   "outputs": [
    {
     "data": {
      "text/plain": [
       "<function matplotlib.pyplot.show(close=None, block=None)>"
      ]
     },
     "execution_count": 9,
     "metadata": {},
     "output_type": "execute_result"
    },
    {
     "data": {
      "image/png": "[encoded data removed]",
      "text/plain": [
       "<Figure size 640x480 with 1 Axes>"
      ]
     },
     "metadata": {},
     "output_type": "display_data"
    }
   ],
   "source": [
    "plt.bar(pumpkin, weights, color=\"blue\", edgecolor=\"black\")\n",
    "plt.axhline(pumpkin_mu, color=\"red\", linestyle =\"--\", linewidth = 2, label=f\"Mean={pumpkin_mu}\")\n",
    "plt.xlabel(\"pumpkin\")\n",
    "plt.ylabel('weights')\n",
    "plt.title(\"Pumpkin Weights with Mean Highlighted\")\n",
    "plt.legend\n",
    "plt.show\n",
    "\n"
   ]
  },
  {
   "cell_type": "markdown",
   "id": "d27ccea1",
   "metadata": {},
   "source": [
    "--- LIST COMBINATIONS"
   ]
  },
  {
   "cell_type": "code",
   "execution_count": 10,
   "id": "4c805616",
   "metadata": {},
   "outputs": [
    {
     "data": {
      "text/plain": [
       "[('a', 'b'),\n",
       " ('a', 'c'),\n",
       " ('a', 'd'),\n",
       " ('a', 'e'),\n",
       " ('a', 'f'),\n",
       " ('b', 'c'),\n",
       " ('b', 'd'),\n",
       " ('b', 'e'),\n",
       " ('b', 'f'),\n",
       " ('c', 'd'),\n",
       " ('c', 'e'),\n",
       " ('c', 'f'),\n",
       " ('d', 'e'),\n",
       " ('d', 'f'),\n",
       " ('e', 'f')]"
      ]
     },
     "execution_count": 10,
     "metadata": {},
     "output_type": "execute_result"
    }
   ],
   "source": [
    "# itertools returns an iterator as it iterates.\n",
    "# combs have two arguments the n and k in our case n is the keys and k is the sample size which is 2\n",
    "# combs has to take list function because it lists\n",
    "\n",
    "sample_size = 2\n",
    "combs = list(itertools.combinations(pumpkin_dict.keys(), sample_size))\n",
    "combs"
   ]
  },
  {
   "cell_type": "markdown",
   "id": "1f040523",
   "metadata": {},
   "source": [
    "--- SAMPLE MEANS"
   ]
  },
  {
   "cell_type": "code",
   "execution_count": 11,
   "id": "9317803c",
   "metadata": {},
   "outputs": [],
   "source": [
    "# n is the sample size\n",
    "# generating possible combinations using the given sample size\n",
    "# data.values() is a dictionary\n",
    "# data.sample when whe have a dataset\n",
    "# mu is to compare all the means with the population mean\n",
    "\n",
    "def sample_mean(n,data):\n",
    "    n = n\n",
    "    mu = sum(data.values())/len(data)\n",
    "    combinations =list(itertools.combinations(data.keys(), n))\n",
    "\n",
    "# sample mean\n",
    "# then we use for loop\n",
    "    xbar_list = []\n",
    "    for comb in combinations:\n",
    "        sample_weights = [data[p] for p in comb]\n",
    "        sample_mean = sum(sample_weights)/n\n",
    "        xbar_list.append(sample_mean)\n",
    "    return combinations, xbar_list\n",
    "\n",
    "# returns each comb with its mean"
   ]
  },
  {
   "cell_type": "code",
   "execution_count": 18,
   "id": "912830c5",
   "metadata": {},
   "outputs": [
    {
     "name": "stdout",
     "output_type": "stream",
     "text": [
      "('a', 'b') 16.5\n",
      "('a', 'c') 17.0\n",
      "('a', 'd') 14.0\n",
      "('a', 'e') 14.5\n",
      "('a', 'f') 18.0\n",
      "('b', 'c') 14.5\n",
      "('b', 'd') 11.5\n",
      "('b', 'e') 12.0\n",
      "('b', 'f') 15.5\n",
      "('c', 'd') 12.0\n",
      "('c', 'e') 12.5\n",
      "('c', 'f') 16.0\n",
      "('d', 'e') 9.5\n",
      "('d', 'f') 13.0\n",
      "('e', 'f') 13.5\n"
     ]
    }
   ],
   "source": [
    "def sample_mean(n, data):\n",
    "    n = n\n",
    "    mu = sum(data.values())/len(data)\n",
    "    combinations = list(itertools.combinations(data.keys(),n))\n",
    "    x_bar = []\n",
    "    for comb in combinations:\n",
    "        sample_weights = [data[p] for p in comb]\n",
    "        sample_mean = sum(sample_weights)/n\n",
    "        x_bar.append(sample_mean)\n",
    "    return combinations, x_bar\n",
    "    \n",
    "combinations, x_bar = sample_mean(sample_size, pumpkin_dict)\n",
    "for c,m in zip(combinations,x_bar):\n",
    "    print(c,m)"
   ]
  },
  {
   "cell_type": "code",
   "execution_count": 12,
   "id": "c79e16f6",
   "metadata": {},
   "outputs": [
    {
     "name": "stdout",
     "output_type": "stream",
     "text": [
      "('a', 'b') 16.5\n",
      "('a', 'c') 17.0\n",
      "('a', 'd') 14.0\n",
      "('a', 'e') 14.5\n",
      "('a', 'f') 18.0\n",
      "('b', 'c') 14.5\n",
      "('b', 'd') 11.5\n",
      "('b', 'e') 12.0\n",
      "('b', 'f') 15.5\n",
      "('c', 'd') 12.0\n",
      "('c', 'e') 12.5\n",
      "('c', 'f') 16.0\n",
      "('d', 'e') 9.5\n",
      "('d', 'f') 13.0\n",
      "('e', 'f') 13.5\n"
     ]
    }
   ],
   "source": [
    "combinations, xbar_list = sample_mean(sample_size, pumpkin_dict)\n",
    "for c,m in zip(combinations, xbar_list):\n",
    "    print (c,m)\n",
    "    \n",
    "# c is each comb\n",
    "# m is sample mean\n"
   ]
  },
  {
   "cell_type": "code",
   "execution_count": 13,
   "id": "fac36032",
   "metadata": {},
   "outputs": [
    {
     "data": {
      "text/plain": [
       "14.0"
      ]
     },
     "execution_count": 13,
     "metadata": {},
     "output_type": "execute_result"
    }
   ],
   "source": [
    "mean_of_all_sample_means = sum(xbar_list)/len(xbar_list)\n",
    "mean_of_all_sample_means"
   ]
  },
  {
   "cell_type": "code",
   "execution_count": 14,
   "id": "c0249a0f",
   "metadata": {},
   "outputs": [],
   "source": [
    "from sklearn.model_selection import train_test_split"
   ]
  }
 ],
 "metadata": {
  "kernelspec": {
   "display_name": "Python 3",
   "language": "python",
   "name": "python3"
  },
  "language_info": {
   "codemirror_mode": {
    "name": "ipython",
    "version": 3
   },
   "file_extension": ".py",
   "mimetype": "text/x-python",
   "name": "python",
   "nbconvert_exporter": "python",
   "pygments_lexer": "ipython3",
   "version": "3.12.10"
  }
 },
 "nbformat": 4,
 "nbformat_minor": 5
}
