{
 "cells": [
  {
   "cell_type": "markdown",
   "id": "0b387a34",
   "metadata": {},
   "source": [
    "##### imports\n",
    "    import math\n",
    "    \n",
    "##### parameters\n",
    "    n = 8\n",
    "    k = 3\n",
    "    \n",
    "##### permutations\n",
    "    def permutations(n,k):\n",
    "        return math.factorial(n) / math.factorial(n-k)\n",
    "    \n",
    "    permutations(8,3)\n",
    "\n",
    "##### combinations\n",
    "    def combinations(n,k):\n",
    "        return (math.factorial(n) / (math.factorial(n-k))) / math.factorial(k)\n",
    "    \n",
    "##### collections and counters\n",
    "    import collections\n",
    "    x = [1,1,1,1,2,2,2,2,3,3,4,5,5]\n",
    "    counter = collections.Counter(x)\n",
    "    print(counter)\n",
    "\n",
    "    print(len(x))\n",
    "    "
   ]
  },
  {
   "cell_type": "markdown",
   "id": "e97eb884",
   "metadata": {},
   "source": [
    "# WEDNESDAY 17TH SEP,2025\n",
    "### PERMUTATIONS AND FACTORIALS"
   ]
  },
  {
   "cell_type": "markdown",
   "id": "abd1831b",
   "metadata": {},
   "source": [
    "- Permutations -- n! / (n - k)!\n",
    "- Combinations -- (n! / (n - k)!) / k! or n! / ((n-k)! * k!)"
   ]
  },
  {
   "cell_type": "code",
   "execution_count": 1,
   "id": "3b37cd80",
   "metadata": {},
   "outputs": [],
   "source": [
    "import math \n",
    "n = 8\n",
    "k = 3\n",
    "\n"
   ]
  },
  {
   "cell_type": "code",
   "execution_count": 2,
   "id": "f9a28591",
   "metadata": {},
   "outputs": [
    {
     "data": {
      "text/plain": [
       "336.0"
      ]
     },
     "execution_count": 2,
     "metadata": {},
     "output_type": "execute_result"
    }
   ],
   "source": [
    " (8*7*6*5*4*3*2*1)/(5*4*3*2*1)\n",
    "\n"
   ]
  },
  {
   "cell_type": "code",
   "execution_count": 3,
   "id": "1c3d7f74",
   "metadata": {},
   "outputs": [],
   "source": [
    "def permutations (n,k):\n",
    "    return (math.factorial(n) / math.factorial(n-k))"
   ]
  },
  {
   "cell_type": "code",
   "execution_count": 4,
   "id": "01dda0c3",
   "metadata": {},
   "outputs": [
    {
     "data": {
      "text/plain": [
       "336.0"
      ]
     },
     "execution_count": 4,
     "metadata": {},
     "output_type": "execute_result"
    }
   ],
   "source": [
    "permutation1 = permutations(8,3)\n",
    "permutation1"
   ]
  },
  {
   "cell_type": "code",
   "execution_count": 10,
   "id": "6ef2040c",
   "metadata": {},
   "outputs": [],
   "source": [
    "def combination(n,k):\n",
    "    return (math.factorial(n)/math.factorial(n-k))/math.factorial(k)\n",
    "# can also be math.factorial(n) / (math.factorial(n-k) * math.factorial(k))"
   ]
  },
  {
   "cell_type": "code",
   "execution_count": 11,
   "id": "8d6c8fb2",
   "metadata": {},
   "outputs": [
    {
     "data": {
      "text/plain": [
       "56.0"
      ]
     },
     "execution_count": 11,
     "metadata": {},
     "output_type": "execute_result"
    }
   ],
   "source": [
    "combination1 = combination(8,3)\n",
    "combination1"
   ]
  },
  {
   "cell_type": "code",
   "execution_count": 7,
   "id": "a84c6622",
   "metadata": {},
   "outputs": [
    {
     "data": {
      "text/plain": [
       "56"
      ]
     },
     "execution_count": 7,
     "metadata": {},
     "output_type": "execute_result"
    }
   ],
   "source": [
    "import math\n",
    "math.comb (8,3)"
   ]
  },
  {
   "cell_type": "code",
   "execution_count": 8,
   "id": "44225e90",
   "metadata": {},
   "outputs": [
    {
     "data": {
      "text/plain": [
       "252.0"
      ]
     },
     "execution_count": 8,
     "metadata": {},
     "output_type": "execute_result"
    }
   ],
   "source": [
    "combination(10,5)"
   ]
  },
  {
   "cell_type": "markdown",
   "id": "753e2e71",
   "metadata": {},
   "source": [
    "### Conditional probability\n",
    "- there are two sets or events\n",
    "- there are dependent on each other"
   ]
  },
  {
   "cell_type": "code",
   "execution_count": 9,
   "id": "7eb2cfed",
   "metadata": {},
   "outputs": [
    {
     "name": "stdout",
     "output_type": "stream",
     "text": [
      "Counter({1: 4, 2: 4, 3: 2, 5: 2, 4: 1})\n",
      "13\n"
     ]
    }
   ],
   "source": [
    "# Count the frequency of values in a given dataset\n",
    "import collections\n",
    "x = [1,1,1,1,2,2,2,2,3,3,4,5,5]\n",
    "counter = collections.Counter(x)\n",
    "print(counter)\n",
    "\n",
    "print(len(x))"
   ]
  }
 ],
 "metadata": {
  "kernelspec": {
   "display_name": "my_env",
   "language": "python",
   "name": "python3"
  },
  "language_info": {
   "codemirror_mode": {
    "name": "ipython",
    "version": 3
   },
   "file_extension": ".py",
   "mimetype": "text/x-python",
   "name": "python",
   "nbconvert_exporter": "python",
   "pygments_lexer": "ipython3",
   "version": "3.12.10"
  }
 },
 "nbformat": 4,
 "nbformat_minor": 5
}
