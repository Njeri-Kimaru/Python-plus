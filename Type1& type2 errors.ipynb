{
 "cells": [
  {
   "cell_type": "markdown",
   "id": "2f7e5a4a",
   "metadata": {},
   "source": [
    "# TUESDAY 7TH OCT, 2025"
   ]
  },
  {
   "cell_type": "markdown",
   "id": "4686132a",
   "metadata": {},
   "source": [
    "### testing a fair coin"
   ]
  },
  {
   "cell_type": "code",
   "execution_count": 1,
   "id": "7338f0bb",
   "metadata": {},
   "outputs": [
    {
     "data": {
      "text/plain": [
       "15"
      ]
     },
     "execution_count": 1,
     "metadata": {},
     "output_type": "execute_result"
    }
   ],
   "source": [
    "import numpy as np\n",
    "n = 20 #Number of flips\n",
    "p = .75 #Simulating an unfair coin\n",
    "coin1 = np.random.binomial(n, p)\n",
    "coin1"
   ]
  },
  {
   "cell_type": "code",
   "execution_count": 2,
   "id": "235b9bad",
   "metadata": {},
   "outputs": [
    {
     "data": {
      "text/plain": [
       "0.25"
      ]
     },
     "execution_count": 2,
     "metadata": {},
     "output_type": "execute_result"
    }
   ],
   "source": [
    "q = 1-p\n",
    "q"
   ]
  },
  {
   "cell_type": "code",
   "execution_count": 3,
   "id": "e1671b00",
   "metadata": {},
   "outputs": [
    {
     "data": {
      "text/plain": [
       "np.float64(1.9364916731037085)"
      ]
     },
     "execution_count": 3,
     "metadata": {},
     "output_type": "execute_result"
    }
   ],
   "source": [
    "coin_std = np.sqrt(n*p*q)\n",
    "coin_std"
   ]
  },
  {
   "cell_type": "markdown",
   "id": "a2be2ea5",
   "metadata": {},
   "source": [
    "### Pvalue"
   ]
  },
  {
   "cell_type": "markdown",
   "id": "86233c10",
   "metadata": {},
   "source": [
    "- observed mean = n*p -- 20*0.75\n",
    "- expected mean = n*p -- 20*0.5"
   ]
  },
  {
   "cell_type": "code",
   "execution_count": 4,
   "id": "d68e22c6",
   "metadata": {},
   "outputs": [
    {
     "data": {
      "text/plain": [
       "np.float64(11.547005383792516)"
      ]
     },
     "execution_count": 4,
     "metadata": {},
     "output_type": "execute_result"
    }
   ],
   "source": [
    "# observed mean = n*p -- 20*0.75\n",
    "# expected mean = n*p -- 20*0.5\n",
    "z_test = (coin1-10) / (coin_std /np.sqrt(n))\n",
    "z_test"
   ]
  },
  {
   "cell_type": "code",
   "execution_count": 5,
   "id": "75d69364",
   "metadata": {},
   "outputs": [
    {
     "data": {
      "text/plain": [
       "np.float64(3.8218791928155604e-31)"
      ]
     },
     "execution_count": 5,
     "metadata": {},
     "output_type": "execute_result"
    }
   ],
   "source": [
    "from scipy import stats\n",
    "pvalue = stats.norm.sf(z_test)\n",
    "pvalue"
   ]
  }
 ],
 "metadata": {
  "kernelspec": {
   "display_name": "my_env",
   "language": "python",
   "name": "python3"
  },
  "language_info": {
   "codemirror_mode": {
    "name": "ipython",
    "version": 3
   },
   "file_extension": ".py",
   "mimetype": "text/x-python",
   "name": "python",
   "nbconvert_exporter": "python",
   "pygments_lexer": "ipython3",
   "version": "3.12.10"
  }
 },
 "nbformat": 4,
 "nbformat_minor": 5
}
