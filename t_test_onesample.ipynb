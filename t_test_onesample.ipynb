{
 "cells": [
  {
   "cell_type": "markdown",
   "id": "ad11f574",
   "metadata": {},
   "source": [
    "# MONDAY 6TH OCT, 2025\n",
    "## T-TEST ONE SAMPLE"
   ]
  },
  {
   "cell_type": "markdown",
   "id": "ab28c097",
   "metadata": {},
   "source": [
    "### Example 1"
   ]
  },
  {
   "cell_type": "code",
   "execution_count": 1,
   "id": "cbb882a0",
   "metadata": {},
   "outputs": [],
   "source": [
    "\n",
    "import numpy as np\n",
    "from scipy import stats \n",
    "import math\n",
    "\n",
    "sample = np.array([122.09, 100.64, 125.77, 120.32, 118.25,  96.47, 111.4 , 80.66,\n",
    "       110.77, 111.14, 102.9 , 114.54,  88.09,  98.59,  87.07, 110.43,\n",
    "       101.9 , 123.89,  97.03, 116.23, 108.3 , 112.82, 119.57, 131.38,\n",
    "       128.39])"
   ]
  },
  {
   "cell_type": "markdown",
   "id": "b2d6a4ee",
   "metadata": {},
   "source": [
    "--- hypothesis testing"
   ]
  },
  {
   "cell_type": "code",
   "execution_count": 2,
   "id": "b713630e",
   "metadata": {},
   "outputs": [
    {
     "data": {
      "text/plain": [
       "np.float64(109.5456)"
      ]
     },
     "execution_count": 2,
     "metadata": {},
     "output_type": "execute_result"
    }
   ],
   "source": [
    "sample_mean = np.mean(sample)\n",
    "sample_mean"
   ]
  },
  {
   "cell_type": "code",
   "execution_count": 3,
   "id": "f92fcc0d",
   "metadata": {},
   "outputs": [
    {
     "data": {
      "text/plain": [
       "np.float64(109.5456)"
      ]
     },
     "execution_count": 3,
     "metadata": {},
     "output_type": "execute_result"
    }
   ],
   "source": [
    "sample.mean()"
   ]
  },
  {
   "cell_type": "code",
   "execution_count": 4,
   "id": "8d85e4a8",
   "metadata": {},
   "outputs": [
    {
     "data": {
      "text/plain": [
       "100"
      ]
     },
     "execution_count": 4,
     "metadata": {},
     "output_type": "execute_result"
    }
   ],
   "source": [
    "population_mean = 100\n",
    "population_mean"
   ]
  },
  {
   "cell_type": "code",
   "execution_count": 5,
   "id": "46cd986c",
   "metadata": {},
   "outputs": [],
   "source": [
    "# based on what we had before, 100 it means the training worked hence the difference in the means\n",
    "# alternative hypothesis is that the training worked and its the observation we make first\n",
    "# null hypothes is what we are trying to prove that the the training did not work\n",
    "alternative_hypothesis = \"The training worked\"\n",
    "null_hypothesis = \"The training did not work\""
   ]
  },
  {
   "cell_type": "markdown",
   "id": "15d5f097",
   "metadata": {},
   "source": [
    "--- significance level"
   ]
  },
  {
   "cell_type": "code",
   "execution_count": 6,
   "id": "f0c2fef2",
   "metadata": {},
   "outputs": [],
   "source": [
    "alpha = 0.05"
   ]
  },
  {
   "cell_type": "code",
   "execution_count": 7,
   "id": "3eacdccd",
   "metadata": {},
   "outputs": [
    {
     "data": {
      "text/plain": [
       "25"
      ]
     },
     "execution_count": 7,
     "metadata": {},
     "output_type": "execute_result"
    }
   ],
   "source": [
    "sample_size = len(sample)\n",
    "sample_size"
   ]
  },
  {
   "cell_type": "code",
   "execution_count": 9,
   "id": "76f72db9",
   "metadata": {},
   "outputs": [
    {
     "data": {
      "text/plain": [
       "np.float64(13.338774643871902)"
      ]
     },
     "execution_count": 9,
     "metadata": {},
     "output_type": "execute_result"
    }
   ],
   "source": [
    "sample_std = np.std(sample, ddof = 1)\n",
    "sample_std"
   ]
  },
  {
   "cell_type": "code",
   "execution_count": 10,
   "id": "ad593d97",
   "metadata": {},
   "outputs": [
    {
     "data": {
      "text/plain": [
       "np.float64(2.6677549287743805)"
      ]
     },
     "execution_count": 10,
     "metadata": {},
     "output_type": "execute_result"
    }
   ],
   "source": [
    "sample_se = sample_std/np.sqrt(len(sample))\n",
    "sample_se"
   ]
  },
  {
   "cell_type": "code",
   "execution_count": 12,
   "id": "21bd8533",
   "metadata": {},
   "outputs": [
    {
     "data": {
      "text/plain": [
       "np.float64(3.578139767278185)"
      ]
     },
     "execution_count": 12,
     "metadata": {},
     "output_type": "execute_result"
    }
   ],
   "source": [
    "t_statistic = (sample_mean-population_mean) / (sample_std/np.sqrt(sample_size))\n",
    "t_statistic"
   ]
  },
  {
   "cell_type": "code",
   "execution_count": 15,
   "id": "6370dad0",
   "metadata": {},
   "outputs": [
    {
     "data": {
      "text/plain": [
       "np.float64(0.0007589472707557043)"
      ]
     },
     "execution_count": 15,
     "metadata": {},
     "output_type": "execute_result"
    }
   ],
   "source": [
    "p_value = stats.t.sf(t_statistic, df=24)\n",
    "p_value"
   ]
  },
  {
   "cell_type": "code",
   "execution_count": 17,
   "id": "ab59133a",
   "metadata": {},
   "outputs": [
    {
     "name": "stdout",
     "output_type": "stream",
     "text": [
      "based on the current evidence we reject the null hypothesis and conclude that The training worked.\n"
     ]
    }
   ],
   "source": [
    "if p_value < alpha:\n",
    "    print (f\"based on the current evidence we reject the null hypothesis and conclude that {alternative_hypothesis}.\")\n",
    "else:\n",
    "    print (f\"based on the current evidence we fail to reject the null hypothesis and conclude that {null_hypothesis}.\")\n"
   ]
  },
  {
   "cell_type": "code",
   "execution_count": 21,
   "id": "4396bba1",
   "metadata": {},
   "outputs": [
    {
     "data": {
      "text/plain": [
       "TtestResult(statistic=np.float64(3.578139767278185), pvalue=np.float64(0.0015178945415114085), df=np.int64(24))"
      ]
     },
     "execution_count": 21,
     "metadata": {},
     "output_type": "execute_result"
    }
   ],
   "source": [
    "t_results = stats.ttest_1samp(a= sample, popmean= population_mean)\n",
    "t_results"
   ]
  },
  {
   "cell_type": "markdown",
   "id": "9c5a2fd1",
   "metadata": {},
   "source": [
    "### Example 2"
   ]
  },
  {
   "cell_type": "code",
   "execution_count": 22,
   "id": "f663644c",
   "metadata": {},
   "outputs": [],
   "source": [
    "students_result =  np.array([84.0, 92.4, 74.3, 79.4, 86.7, 75.3, 90.9, 86.1, 81.0, 85.1, \n",
    "  78.7, 73.5, 86.9, 87.4, 82.7, 81.9, 69.9, 77.2, 79.3, 83.3])"
   ]
  },
  {
   "cell_type": "code",
   "execution_count": 24,
   "id": "a3b51602",
   "metadata": {},
   "outputs": [
    {
     "data": {
      "text/plain": [
       "np.float64(81.80000000000001)"
      ]
     },
     "execution_count": 24,
     "metadata": {},
     "output_type": "execute_result"
    }
   ],
   "source": [
    "students_mean = np.mean(students_result)\n",
    "students_mean"
   ]
  },
  {
   "cell_type": "code",
   "execution_count": 25,
   "id": "302c4964",
   "metadata": {},
   "outputs": [
    {
     "data": {
      "text/plain": [
       "65"
      ]
     },
     "execution_count": 25,
     "metadata": {},
     "output_type": "execute_result"
    }
   ],
   "source": [
    "mu = 65\n",
    "mu"
   ]
  },
  {
   "cell_type": "code",
   "execution_count": 27,
   "id": "f004449c",
   "metadata": {},
   "outputs": [
    {
     "data": {
      "text/plain": [
       "np.float64(1.0053355594452825e-10)"
      ]
     },
     "execution_count": 27,
     "metadata": {},
     "output_type": "execute_result"
    }
   ],
   "source": [
    "ttest_results = stats.ttest_1samp(a=students_result, popmean=mu)\n",
    "ttest_results.pvalue"
   ]
  }
 ],
 "metadata": {
  "kernelspec": {
   "display_name": "my_env",
   "language": "python",
   "name": "python3"
  },
  "language_info": {
   "codemirror_mode": {
    "name": "ipython",
    "version": 3
   },
   "file_extension": ".py",
   "mimetype": "text/x-python",
   "name": "python",
   "nbconvert_exporter": "python",
   "pygments_lexer": "ipython3",
   "version": "3.12.10"
  }
 },
 "nbformat": 4,
 "nbformat_minor": 5
}
