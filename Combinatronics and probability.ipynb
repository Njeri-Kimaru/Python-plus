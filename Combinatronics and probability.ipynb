{
 "cells": [
  {
   "cell_type": "markdown",
   "id": "6396b2a6",
   "metadata": {},
   "source": [
    "##### sets\n",
    "    set2 = {1,2,3,4,5,6,7,8,9,10}\n",
    "    set3 = {3,4,5}\n",
    "    set4 = {3,4,5}\n",
    "    set5 = {6,7,8,9}\n",
    "\n",
    "##### subsets\n",
    "    set3.issubset(set2)\n",
    "    set3 <= set2\n",
    "    \n",
    "##### proper sets\n",
    "    set2 < set3\n",
    "    \n",
    "##### supersets\n",
    "    set2.issuperset(set3)\n",
    "    set2 >= set3\n",
    "    \n",
    "##### to remove an element from a set\n",
    "    set3.remove(4)\n",
    "    \n",
    "#### setoperators\n",
    "##### intersection (and)\n",
    "    set4.intersection(set2)\n",
    "    set4&set2\n",
    "    \n",
    "##### union (or)\n",
    "    set4.union(set2)\n",
    "    set4|set2\n",
    "    \n",
    "##### difference \n",
    "    set2 - set4\n",
    "    set2.difference(set4)\n",
    "    \n",
    "##### cardinality(length of a set)\n",
    "    len(set4)\n",
    "    \n",
    "##### exclusion-inclusion principle\n",
    "    len(set4|set2) == len(set4) + len(set2) - len(set2&set4)\n",
    "    \n",
    "##### items in set\n",
    "    4 in set4\n",
    "        \n",
    "##### items not in set\n",
    "    4 not in set4\n",
    "\n",
    "    "
   ]
  },
  {
   "cell_type": "markdown",
   "id": "3a0ebcce",
   "metadata": {},
   "source": [
    "# TUESDAY 16TH SEP,2025"
   ]
  },
  {
   "cell_type": "markdown",
   "id": "7c0dda30",
   "metadata": {},
   "source": [
    "## COMBINATRONICS AND PROBABILITY"
   ]
  },
  {
   "cell_type": "markdown",
   "id": "7af463ef",
   "metadata": {},
   "source": [
    "## SETS"
   ]
  },
  {
   "cell_type": "code",
   "execution_count": 1,
   "id": "e42d798b",
   "metadata": {},
   "outputs": [],
   "source": [
    "set1 = {\"mango\",\"apple\",\"kiwi\",\"quava\",\"orange\"}"
   ]
  },
  {
   "cell_type": "code",
   "execution_count": 2,
   "id": "69656027",
   "metadata": {},
   "outputs": [
    {
     "data": {
      "text/plain": [
       "True"
      ]
     },
     "execution_count": 2,
     "metadata": {},
     "output_type": "execute_result"
    }
   ],
   "source": [
    "# IN the operator used to look iof sth is inside a set\n",
    "# NOT IN \n",
    "\"lemon\" not in set1"
   ]
  },
  {
   "cell_type": "code",
   "execution_count": 3,
   "id": "f911ec24",
   "metadata": {},
   "outputs": [],
   "source": [
    "set2 = {1,2,3,4,5,6,7,8,9,10}\n",
    "set3 = {3,4,5}\n",
    "set4 = {3,4,5}\n",
    "set5 = {6,7,8,9}"
   ]
  },
  {
   "cell_type": "markdown",
   "id": "1fd763af",
   "metadata": {},
   "source": [
    "## Set membership\n",
    "### Subsets\n",
    "- a subset t is said to be a subset of s if every element also t is also a subset of s\n"
   ]
  },
  {
   "cell_type": "code",
   "execution_count": 4,
   "id": "f2bf94ec",
   "metadata": {},
   "outputs": [
    {
     "data": {
      "text/plain": [
       "True"
      ]
     },
     "execution_count": 4,
     "metadata": {},
     "output_type": "execute_result"
    }
   ],
   "source": [
    "set3.issubset(set2)"
   ]
  },
  {
   "cell_type": "code",
   "execution_count": 5,
   "id": "d1dc20aa",
   "metadata": {},
   "outputs": [
    {
     "data": {
      "text/plain": [
       "False"
      ]
     },
     "execution_count": 5,
     "metadata": {},
     "output_type": "execute_result"
    }
   ],
   "source": [
    "set4.issubset(set5)"
   ]
  },
  {
   "cell_type": "code",
   "execution_count": 6,
   "id": "2554c9cc",
   "metadata": {},
   "outputs": [
    {
     "data": {
      "text/plain": [
       "True"
      ]
     },
     "execution_count": 6,
     "metadata": {},
     "output_type": "execute_result"
    }
   ],
   "source": [
    "set4.issubset(set3)"
   ]
  },
  {
   "cell_type": "code",
   "execution_count": 7,
   "id": "098ed7be",
   "metadata": {},
   "outputs": [
    {
     "data": {
      "text/plain": [
       "True"
      ]
     },
     "execution_count": 7,
     "metadata": {},
     "output_type": "execute_result"
    }
   ],
   "source": [
    "# we can use comparison operators to check whether there is a subset\n",
    "set5<=set2"
   ]
  },
  {
   "cell_type": "code",
   "execution_count": 8,
   "id": "511d3d68",
   "metadata": {},
   "outputs": [
    {
     "data": {
      "text/plain": [
       "False"
      ]
     },
     "execution_count": 8,
     "metadata": {},
     "output_type": "execute_result"
    }
   ],
   "source": [
    "set2<=set5"
   ]
  },
  {
   "cell_type": "markdown",
   "id": "47a5247b",
   "metadata": {},
   "source": [
    "#### Proper subset\n",
    "- a set t is a proper subset of s if every element of t is also in set s and the two sets do not contain the exact same elements\n",
    "- denoted nby less than sign <"
   ]
  },
  {
   "cell_type": "code",
   "execution_count": 9,
   "id": "0159db6b",
   "metadata": {},
   "outputs": [
    {
     "data": {
      "text/plain": [
       "False"
      ]
     },
     "execution_count": 9,
     "metadata": {},
     "output_type": "execute_result"
    }
   ],
   "source": [
    "set3 < set4"
   ]
  },
  {
   "cell_type": "code",
   "execution_count": 10,
   "id": "f920761e",
   "metadata": {},
   "outputs": [
    {
     "data": {
      "text/plain": [
       "True"
      ]
     },
     "execution_count": 10,
     "metadata": {},
     "output_type": "execute_result"
    }
   ],
   "source": [
    "set3 < set2"
   ]
  },
  {
   "cell_type": "markdown",
   "id": "f4e6cfe1",
   "metadata": {},
   "source": [
    "#### Super sets\n",
    "- A super set is the inverse of a subset \n",
    "- set2 is a superset of set3 ,set4, set5\n",
    "- set4 is a superset of set3"
   ]
  },
  {
   "cell_type": "code",
   "execution_count": 11,
   "id": "fd152423",
   "metadata": {},
   "outputs": [
    {
     "data": {
      "text/plain": [
       "True"
      ]
     },
     "execution_count": 11,
     "metadata": {},
     "output_type": "execute_result"
    }
   ],
   "source": [
    "# we can use the <= to check if its super set\n",
    "set2 >= set3"
   ]
  },
  {
   "cell_type": "code",
   "execution_count": 12,
   "id": "2fc54adc",
   "metadata": {},
   "outputs": [
    {
     "data": {
      "text/plain": [
       "True"
      ]
     },
     "execution_count": 12,
     "metadata": {},
     "output_type": "execute_result"
    }
   ],
   "source": [
    "# we can use the issuperset method to check if its a super set\n",
    "set2.issuperset(set3)"
   ]
  },
  {
   "cell_type": "code",
   "execution_count": 13,
   "id": "f25e659b",
   "metadata": {},
   "outputs": [
    {
     "data": {
      "text/plain": [
       "True"
      ]
     },
     "execution_count": 13,
     "metadata": {},
     "output_type": "execute_result"
    }
   ],
   "source": [
    "set4 >= set3"
   ]
  },
  {
   "cell_type": "code",
   "execution_count": 14,
   "id": "b2615389",
   "metadata": {},
   "outputs": [
    {
     "data": {
      "text/plain": [
       "True"
      ]
     },
     "execution_count": 14,
     "metadata": {},
     "output_type": "execute_result"
    }
   ],
   "source": [
    "# we use > to check if its a proper set\n",
    "set2 > set5"
   ]
  },
  {
   "cell_type": "code",
   "execution_count": 15,
   "id": "7832da79",
   "metadata": {},
   "outputs": [],
   "source": [
    "set8 = {3,4,5,7}"
   ]
  },
  {
   "cell_type": "code",
   "execution_count": 16,
   "id": "2a554083",
   "metadata": {},
   "outputs": [
    {
     "name": "stdout",
     "output_type": "stream",
     "text": [
      "{3, 5, 7}\n"
     ]
    }
   ],
   "source": [
    "#remove \n",
    "set8.remove(4)\n",
    "print (set8)"
   ]
  },
  {
   "cell_type": "markdown",
   "id": "4c580875",
   "metadata": {},
   "source": [
    "--- to remove an element from a set we can use index or remove"
   ]
  },
  {
   "cell_type": "markdown",
   "id": "57c58cec",
   "metadata": {},
   "source": [
    "## Set operators\n",
    "##### Intersection\n",
    "- only takes the numbers in both sets no duplicates"
   ]
  },
  {
   "cell_type": "code",
   "execution_count": 17,
   "id": "703f2108",
   "metadata": {},
   "outputs": [],
   "source": [
    "set6 = {1,2,3,4,4,5,6,6,6,7,8,9}"
   ]
  },
  {
   "cell_type": "code",
   "execution_count": 18,
   "id": "87190112",
   "metadata": {},
   "outputs": [
    {
     "data": {
      "text/plain": [
       "{1, 2, 3, 4, 5, 6, 7, 8, 9}"
      ]
     },
     "execution_count": 18,
     "metadata": {},
     "output_type": "execute_result"
    }
   ],
   "source": [
    "set6.intersection(set2)"
   ]
  },
  {
   "cell_type": "code",
   "execution_count": 19,
   "id": "6ccfd40b",
   "metadata": {},
   "outputs": [
    {
     "data": {
      "text/plain": [
       "{1, 2, 3, 4, 5, 6, 7, 8, 9}"
      ]
     },
     "execution_count": 19,
     "metadata": {},
     "output_type": "execute_result"
    }
   ],
   "source": [
    "# we can also use &(ampersand sign) operator for intersection\n",
    "set2&set6"
   ]
  },
  {
   "cell_type": "markdown",
   "id": "bebc576f",
   "metadata": {},
   "source": [
    "##### Union"
   ]
  },
  {
   "cell_type": "code",
   "execution_count": 20,
   "id": "c01cee90",
   "metadata": {},
   "outputs": [
    {
     "data": {
      "text/plain": [
       "{1, 2, 3, 4, 5, 6, 7, 8, 9, 10}"
      ]
     },
     "execution_count": 20,
     "metadata": {},
     "output_type": "execute_result"
    }
   ],
   "source": [
    "# set of elements of t and s or in both\n",
    "set2.union(set6)"
   ]
  },
  {
   "cell_type": "code",
   "execution_count": 21,
   "id": "a236cc46",
   "metadata": {},
   "outputs": [
    {
     "data": {
      "text/plain": [
       "{1, 2, 3, 4, 5, 6, 7, 8, 9, 10}"
      ]
     },
     "execution_count": 21,
     "metadata": {},
     "output_type": "execute_result"
    }
   ],
   "source": [
    "# we can use the |(vertical bar sign) to indicate union\n",
    "set2|set6"
   ]
  },
  {
   "cell_type": "markdown",
   "id": "98f79162",
   "metadata": {},
   "source": [
    "##### Relative complement / the difference\n",
    "- elements not in that set"
   ]
  },
  {
   "cell_type": "code",
   "execution_count": 22,
   "id": "32aa79f8",
   "metadata": {},
   "outputs": [
    {
     "data": {
      "text/plain": [
       "{10}"
      ]
     },
     "execution_count": 22,
     "metadata": {},
     "output_type": "execute_result"
    }
   ],
   "source": [
    "# we can use the -(minus) operator\n",
    "set2-set6"
   ]
  },
  {
   "cell_type": "code",
   "execution_count": 23,
   "id": "e1a9c775",
   "metadata": {},
   "outputs": [
    {
     "data": {
      "text/plain": [
       "{10}"
      ]
     },
     "execution_count": 23,
     "metadata": {},
     "output_type": "execute_result"
    }
   ],
   "source": [
    "# always start with the bigger set\n",
    "# we can use the difference method too\n",
    "set2.difference(set6)"
   ]
  },
  {
   "cell_type": "markdown",
   "id": "a89a646b",
   "metadata": {},
   "source": [
    "##### Absolute complement\n",
    "- defines all elements not in the universal set"
   ]
  },
  {
   "cell_type": "markdown",
   "id": "15f0231c",
   "metadata": {},
   "source": [
    "## Additional set attributes\n",
    "##### cardinality \n",
    "- number of elements in a set. "
   ]
  },
  {
   "cell_type": "code",
   "execution_count": 24,
   "id": "d429301a",
   "metadata": {},
   "outputs": [
    {
     "data": {
      "text/plain": [
       "10"
      ]
     },
     "execution_count": 24,
     "metadata": {},
     "output_type": "execute_result"
    }
   ],
   "source": [
    "# we use len to ind cardinality\n",
    "len(set2)"
   ]
  },
  {
   "cell_type": "code",
   "execution_count": 25,
   "id": "4b925931",
   "metadata": {},
   "outputs": [
    {
     "data": {
      "text/plain": [
       "9"
      ]
     },
     "execution_count": 25,
     "metadata": {},
     "output_type": "execute_result"
    }
   ],
   "source": [
    "len(set6)"
   ]
  },
  {
   "cell_type": "markdown",
   "id": "4fe07733",
   "metadata": {},
   "source": [
    "##### exclusion-inclusion principle"
   ]
  },
  {
   "cell_type": "code",
   "execution_count": 26,
   "id": "95885bb6",
   "metadata": {},
   "outputs": [
    {
     "name": "stdout",
     "output_type": "stream",
     "text": [
      "19\n"
     ]
    }
   ],
   "source": [
    "# the duplicates have been removed thats why the methods is called exclusion and inclusion\n",
    "print(len(set2) + len(set6))"
   ]
  },
  {
   "cell_type": "code",
   "execution_count": 27,
   "id": "d67c7a8b",
   "metadata": {},
   "outputs": [
    {
     "data": {
      "text/plain": [
       "9"
      ]
     },
     "execution_count": 27,
     "metadata": {},
     "output_type": "execute_result"
    }
   ],
   "source": [
    "# method of counting number of elements\n",
    "# |S u T| = |S| + |T| - |S n T|\n",
    "# we use cardinality of the union of two sets \n",
    "# hence the cardinality of the unions of set 2 and set 6 is:\n",
    "len(set2) + len(set6) - len(set2) & len(set6)"
   ]
  },
  {
   "cell_type": "code",
   "execution_count": 28,
   "id": "06d344ed",
   "metadata": {},
   "outputs": [
    {
     "data": {
      "text/plain": [
       "True"
      ]
     },
     "execution_count": 28,
     "metadata": {},
     "output_type": "execute_result"
    }
   ],
   "source": [
    "#hence\n",
    "len(set2|set6) == len(set2) +len(set6) - len(set2 & set6)"
   ]
  },
  {
   "cell_type": "markdown",
   "id": "2fbb3af1",
   "metadata": {},
   "source": [
    "--- n this intersection,,, u is the union ,,,,|s| means its a set s  hence |S u T| = |S| + |T| - |S n T|"
   ]
  },
  {
   "cell_type": "code",
   "execution_count": 29,
   "id": "85d7d4c8",
   "metadata": {},
   "outputs": [
    {
     "name": "stdout",
     "output_type": "stream",
     "text": [
      "10\n"
     ]
    }
   ],
   "source": [
    "# union of set2 and set 6\n",
    "print (len(set2|set6))"
   ]
  },
  {
   "cell_type": "markdown",
   "id": "0b0c36a8",
   "metadata": {},
   "source": [
    "## PROBABILITY\n",
    "- likelihood of an event occuring\n",
    "- experiment\n",
    "- event - outcome of a particular experiment\n",
    "- sample space - respresents universe of all possible outcomes\n",
    "- event space - a subset of a sample space"
   ]
  },
  {
   "cell_type": "markdown",
   "id": "a5c09e5f",
   "metadata": {},
   "source": [
    "##### Law of large numbers"
   ]
  },
  {
   "cell_type": "code",
   "execution_count": null,
   "id": "a1bcaa15",
   "metadata": {},
   "outputs": [],
   "source": [
    "# all possible outcomes of a dice \n",
    "# non-negative integers are in sample space.\n",
    "set7 = {1,2,3,4,5,6}\n"
   ]
  },
  {
   "cell_type": "markdown",
   "id": "4a7cb6d5",
   "metadata": {},
   "source": [
    "##### Mutually Inclusive\n",
    "- both events are dependent on each other\n",
    "- hence:\n",
    "     len(setA|setB) == len(setA) +len(setB) - len(setA & setB)\n",
    "\n",
    "##### Mutually Exclusive\n",
    "- Events are not dependent on each other\n",
    "- hence:\n",
    "    len(set2|set6) == len(set2) +len(set6) - 0\n",
    "    - hence:\n",
    "        len(set2|set6) == len(set2) +len(set6)"
   ]
  }
 ],
 "metadata": {
  "kernelspec": {
   "display_name": "my_env",
   "language": "python",
   "name": "python3"
  },
  "language_info": {
   "codemirror_mode": {
    "name": "ipython",
    "version": 3
   },
   "file_extension": ".py",
   "mimetype": "text/x-python",
   "name": "python",
   "nbconvert_exporter": "python",
   "pygments_lexer": "ipython3",
   "version": "3.12.10"
  }
 },
 "nbformat": 4,
 "nbformat_minor": 5
}
