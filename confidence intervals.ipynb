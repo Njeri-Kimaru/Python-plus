{
 "cells": [
  {
   "cell_type": "markdown",
   "id": "75f890f1",
   "metadata": {},
   "source": [
    "##### imports\n",
    "    import numpy as np\n",
    "    import seaborn as sns\n",
    "    import pandas as pd\n",
    "    import scipy.stats as stats\n",
    "    import matplotlib.pyplot as plt\n",
    "    import math\n",
    "    import collections\n",
    "    import itertools\n",
    "    \n",
    "##### creating dataframe\n",
    "    pop_ages = pd.DataFrame(population_ages)\n",
    "    pop_ages\n",
    "    \n",
    "##### mean\n",
    "    pop_mean = sum(population_ages)/len(population_ages)\n",
    "    pop_mean\n",
    "    \n",
    "##### KPI's \n",
    "    pop_ages.describe()\n",
    "    \n",
    "##### histogram\n",
    "    plt.hist(pop_ages)\n",
    "    \n",
    "##### sample mean and median\n",
    "    sample_ages = pop_ages.sample(n=100, random_state=22)\n",
    "    print (sample_ages.mean())\n",
    "    print (sample_ages.median())\n",
    "    \n",
    "### CONFIDENCE INTERVALS\n",
    "##### sample\n",
    "    sample_chol_levels = [66.0, 36.0, 73.0, 48.0, 81.0, 69.0, 75.0, 81.0, 73.0,\n",
    "                      69.0, 101.0, 70.0, 50.0, 42.0, 36.0, 71.0, 65.0, 43.0, 76.0, 24.0]\n",
    "    \n",
    "    sample_chol_levels_array = np.array(sample_chol_levels)\n",
    "    sample_chol_levels_array\n",
    "    \n",
    "##### mean\n",
    "    sample_chol_levels_mean = np.mean(sample_chol_levels_array)\n",
    "    sample_chol_levels_mean\n",
    "    \n",
    "##### standard deviation\n",
    "    sample_chol_levels_std = np.std(sample_chol_levels, ddof = 1)\n",
    "    sample_chol_levels_std\n",
    "    \n",
    "##### standard error\n",
    "    sample_chol_levels_se = sample_chol_levels_std/np.sqrt(len(sample_chol_levels_std))\n",
    "    sample_chol_levels_se\n",
    "    \n",
    "##### confidence intervals\n",
    "    ct = stats.t.interval(confidence=0.95, df=len(sample_chol_levels)-1, loc=sample_chol_levels_mean, scale=sample_chol_levels_se)\n",
    "    ct\n",
    "    \n",
    "##### reading csv\n",
    "    with open(\"tested.csv\",\"r\") as file:\n",
    "        content = file.read\n",
    "        content\n",
    "    \n",
    "##### reading dataframe\n",
    "    df = pd.read_csv(r\"tested.csv\")\n",
    "    df.head()\n",
    "    \n",
    "##### info\n",
    "    df.info()\n",
    "    \n",
    "##### sample\n",
    "    sample_data = df.sample(n=100, random_state=22)\n",
    "    sample_data.head()\n",
    "    \n",
    "##### filling missing values\n",
    "    sample_data[\"Age\"] = sample_data[\"Age\"].fillna(df[\"Age\"].median())\n",
    "    sample_data.info()\n",
    "    \n",
    "##### confidence interval\n",
    "    mu = sample_data[\"Age\"].mean()\n",
    "    mu\n",
    "\n",
    "    sd = np.std(sample_data[\"Age\"], ddof=1)\n",
    "    sd\n",
    "\n",
    "    se = sd/np.sqrt(len(sample_data['Age']))\n",
    "    se\n",
    "\n",
    "    ci = stats.t.interval(confidence=0.99, df=len(sample_data[\"Age\"])-1, loc= x_bar, scale= se)\n",
    "    ci\n",
    "\n",
    "##### plotting\n",
    "    import matplotlib.pyplot as plt\n",
    "    import seaborn as sns\n",
    "    fig, ax = plt.subplots()\n",
    "    ax = sns.kdeplot(sample_data, ax=ax, label='Sample PDF')\n",
    "    ax.axvline(mu, color=\"red\", label=r'$\\bar{x}$')\n",
    "    ax.legend();"
   ]
  },
  {
   "cell_type": "markdown",
   "id": "d49ab4f3",
   "metadata": {},
   "source": [
    "# MONDAY 29TH SEP,2025\n",
    "## CONFIDENCE INTERVALS"
   ]
  },
  {
   "cell_type": "code",
   "execution_count": 1,
   "id": "53659c1b",
   "metadata": {},
   "outputs": [],
   "source": [
    "# Import necessary libraries\n",
    "import numpy as np\n",
    "import scipy.stats as stats\n",
    "import pandas as pd\n",
    "import seaborn as sns\n",
    "import matplotlib.pyplot as plt\n",
    "import math\n",
    "\n",
    "# Plot styles\n",
    "plt.style.use('fivethirtyeight')\n",
    "%config InlineBackend.figure_format = 'retina'\n",
    "%matplotlib inline\n",
    "\n",
    "np.random.seed(15)\n",
    "population_ages1 = stats.poisson.rvs(loc=18, mu=35, size=150000)\n",
    "population_ages2 = stats.poisson.rvs(loc=18, mu=10, size=100000)\n",
    "population_ages = np.concatenate((population_ages1, population_ages2))"
   ]
  },
  {
   "cell_type": "code",
   "execution_count": 2,
   "id": "9ee26cb4",
   "metadata": {},
   "outputs": [
    {
     "data": {
      "text/html": [
       "<div>\n",
       "<style scoped>\n",
       "    .dataframe tbody tr th:only-of-type {\n",
       "        vertical-align: middle;\n",
       "    }\n",
       "\n",
       "    .dataframe tbody tr th {\n",
       "        vertical-align: top;\n",
       "    }\n",
       "\n",
       "    .dataframe thead th {\n",
       "        text-align: right;\n",
       "    }\n",
       "</style>\n",
       "<table border=\"1\" class=\"dataframe\">\n",
       "  <thead>\n",
       "    <tr style=\"text-align: right;\">\n",
       "      <th></th>\n",
       "      <th>0</th>\n",
       "    </tr>\n",
       "  </thead>\n",
       "  <tbody>\n",
       "    <tr>\n",
       "      <th>0</th>\n",
       "      <td>60</td>\n",
       "    </tr>\n",
       "    <tr>\n",
       "      <th>1</th>\n",
       "      <td>40</td>\n",
       "    </tr>\n",
       "    <tr>\n",
       "      <th>2</th>\n",
       "      <td>49</td>\n",
       "    </tr>\n",
       "    <tr>\n",
       "      <th>3</th>\n",
       "      <td>49</td>\n",
       "    </tr>\n",
       "    <tr>\n",
       "      <th>4</th>\n",
       "      <td>44</td>\n",
       "    </tr>\n",
       "    <tr>\n",
       "      <th>...</th>\n",
       "      <td>...</td>\n",
       "    </tr>\n",
       "    <tr>\n",
       "      <th>249995</th>\n",
       "      <td>25</td>\n",
       "    </tr>\n",
       "    <tr>\n",
       "      <th>249996</th>\n",
       "      <td>29</td>\n",
       "    </tr>\n",
       "    <tr>\n",
       "      <th>249997</th>\n",
       "      <td>24</td>\n",
       "    </tr>\n",
       "    <tr>\n",
       "      <th>249998</th>\n",
       "      <td>28</td>\n",
       "    </tr>\n",
       "    <tr>\n",
       "      <th>249999</th>\n",
       "      <td>31</td>\n",
       "    </tr>\n",
       "  </tbody>\n",
       "</table>\n",
       "<p>250000 rows × 1 columns</p>\n",
       "</div>"
      ],
      "text/plain": [
       "         0\n",
       "0       60\n",
       "1       40\n",
       "2       49\n",
       "3       49\n",
       "4       44\n",
       "...     ..\n",
       "249995  25\n",
       "249996  29\n",
       "249997  24\n",
       "249998  28\n",
       "249999  31\n",
       "\n",
       "[250000 rows x 1 columns]"
      ]
     },
     "execution_count": 2,
     "metadata": {},
     "output_type": "execute_result"
    }
   ],
   "source": [
    "pop_ages = pd.DataFrame(population_ages)\n",
    "pop_ages"
   ]
  },
  {
   "cell_type": "code",
   "execution_count": 3,
   "id": "4fc0bf1d",
   "metadata": {},
   "outputs": [
    {
     "data": {
      "text/plain": [
       "np.float64(42.985332)"
      ]
     },
     "execution_count": 3,
     "metadata": {},
     "output_type": "execute_result"
    }
   ],
   "source": [
    "pop_mean = sum(population_ages)/len(population_ages)\n",
    "pop_mean"
   ]
  },
  {
   "cell_type": "code",
   "execution_count": 4,
   "id": "dd43d308",
   "metadata": {},
   "outputs": [
    {
     "data": {
      "text/html": [
       "<div>\n",
       "<style scoped>\n",
       "    .dataframe tbody tr th:only-of-type {\n",
       "        vertical-align: middle;\n",
       "    }\n",
       "\n",
       "    .dataframe tbody tr th {\n",
       "        vertical-align: top;\n",
       "    }\n",
       "\n",
       "    .dataframe thead th {\n",
       "        text-align: right;\n",
       "    }\n",
       "</style>\n",
       "<table border=\"1\" class=\"dataframe\">\n",
       "  <thead>\n",
       "    <tr style=\"text-align: right;\">\n",
       "      <th></th>\n",
       "      <th>0</th>\n",
       "    </tr>\n",
       "  </thead>\n",
       "  <tbody>\n",
       "    <tr>\n",
       "      <th>count</th>\n",
       "      <td>250000.000000</td>\n",
       "    </tr>\n",
       "    <tr>\n",
       "      <th>mean</th>\n",
       "      <td>42.985332</td>\n",
       "    </tr>\n",
       "    <tr>\n",
       "      <th>std</th>\n",
       "      <td>13.211628</td>\n",
       "    </tr>\n",
       "    <tr>\n",
       "      <th>min</th>\n",
       "      <td>18.000000</td>\n",
       "    </tr>\n",
       "    <tr>\n",
       "      <th>25%</th>\n",
       "      <td>29.000000</td>\n",
       "    </tr>\n",
       "    <tr>\n",
       "      <th>50%</th>\n",
       "      <td>47.000000</td>\n",
       "    </tr>\n",
       "    <tr>\n",
       "      <th>75%</th>\n",
       "      <td>54.000000</td>\n",
       "    </tr>\n",
       "    <tr>\n",
       "      <th>max</th>\n",
       "      <td>84.000000</td>\n",
       "    </tr>\n",
       "  </tbody>\n",
       "</table>\n",
       "</div>"
      ],
      "text/plain": [
       "                   0\n",
       "count  250000.000000\n",
       "mean       42.985332\n",
       "std        13.211628\n",
       "min        18.000000\n",
       "25%        29.000000\n",
       "50%        47.000000\n",
       "75%        54.000000\n",
       "max        84.000000"
      ]
     },
     "execution_count": 4,
     "metadata": {},
     "output_type": "execute_result"
    }
   ],
   "source": [
    "pop_ages.describe()"
   ]
  },
  {
   "cell_type": "code",
   "execution_count": 5,
   "id": "cad6b72c",
   "metadata": {},
   "outputs": [
    {
     "data": {
      "text/plain": [
       "(array([1.2884e+04, 7.3599e+04, 1.3532e+04, 1.0686e+04, 4.1189e+04,\n",
       "        6.5358e+04, 2.8330e+04, 4.0270e+03, 3.7700e+02, 1.8000e+01]),\n",
       " array([18. , 24.6, 31.2, 37.8, 44.4, 51. , 57.6, 64.2, 70.8, 77.4, 84. ]),\n",
       " <BarContainer object of 10 artists>)"
      ]
     },
     "execution_count": 5,
     "metadata": {},
     "output_type": "execute_result"
    },
    {
     "data": {
      "image/png": "[encoded data removed]",
      "text/plain": [
       "<Figure size 640x480 with 1 Axes>"
      ]
     },
     "metadata": {
      "image/png": {
       "height": 432,
       "width": 643
      }
     },
     "output_type": "display_data"
    }
   ],
   "source": [
    "plt.hist(pop_ages)"
   ]
  },
  {
   "cell_type": "code",
   "execution_count": 6,
   "id": "3c5729e7",
   "metadata": {},
   "outputs": [
    {
     "name": "stdout",
     "output_type": "stream",
     "text": [
      "0    42.672\n",
      "dtype: float64\n",
      "0    13.314766\n",
      "dtype: float64\n"
     ]
    }
   ],
   "source": [
    "sample = pop_ages.sample(n=500,random_state=22)\n",
    "print (sample.mean())\n",
    "print (sample.std())"
   ]
  },
  {
   "cell_type": "code",
   "execution_count": 7,
   "id": "60070f2d",
   "metadata": {},
   "outputs": [],
   "source": [
    "def conf_interval(pop, sample):\n",
    "    '''\n",
    "    Function input: population , sample \n",
    "    Function output: z-critical, Margin of error, Confidence interval\n",
    "    '''\n",
    "    sample_size = 500\n",
    "    n = len(sample)\n",
    "    x_hat = sample.mean()\n",
    "\n",
    "    # Calculate the z-critical value using stats.norm.ppf()\n",
    "    # Note that we use stats.norm.ppf(q = 0.975) to get the desired z-critical value \n",
    "    # instead of q = 0.95 because the distribution has two tails.\n",
    "    z = None  #  z-critical value for 95% confidence\n",
    "\n",
    "    #Calculate the population std from data\n",
    "    pop_stdev = None\n",
    "\n",
    "    # Calculate the margin of error using formula given above\n",
    "    moe = None\n",
    "\n",
    "    # Calculate the confidence interval by applying margin of error to sample mean \n",
    "    # (mean - margin of error, mean+ margin of error)\n",
    "    conf = None\n",
    "    \n",
    "    return z, moe, conf\n",
    "\n",
    "# Call above function with sample and population \n",
    "#z_critical, margin_of_error, confidence_interval = conf_interval(population_ages, sample)    \n",
    "    \n",
    "    \n",
    "\n",
    "# print(\"z-critical value:\")              \n",
    "# print(z_critical)         \n",
    "# print ('\\nMargin of error')\n",
    "# print(margin_of_error)\n",
    "# print(\"\\nConfidence interval:\")\n",
    "# print(confidence_interval)\n",
    "\n",
    "# z-critical value:\n",
    "# 1.959963984540054\n",
    "\n",
    "# Margin of error\n",
    "# 1.158026699800684\n",
    "\n",
    "# Confidence interval:\n",
    "# (41.86997330019931, 44.186026699800685)"
   ]
  },
  {
   "cell_type": "code",
   "execution_count": 8,
   "id": "bcd00bda",
   "metadata": {},
   "outputs": [],
   "source": [
    "# degrees of freedom"
   ]
  },
  {
   "cell_type": "markdown",
   "id": "3e294e12",
   "metadata": {},
   "source": [
    "### mean"
   ]
  },
  {
   "cell_type": "code",
   "execution_count": 9,
   "id": "650aa812",
   "metadata": {},
   "outputs": [],
   "source": [
    "sample_chol_levels = [66.0, 36.0, 73.0, 48.0, 81.0, 69.0, 75.0, 81.0, 73.0,\n",
    "                      69.0, 101.0, 70.0, 50.0, 42.0, 36.0, 71.0, 65.0, 43.0, 76.0, 24.0]"
   ]
  },
  {
   "cell_type": "code",
   "execution_count": 10,
   "id": "e5fd3d90",
   "metadata": {},
   "outputs": [
    {
     "data": {
      "text/plain": [
       "62.45"
      ]
     },
     "execution_count": 10,
     "metadata": {},
     "output_type": "execute_result"
    }
   ],
   "source": [
    "sample_chol_levels_mean = sum(sample_chol_levels)/len(sample_chol_levels)\n",
    "sample_chol_levels_mean"
   ]
  },
  {
   "cell_type": "markdown",
   "id": "eb94ecd1",
   "metadata": {},
   "source": [
    "### mean using numpy"
   ]
  },
  {
   "cell_type": "code",
   "execution_count": 11,
   "id": "b5ab2d38",
   "metadata": {},
   "outputs": [
    {
     "data": {
      "text/plain": [
       "array([ 66.,  36.,  73.,  48.,  81.,  69.,  75.,  81.,  73.,  69., 101.,\n",
       "        70.,  50.,  42.,  36.,  71.,  65.,  43.,  76.,  24.])"
      ]
     },
     "execution_count": 11,
     "metadata": {},
     "output_type": "execute_result"
    }
   ],
   "source": [
    "chol_levels = np.array(sample_chol_levels)\n",
    "chol_levels"
   ]
  },
  {
   "cell_type": "code",
   "execution_count": 27,
   "id": "2b75dd5c",
   "metadata": {},
   "outputs": [
    {
     "data": {
      "text/plain": [
       "np.float64(62.45)"
      ]
     },
     "execution_count": 27,
     "metadata": {},
     "output_type": "execute_result"
    }
   ],
   "source": [
    "chol_levels.mean()"
   ]
  },
  {
   "cell_type": "code",
   "execution_count": 12,
   "id": "5d51758c",
   "metadata": {},
   "outputs": [
    {
     "data": {
      "text/plain": [
       "np.float64(62.45)"
      ]
     },
     "execution_count": 12,
     "metadata": {},
     "output_type": "execute_result"
    }
   ],
   "source": [
    "chol_levels_mean = np.mean(chol_levels)\n",
    "chol_levels_mean"
   ]
  },
  {
   "cell_type": "markdown",
   "id": "697ce689",
   "metadata": {},
   "source": [
    "# TUESDAY 30TH SEP,2025"
   ]
  },
  {
   "cell_type": "markdown",
   "id": "de760726",
   "metadata": {},
   "source": [
    "### standard deviation"
   ]
  },
  {
   "cell_type": "code",
   "execution_count": 28,
   "id": "e3d3b869",
   "metadata": {},
   "outputs": [
    {
     "data": {
      "text/plain": [
       "np.float64(19.209304214912432)"
      ]
     },
     "execution_count": 28,
     "metadata": {},
     "output_type": "execute_result"
    }
   ],
   "source": [
    "# x_bar = np.mean(sample_chol_levels)\n",
    "chol_levels_std = np.std(sample_chol_levels, ddof = 1)\n",
    "chol_levels_std"
   ]
  },
  {
   "cell_type": "markdown",
   "id": "d2025f02",
   "metadata": {},
   "source": [
    "### standard error"
   ]
  },
  {
   "cell_type": "code",
   "execution_count": 59,
   "id": "cd75eb4d",
   "metadata": {},
   "outputs": [
    {
     "data": {
      "text/plain": [
       "np.float64(4.295331002501743)"
      ]
     },
     "execution_count": 59,
     "metadata": {},
     "output_type": "execute_result"
    }
   ],
   "source": [
    "chol_levels_se = chol_levels_std/(np.sqrt(len(sample_chol_levels)))\n",
    "chol_levels_se"
   ]
  },
  {
   "cell_type": "markdown",
   "id": "7e37e855",
   "metadata": {},
   "source": [
    "### confidence interval"
   ]
  },
  {
   "cell_type": "code",
   "execution_count": 21,
   "id": "07e101e7",
   "metadata": {},
   "outputs": [
    {
     "data": {
      "text/plain": [
       "(np.float64(53.4597688901183), np.float64(71.44023110988171))"
      ]
     },
     "execution_count": 21,
     "metadata": {},
     "output_type": "execute_result"
    }
   ],
   "source": [
    "ct = stats.t.interval(confidence=0.95, df=len(sample_chol_levels)-1, loc=chol_levels_mean, scale=chol_levels_se)\n",
    "ct"
   ]
  },
  {
   "cell_type": "markdown",
   "id": "336e1691",
   "metadata": {},
   "source": [
    "### question\n",
    "- we start with\n",
    "  - arrays-  np.array(data)\n",
    "  - mean-  np.mean(data)\n",
    "  - std deviation-  np.std(data, ddof = 1)\n",
    "  - std error-  data_std/np.sqrt(len(data))\n",
    "  - confidence interval-  stats.t.interval(confidence= 0.95, df=len(data)-1, loc=data_mean, scale= data_se)"
   ]
  },
  {
   "cell_type": "code",
   "execution_count": 30,
   "id": "563cfc32",
   "metadata": {},
   "outputs": [
    {
     "data": {
      "text/plain": [
       "array([56.3, 60. , 61. , 63. , 65. , 67. , 69. , 70. , 73. , 74.5])"
      ]
     },
     "execution_count": 30,
     "metadata": {},
     "output_type": "execute_result"
    }
   ],
   "source": [
    "# WEIGHT OF PEOPLE,, 10 VALUES BETWEEN 55 AND 75\n",
    "sample_weights = [56.3, 60,61,63,65,67,69,70,73,74.5]\n",
    "sample_weights_array = np.array(sample_weights)\n",
    "sample_weights_array"
   ]
  },
  {
   "cell_type": "code",
   "execution_count": 62,
   "id": "c948e181",
   "metadata": {},
   "outputs": [
    {
     "data": {
      "text/plain": [
       "np.float64(65.88)"
      ]
     },
     "execution_count": 62,
     "metadata": {},
     "output_type": "execute_result"
    }
   ],
   "source": [
    "sampleweights_mean = np.mean(sample_weights_array)\n",
    "sampleweights_mean"
   ]
  },
  {
   "cell_type": "code",
   "execution_count": 60,
   "id": "27c2bfff",
   "metadata": {},
   "outputs": [
    {
     "data": {
      "text/plain": [
       "np.float64(65.88)"
      ]
     },
     "execution_count": 60,
     "metadata": {},
     "output_type": "execute_result"
    }
   ],
   "source": [
    "sample_weights_mean = np.mean(sample_weights)\n",
    "sample_weights_mean"
   ]
  },
  {
   "cell_type": "code",
   "execution_count": 65,
   "id": "57172dcf",
   "metadata": {},
   "outputs": [
    {
     "data": {
      "text/plain": [
       "np.float64(5.889689673017115)"
      ]
     },
     "execution_count": 65,
     "metadata": {},
     "output_type": "execute_result"
    }
   ],
   "source": [
    "sample_weights_std = np.std(sample_weights,ddof= 1)\n",
    "sample_weights_std"
   ]
  },
  {
   "cell_type": "code",
   "execution_count": 33,
   "id": "b5fd3c94",
   "metadata": {},
   "outputs": [
    {
     "data": {
      "text/plain": [
       "np.float64(1.7669069019051342)"
      ]
     },
     "execution_count": 33,
     "metadata": {},
     "output_type": "execute_result"
    }
   ],
   "source": [
    "sample_weights_se = sample_weights_std/np.sqrt(len(sample_weights_array))\n",
    "sample_weights_se"
   ]
  },
  {
   "cell_type": "code",
   "execution_count": 34,
   "id": "705f955d",
   "metadata": {},
   "outputs": [
    {
     "data": {
      "text/plain": [
       "(np.float64(61.88297889575895), np.float64(69.87702110424104))"
      ]
     },
     "execution_count": 34,
     "metadata": {},
     "output_type": "execute_result"
    }
   ],
   "source": [
    "confidence_intervals = stats.t.interval(confidence=0.95, df=len(sample_weights)-1, loc=sample_weights_mean, scale=sample_weights_se)\n",
    "confidence_intervals"
   ]
  },
  {
   "cell_type": "markdown",
   "id": "f93f661d",
   "metadata": {},
   "source": [
    "### titanic data set"
   ]
  },
  {
   "cell_type": "code",
   "execution_count": 36,
   "id": "0e7df0f2",
   "metadata": {},
   "outputs": [
    {
     "data": {
      "text/html": [
       "<div>\n",
       "<style scoped>\n",
       "    .dataframe tbody tr th:only-of-type {\n",
       "        vertical-align: middle;\n",
       "    }\n",
       "\n",
       "    .dataframe tbody tr th {\n",
       "        vertical-align: top;\n",
       "    }\n",
       "\n",
       "    .dataframe thead th {\n",
       "        text-align: right;\n",
       "    }\n",
       "</style>\n",
       "<table border=\"1\" class=\"dataframe\">\n",
       "  <thead>\n",
       "    <tr style=\"text-align: right;\">\n",
       "      <th></th>\n",
       "      <th>PassengerId</th>\n",
       "      <th>Survived</th>\n",
       "      <th>Pclass</th>\n",
       "      <th>Name</th>\n",
       "      <th>Sex</th>\n",
       "      <th>Age</th>\n",
       "      <th>SibSp</th>\n",
       "      <th>Parch</th>\n",
       "      <th>Ticket</th>\n",
       "      <th>Fare</th>\n",
       "      <th>Cabin</th>\n",
       "      <th>Embarked</th>\n",
       "    </tr>\n",
       "  </thead>\n",
       "  <tbody>\n",
       "    <tr>\n",
       "      <th>0</th>\n",
       "      <td>892</td>\n",
       "      <td>0</td>\n",
       "      <td>3</td>\n",
       "      <td>Kelly, Mr. James</td>\n",
       "      <td>male</td>\n",
       "      <td>34.5</td>\n",
       "      <td>0</td>\n",
       "      <td>0</td>\n",
       "      <td>330911</td>\n",
       "      <td>7.8292</td>\n",
       "      <td>NaN</td>\n",
       "      <td>Q</td>\n",
       "    </tr>\n",
       "    <tr>\n",
       "      <th>1</th>\n",
       "      <td>893</td>\n",
       "      <td>1</td>\n",
       "      <td>3</td>\n",
       "      <td>Wilkes, Mrs. James (Ellen Needs)</td>\n",
       "      <td>female</td>\n",
       "      <td>47.0</td>\n",
       "      <td>1</td>\n",
       "      <td>0</td>\n",
       "      <td>363272</td>\n",
       "      <td>7.0000</td>\n",
       "      <td>NaN</td>\n",
       "      <td>S</td>\n",
       "    </tr>\n",
       "    <tr>\n",
       "      <th>2</th>\n",
       "      <td>894</td>\n",
       "      <td>0</td>\n",
       "      <td>2</td>\n",
       "      <td>Myles, Mr. Thomas Francis</td>\n",
       "      <td>male</td>\n",
       "      <td>62.0</td>\n",
       "      <td>0</td>\n",
       "      <td>0</td>\n",
       "      <td>240276</td>\n",
       "      <td>9.6875</td>\n",
       "      <td>NaN</td>\n",
       "      <td>Q</td>\n",
       "    </tr>\n",
       "    <tr>\n",
       "      <th>3</th>\n",
       "      <td>895</td>\n",
       "      <td>0</td>\n",
       "      <td>3</td>\n",
       "      <td>Wirz, Mr. Albert</td>\n",
       "      <td>male</td>\n",
       "      <td>27.0</td>\n",
       "      <td>0</td>\n",
       "      <td>0</td>\n",
       "      <td>315154</td>\n",
       "      <td>8.6625</td>\n",
       "      <td>NaN</td>\n",
       "      <td>S</td>\n",
       "    </tr>\n",
       "    <tr>\n",
       "      <th>4</th>\n",
       "      <td>896</td>\n",
       "      <td>1</td>\n",
       "      <td>3</td>\n",
       "      <td>Hirvonen, Mrs. Alexander (Helga E Lindqvist)</td>\n",
       "      <td>female</td>\n",
       "      <td>22.0</td>\n",
       "      <td>1</td>\n",
       "      <td>1</td>\n",
       "      <td>3101298</td>\n",
       "      <td>12.2875</td>\n",
       "      <td>NaN</td>\n",
       "      <td>S</td>\n",
       "    </tr>\n",
       "  </tbody>\n",
       "</table>\n",
       "</div>"
      ],
      "text/plain": [
       "   PassengerId  Survived  Pclass  \\\n",
       "0          892         0       3   \n",
       "1          893         1       3   \n",
       "2          894         0       2   \n",
       "3          895         0       3   \n",
       "4          896         1       3   \n",
       "\n",
       "                                           Name     Sex   Age  SibSp  Parch  \\\n",
       "0                              Kelly, Mr. James    male  34.5      0      0   \n",
       "1              Wilkes, Mrs. James (Ellen Needs)  female  47.0      1      0   \n",
       "2                     Myles, Mr. Thomas Francis    male  62.0      0      0   \n",
       "3                              Wirz, Mr. Albert    male  27.0      0      0   \n",
       "4  Hirvonen, Mrs. Alexander (Helga E Lindqvist)  female  22.0      1      1   \n",
       "\n",
       "    Ticket     Fare Cabin Embarked  \n",
       "0   330911   7.8292   NaN        Q  \n",
       "1   363272   7.0000   NaN        S  \n",
       "2   240276   9.6875   NaN        Q  \n",
       "3   315154   8.6625   NaN        S  \n",
       "4  3101298  12.2875   NaN        S  "
      ]
     },
     "execution_count": 36,
     "metadata": {},
     "output_type": "execute_result"
    }
   ],
   "source": [
    "data = pd.read_csv(r\"tested.csv\")\n",
    "data.head()"
   ]
  },
  {
   "cell_type": "code",
   "execution_count": 40,
   "id": "ba1d0c75",
   "metadata": {},
   "outputs": [
    {
     "data": {
      "text/html": [
       "<div>\n",
       "<style scoped>\n",
       "    .dataframe tbody tr th:only-of-type {\n",
       "        vertical-align: middle;\n",
       "    }\n",
       "\n",
       "    .dataframe tbody tr th {\n",
       "        vertical-align: top;\n",
       "    }\n",
       "\n",
       "    .dataframe thead th {\n",
       "        text-align: right;\n",
       "    }\n",
       "</style>\n",
       "<table border=\"1\" class=\"dataframe\">\n",
       "  <thead>\n",
       "    <tr style=\"text-align: right;\">\n",
       "      <th></th>\n",
       "      <th>PassengerId</th>\n",
       "      <th>Survived</th>\n",
       "      <th>Pclass</th>\n",
       "      <th>Name</th>\n",
       "      <th>Sex</th>\n",
       "      <th>Age</th>\n",
       "      <th>SibSp</th>\n",
       "      <th>Parch</th>\n",
       "      <th>Ticket</th>\n",
       "      <th>Fare</th>\n",
       "      <th>Cabin</th>\n",
       "      <th>Embarked</th>\n",
       "    </tr>\n",
       "  </thead>\n",
       "  <tbody>\n",
       "    <tr>\n",
       "      <th>46</th>\n",
       "      <td>938</td>\n",
       "      <td>0</td>\n",
       "      <td>1</td>\n",
       "      <td>Chevre, Mr. Paul Romaine</td>\n",
       "      <td>male</td>\n",
       "      <td>45.0</td>\n",
       "      <td>0</td>\n",
       "      <td>0</td>\n",
       "      <td>PC 17594</td>\n",
       "      <td>29.7000</td>\n",
       "      <td>A9</td>\n",
       "      <td>C</td>\n",
       "    </tr>\n",
       "    <tr>\n",
       "      <th>271</th>\n",
       "      <td>1163</td>\n",
       "      <td>0</td>\n",
       "      <td>3</td>\n",
       "      <td>Fox, Mr. Patrick</td>\n",
       "      <td>male</td>\n",
       "      <td>NaN</td>\n",
       "      <td>0</td>\n",
       "      <td>0</td>\n",
       "      <td>368573</td>\n",
       "      <td>7.7500</td>\n",
       "      <td>NaN</td>\n",
       "      <td>Q</td>\n",
       "    </tr>\n",
       "    <tr>\n",
       "      <th>40</th>\n",
       "      <td>932</td>\n",
       "      <td>0</td>\n",
       "      <td>3</td>\n",
       "      <td>Karun, Mr. Franz</td>\n",
       "      <td>male</td>\n",
       "      <td>39.0</td>\n",
       "      <td>0</td>\n",
       "      <td>1</td>\n",
       "      <td>349256</td>\n",
       "      <td>13.4167</td>\n",
       "      <td>NaN</td>\n",
       "      <td>C</td>\n",
       "    </tr>\n",
       "    <tr>\n",
       "      <th>388</th>\n",
       "      <td>1280</td>\n",
       "      <td>0</td>\n",
       "      <td>3</td>\n",
       "      <td>Canavan, Mr. Patrick</td>\n",
       "      <td>male</td>\n",
       "      <td>21.0</td>\n",
       "      <td>0</td>\n",
       "      <td>0</td>\n",
       "      <td>364858</td>\n",
       "      <td>7.7500</td>\n",
       "      <td>NaN</td>\n",
       "      <td>Q</td>\n",
       "    </tr>\n",
       "    <tr>\n",
       "      <th>71</th>\n",
       "      <td>963</td>\n",
       "      <td>0</td>\n",
       "      <td>3</td>\n",
       "      <td>Minkoff, Mr. Lazar</td>\n",
       "      <td>male</td>\n",
       "      <td>21.0</td>\n",
       "      <td>0</td>\n",
       "      <td>0</td>\n",
       "      <td>349211</td>\n",
       "      <td>7.8958</td>\n",
       "      <td>NaN</td>\n",
       "      <td>S</td>\n",
       "    </tr>\n",
       "  </tbody>\n",
       "</table>\n",
       "</div>"
      ],
      "text/plain": [
       "     PassengerId  Survived  Pclass                      Name   Sex   Age  \\\n",
       "46           938         0       1  Chevre, Mr. Paul Romaine  male  45.0   \n",
       "271         1163         0       3          Fox, Mr. Patrick  male   NaN   \n",
       "40           932         0       3          Karun, Mr. Franz  male  39.0   \n",
       "388         1280         0       3      Canavan, Mr. Patrick  male  21.0   \n",
       "71           963         0       3        Minkoff, Mr. Lazar  male  21.0   \n",
       "\n",
       "     SibSp  Parch    Ticket     Fare Cabin Embarked  \n",
       "46       0      0  PC 17594  29.7000    A9        C  \n",
       "271      0      0    368573   7.7500   NaN        Q  \n",
       "40       0      1    349256  13.4167   NaN        C  \n",
       "388      0      0    364858   7.7500   NaN        Q  \n",
       "71       0      0    349211   7.8958   NaN        S  "
      ]
     },
     "execution_count": 40,
     "metadata": {},
     "output_type": "execute_result"
    }
   ],
   "source": [
    "sample_data = data.sample(n=100,random_state=22)\n",
    "sample_data.head()"
   ]
  },
  {
   "cell_type": "code",
   "execution_count": 37,
   "id": "1fad23cc",
   "metadata": {},
   "outputs": [
    {
     "name": "stdout",
     "output_type": "stream",
     "text": [
      "<class 'pandas.core.frame.DataFrame'>\n",
      "RangeIndex: 418 entries, 0 to 417\n",
      "Data columns (total 12 columns):\n",
      " #   Column       Non-Null Count  Dtype  \n",
      "---  ------       --------------  -----  \n",
      " 0   PassengerId  418 non-null    int64  \n",
      " 1   Survived     418 non-null    int64  \n",
      " 2   Pclass       418 non-null    int64  \n",
      " 3   Name         418 non-null    object \n",
      " 4   Sex          418 non-null    object \n",
      " 5   Age          332 non-null    float64\n",
      " 6   SibSp        418 non-null    int64  \n",
      " 7   Parch        418 non-null    int64  \n",
      " 8   Ticket       418 non-null    object \n",
      " 9   Fare         417 non-null    float64\n",
      " 10  Cabin        91 non-null     object \n",
      " 11  Embarked     418 non-null    object \n",
      "dtypes: float64(2), int64(5), object(5)\n",
      "memory usage: 39.3+ KB\n"
     ]
    }
   ],
   "source": [
    "data.info()"
   ]
  },
  {
   "cell_type": "code",
   "execution_count": 54,
   "id": "99c1f330",
   "metadata": {},
   "outputs": [
    {
     "data": {
      "text/html": [
       "<div>\n",
       "<style scoped>\n",
       "    .dataframe tbody tr th:only-of-type {\n",
       "        vertical-align: middle;\n",
       "    }\n",
       "\n",
       "    .dataframe tbody tr th {\n",
       "        vertical-align: top;\n",
       "    }\n",
       "\n",
       "    .dataframe thead th {\n",
       "        text-align: right;\n",
       "    }\n",
       "</style>\n",
       "<table border=\"1\" class=\"dataframe\">\n",
       "  <thead>\n",
       "    <tr style=\"text-align: right;\">\n",
       "      <th></th>\n",
       "      <th>PassengerId</th>\n",
       "      <th>Survived</th>\n",
       "      <th>Pclass</th>\n",
       "      <th>Name</th>\n",
       "      <th>Sex</th>\n",
       "      <th>Age</th>\n",
       "      <th>SibSp</th>\n",
       "      <th>Parch</th>\n",
       "      <th>Ticket</th>\n",
       "      <th>Fare</th>\n",
       "      <th>Cabin</th>\n",
       "      <th>Embarked</th>\n",
       "    </tr>\n",
       "  </thead>\n",
       "  <tbody>\n",
       "    <tr>\n",
       "      <th>46</th>\n",
       "      <td>938</td>\n",
       "      <td>0</td>\n",
       "      <td>1</td>\n",
       "      <td>Chevre, Mr. Paul Romaine</td>\n",
       "      <td>male</td>\n",
       "      <td>45.0</td>\n",
       "      <td>0</td>\n",
       "      <td>0</td>\n",
       "      <td>PC 17594</td>\n",
       "      <td>29.7000</td>\n",
       "      <td>A9</td>\n",
       "      <td>C</td>\n",
       "    </tr>\n",
       "    <tr>\n",
       "      <th>271</th>\n",
       "      <td>1163</td>\n",
       "      <td>0</td>\n",
       "      <td>3</td>\n",
       "      <td>Fox, Mr. Patrick</td>\n",
       "      <td>male</td>\n",
       "      <td>27.0</td>\n",
       "      <td>0</td>\n",
       "      <td>0</td>\n",
       "      <td>368573</td>\n",
       "      <td>7.7500</td>\n",
       "      <td>NaN</td>\n",
       "      <td>Q</td>\n",
       "    </tr>\n",
       "    <tr>\n",
       "      <th>40</th>\n",
       "      <td>932</td>\n",
       "      <td>0</td>\n",
       "      <td>3</td>\n",
       "      <td>Karun, Mr. Franz</td>\n",
       "      <td>male</td>\n",
       "      <td>39.0</td>\n",
       "      <td>0</td>\n",
       "      <td>1</td>\n",
       "      <td>349256</td>\n",
       "      <td>13.4167</td>\n",
       "      <td>NaN</td>\n",
       "      <td>C</td>\n",
       "    </tr>\n",
       "    <tr>\n",
       "      <th>388</th>\n",
       "      <td>1280</td>\n",
       "      <td>0</td>\n",
       "      <td>3</td>\n",
       "      <td>Canavan, Mr. Patrick</td>\n",
       "      <td>male</td>\n",
       "      <td>21.0</td>\n",
       "      <td>0</td>\n",
       "      <td>0</td>\n",
       "      <td>364858</td>\n",
       "      <td>7.7500</td>\n",
       "      <td>NaN</td>\n",
       "      <td>Q</td>\n",
       "    </tr>\n",
       "    <tr>\n",
       "      <th>71</th>\n",
       "      <td>963</td>\n",
       "      <td>0</td>\n",
       "      <td>3</td>\n",
       "      <td>Minkoff, Mr. Lazar</td>\n",
       "      <td>male</td>\n",
       "      <td>21.0</td>\n",
       "      <td>0</td>\n",
       "      <td>0</td>\n",
       "      <td>349211</td>\n",
       "      <td>7.8958</td>\n",
       "      <td>NaN</td>\n",
       "      <td>S</td>\n",
       "    </tr>\n",
       "  </tbody>\n",
       "</table>\n",
       "</div>"
      ],
      "text/plain": [
       "     PassengerId  Survived  Pclass                      Name   Sex   Age  \\\n",
       "46           938         0       1  Chevre, Mr. Paul Romaine  male  45.0   \n",
       "271         1163         0       3          Fox, Mr. Patrick  male  27.0   \n",
       "40           932         0       3          Karun, Mr. Franz  male  39.0   \n",
       "388         1280         0       3      Canavan, Mr. Patrick  male  21.0   \n",
       "71           963         0       3        Minkoff, Mr. Lazar  male  21.0   \n",
       "\n",
       "     SibSp  Parch    Ticket     Fare Cabin Embarked  \n",
       "46       0      0  PC 17594  29.7000    A9        C  \n",
       "271      0      0    368573   7.7500   NaN        Q  \n",
       "40       0      1    349256  13.4167   NaN        C  \n",
       "388      0      0    364858   7.7500   NaN        Q  \n",
       "71       0      0    349211   7.8958   NaN        S  "
      ]
     },
     "execution_count": 54,
     "metadata": {},
     "output_type": "execute_result"
    }
   ],
   "source": [
    "sample_data[\"Age\"] = sample_data[\"Age\"].fillna(data[\"Age\"].median())\n",
    "sample_data.head()"
   ]
  },
  {
   "cell_type": "code",
   "execution_count": 55,
   "id": "72ef3f1b",
   "metadata": {},
   "outputs": [
    {
     "name": "stdout",
     "output_type": "stream",
     "text": [
      "<class 'pandas.core.frame.DataFrame'>\n",
      "Index: 100 entries, 46 to 36\n",
      "Data columns (total 12 columns):\n",
      " #   Column       Non-Null Count  Dtype  \n",
      "---  ------       --------------  -----  \n",
      " 0   PassengerId  100 non-null    int64  \n",
      " 1   Survived     100 non-null    int64  \n",
      " 2   Pclass       100 non-null    int64  \n",
      " 3   Name         100 non-null    object \n",
      " 4   Sex          100 non-null    object \n",
      " 5   Age          100 non-null    float64\n",
      " 6   SibSp        100 non-null    int64  \n",
      " 7   Parch        100 non-null    int64  \n",
      " 8   Ticket       100 non-null    object \n",
      " 9   Fare         99 non-null     float64\n",
      " 10  Cabin        23 non-null     object \n",
      " 11  Embarked     100 non-null    object \n",
      "dtypes: float64(2), int64(5), object(5)\n",
      "memory usage: 10.2+ KB\n"
     ]
    }
   ],
   "source": [
    "sample_data.info()"
   ]
  },
  {
   "cell_type": "code",
   "execution_count": 41,
   "id": "99885723",
   "metadata": {},
   "outputs": [],
   "source": [
    "age = sample_data[\"Age\"]"
   ]
  },
  {
   "cell_type": "code",
   "execution_count": 42,
   "id": "311b3a24",
   "metadata": {},
   "outputs": [
    {
     "data": {
      "text/plain": [
       "np.float64(30.272590361445783)"
      ]
     },
     "execution_count": 42,
     "metadata": {},
     "output_type": "execute_result"
    }
   ],
   "source": [
    "mu = data[\"Age\"].mean()\n",
    "mu"
   ]
  },
  {
   "cell_type": "code",
   "execution_count": 43,
   "id": "485598f0",
   "metadata": {},
   "outputs": [
    {
     "data": {
      "text/plain": [
       "np.float64(30.300853658536585)"
      ]
     },
     "execution_count": 43,
     "metadata": {},
     "output_type": "execute_result"
    }
   ],
   "source": [
    "x_bar = age.mean()\n",
    "x_bar"
   ]
  },
  {
   "cell_type": "code",
   "execution_count": 44,
   "id": "9bba5a6f",
   "metadata": {},
   "outputs": [
    {
     "data": {
      "text/plain": [
       "np.float64(15.408746450101155)"
      ]
     },
     "execution_count": 44,
     "metadata": {},
     "output_type": "execute_result"
    }
   ],
   "source": [
    "sd = np.std(age, ddof=1)\n",
    "sd"
   ]
  },
  {
   "cell_type": "code",
   "execution_count": 51,
   "id": "3006111d",
   "metadata": {},
   "outputs": [
    {
     "data": {
      "text/plain": [
       "np.float64(1.5408746450101156)"
      ]
     },
     "execution_count": 51,
     "metadata": {},
     "output_type": "execute_result"
    }
   ],
   "source": [
    "se = sd/np.sqrt(len(sample_data[\"Age\"]))\n",
    "se"
   ]
  },
  {
   "cell_type": "code",
   "execution_count": 56,
   "id": "21e66753",
   "metadata": {},
   "outputs": [
    {
     "data": {
      "text/plain": [
       "(np.float64(26.25389208189636), np.float64(34.34781523517681))"
      ]
     },
     "execution_count": 56,
     "metadata": {},
     "output_type": "execute_result"
    }
   ],
   "source": [
    "ci = stats.t.interval(confidence=0.99, df=len(sample_data[\"Age\"])-1, loc= x_bar, scale= se)\n",
    "ci"
   ]
  },
  {
   "cell_type": "markdown",
   "id": "667c466a",
   "metadata": {},
   "source": [
    "# WEDNESDAY 1ST OCT,2025"
   ]
  },
  {
   "cell_type": "code",
   "execution_count": 1,
   "id": "8c2ac9c9",
   "metadata": {},
   "outputs": [],
   "source": [
    "import numpy as np\n",
    "from scipy import stats\n",
    "sample = np.array([15.46097664, 15.5930238 , 19.55426936, 16.54231132, 18.40712804,\n",
    "                   13.33092129, 13.79141786, 12.44315636, 15.70385525, 12.48722755,\n",
    "                   11.81594655, 15.22694063, 18.25064431, 15.93900563, 17.38471543,\n",
    "                   15.02334988, 14.55826229, 16.64212199, 16.50657618, 13.44759329,\n",
    "                   13.05467437, 14.151049  , 13.55036322, 13.37386788, 10.25090132,\n",
    "                   16.45380807, 12.63016764, 11.90102614, 15.34426397, 15.2048003 ,\n",
    "                   11.60623705, 16.10720081, 16.42266283, 13.74686281, 14.51850311,\n",
    "                   15.59951107, 18.03269318, 14.35882143, 17.95626942, 14.06849303,\n",
    "                   14.4507767 , 17.27149508, 15.06747021, 13.82402614, 12.40651465,\n",
    "                   15.94104138, 16.8003216 , 18.45973001, 14.24757027, 14.06031845])"
   ]
  },
  {
   "cell_type": "code",
   "execution_count": 2,
   "id": "baa2e480",
   "metadata": {},
   "outputs": [
    {
     "data": {
      "text/plain": [
       "np.float64(14.9794176958)"
      ]
     },
     "execution_count": 2,
     "metadata": {},
     "output_type": "execute_result"
    }
   ],
   "source": [
    "sample_mean= np.mean(sample)\n",
    "sample_mean"
   ]
  },
  {
   "cell_type": "code",
   "execution_count": 3,
   "id": "3844eb41",
   "metadata": {},
   "outputs": [
    {
     "data": {
      "text/plain": [
       "np.float64(2.042036093928169)"
      ]
     },
     "execution_count": 3,
     "metadata": {},
     "output_type": "execute_result"
    }
   ],
   "source": [
    "sample_sd = np.std(sample, ddof=1)\n",
    "sample_sd"
   ]
  },
  {
   "cell_type": "code",
   "execution_count": 4,
   "id": "38d506e6",
   "metadata": {},
   "outputs": [
    {
     "data": {
      "text/plain": [
       "np.float64(0.2887875138888596)"
      ]
     },
     "execution_count": 4,
     "metadata": {},
     "output_type": "execute_result"
    }
   ],
   "source": [
    "sample_se = sample_sd/(np.sqrt(len(sample)))\n",
    "sample_se"
   ]
  },
  {
   "cell_type": "code",
   "execution_count": 5,
   "id": "2263465b",
   "metadata": {},
   "outputs": [
    {
     "data": {
      "text/plain": [
       "(np.float64(14.205481027993402), np.float64(15.753354363606599))"
      ]
     },
     "execution_count": 5,
     "metadata": {},
     "output_type": "execute_result"
    }
   ],
   "source": [
    "confi_interval = stats.t.interval(confidence=0.99, df=len(sample)-1, loc=sample_mean, scale=sample_se)\n",
    "confi_interval"
   ]
  },
  {
   "cell_type": "code",
   "execution_count": 6,
   "id": "f56febfd",
   "metadata": {},
   "outputs": [
    {
     "data": {
      "image/png": "[encoded data removed]",
      "text/plain": [
       "<Figure size 640x480 with 1 Axes>"
      ]
     },
     "metadata": {},
     "output_type": "display_data"
    }
   ],
   "source": [
    "import matplotlib.pyplot as plt\n",
    "import seaborn as sns\n",
    "fig, ax = plt.subplots()\n",
    "ax = sns.kdeplot(sample, ax=ax, label='Sample PDF')\n",
    "ax.axvline(sample_mean, color=\"red\", label=r'$\\bar{x}$')\n",
    "ax.legend();"
   ]
  }
 ],
 "metadata": {
  "kernelspec": {
   "display_name": "my_env",
   "language": "python",
   "name": "python3"
  },
  "language_info": {
   "codemirror_mode": {
    "name": "ipython",
    "version": 3
   },
   "file_extension": ".py",
   "mimetype": "text/x-python",
   "name": "python",
   "nbconvert_exporter": "python",
   "pygments_lexer": "ipython3",
   "version": "3.12.10"
  }
 },
 "nbformat": 4,
 "nbformat_minor": 5
}
