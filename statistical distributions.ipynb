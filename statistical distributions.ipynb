{
 "cells": [
  {
   "cell_type": "markdown",
   "id": "bae28952",
   "metadata": {},
   "source": [
    "# THURSDAY 18TH SEP,2025"
   ]
  },
  {
   "cell_type": "markdown",
   "id": "e752b209",
   "metadata": {},
   "source": [
    "\n",
    "\n",
    "##### reading a csv file\n",
    "    with open(\"tested.csv\",\"r\") as file:\n",
    "        content = file.read()\n",
    "        content\n",
    "    \n",
    "##### creating a dataframe\n",
    "    import pandas as pd\n",
    "    df = pd.read_csv(r\"tested.csv\")\n",
    "    df.head()\n",
    "    df.info()\n",
    "\n",
    "##### getting path of a file\n",
    "    import os\n",
    "    print(os.getcwd())\n",
    "\n",
    "##### histplot with seaborn\n",
    "    import seaborn as sns\n",
    "    sns.histplot(df, x=\"Age\", kde=True)\n",
    "\n",
    "##### boxplot\n",
    "    sns.boxplot(df, x=\"Age\")\n",
    "\n",
    "##### filling missing values\n",
    "    df[\"Age\"]= df[\"Age\"].fillna(df[\"Age\"].median())\n",
    "    df.info()\n",
    "\n",
    "##### mean\n",
    "    mean_age = df(\"Age\").mean()\n",
    "    mean_age\n",
    "\n",
    "##### sample mean\n",
    "    sample = df.sample(n=200, random_state=22)\n",
    "    xbar =sample[\"Age\"].mean()\n",
    "    xbar\n",
    "\n",
    "##### error\n",
    "    means_error = np.abs(mean_age - xbar)\n",
    "    means_error\n",
    "\n",
    "##### printing counter using collections\n",
    "    import collections\n",
    "    x = [1,1,1,1,2,2,2,2,3,3,4,5,5,5]\n",
    "    counter = collections.Counter(x)\n",
    "    print (counter)\n",
    "    print(len(x))\n",
    "\n",
    "##### finding the pmf\n",
    "    def p(x_i):\n",
    "        frequency = counter[x_i]\n",
    "        total_number = len(x)\n",
    "        return frequency/total_number\n",
    "\n",
    "    print (\"p(1) = \", p(1))\n",
    "    print (\"p(2) = \", p(2))\n",
    "    print (\"p(3) = \", p(3))\n",
    "    print (\"p(4) = \", p(4))\n",
    "    print (\"p(5) = \", p(5))\n",
    "\n",
    "##### expected value or mean using for loops\n",
    "    mu = sum([p(x_i)*x_i for x_i in set(x)])\n",
    "    mu\n",
    "\n",
    "##### calculating mean using numpy\n",
    "    import numpy as np\n",
    "    mean_value=np.mean(x)\n",
    "    print(\"mean:\",mean_value)\n",
    "\n",
    "##### listing dictkeys and their pmf\n",
    "    pmf = []\n",
    "    for key, val in counter.items():\n",
    "        pmf.append(round(val/len(x),2))\n",
    "    \n",
    "    print (counter.keys, pmf)\n",
    "\n",
    "##### using numpy to calculate sum of pmf\n",
    "    import numpy as np\n",
    "    np.array(pmf).sum()\n",
    "\n",
    "##### visualization of a pmf\n",
    "    import matplotlib.pyplot as plt\n",
    "    %matplotlib inline\n",
    "    plt.style.use('ggplot')\n",
    "\n",
    "    outcomes = counter.keys()\n",
    "\n",
    "    plt.bar(outcomes, [p(x_i) for x_i in outcomes]);\n",
    "    plt.title(\"A Probability Mass Function\")\n",
    "    plt.xlabel(\"Outcomes\")\n",
    "    plt.ylabel(\"Probabilities of Outcomes\");\n",
    "\n",
    "##### finding p(y=k) binomial distribution\n",
    "    n = int(input(\"Enter your total experiments:\"))\n",
    "    k = int(input(\"Enter your desired value here:\"))\n",
    "    p = float(input(\"Enter your probability here:\"))\n",
    "\n",
    "    import math\n",
    "    math.comb(n,k)*((p**k)*((1-p)**(n-k)))\n",
    "\n",
    "##### by defining first then calling\n",
    "    def binom_distribution(n,k,p):\n",
    "        return math.comb(n,k) * ( (p**k) * ( (1-p)**(n-k) ) )\n",
    "\n",
    "    print (binom_distribution(8,3,0.8))"
   ]
  },
  {
   "cell_type": "markdown",
   "id": "7845267e",
   "metadata": {},
   "source": [
    "### STATISTICAL DISTRIBUTIONS\n",
    "- DISCRETE -a dice and a coin,,, we know possible outcomes ....PMF , bernoulli, binomial, poisson, uniform\n",
    "- CONTINOUS - speed ,, a lot of outcomes .....PDF , normal\n",
    "- central tendency -- mean, mode median\n",
    "- measures of spread -- variance and std deviation\n",
    "- Functions --- pmf,pdf\n",
    "\n",
    "#### Probability Mass Function(PMF)\n",
    "- Deals with discrete data\n",
    "- in a dice P(3) = 1/6\n",
    "- frequency/total numbers"
   ]
  },
  {
   "cell_type": "code",
   "execution_count": 1,
   "id": "ef7c4c94",
   "metadata": {},
   "outputs": [],
   "source": [
    "import pandas as pd\n",
    "import seaborn as sns\n",
    "import matplotlib.pyplot as plt\n",
    "import numpy as np"
   ]
  },
  {
   "cell_type": "code",
   "execution_count": 2,
   "id": "e5bba04d",
   "metadata": {},
   "outputs": [
    {
     "name": "stdout",
     "output_type": "stream",
     "text": [
      "Counter({1: 4, 2: 4, 5: 3, 3: 2, 4: 1})\n",
      "14\n"
     ]
    }
   ],
   "source": [
    "import collections\n",
    "x = [1,1,1,1,2,2,2,2,3,3,4,5,5,5]\n",
    "counter = collections.Counter(x)\n",
    "print (counter)\n",
    "\n",
    "print(len(x))"
   ]
  },
  {
   "cell_type": "code",
   "execution_count": 3,
   "id": "f087756a",
   "metadata": {},
   "outputs": [
    {
     "name": "stdout",
     "output_type": "stream",
     "text": [
      "PassengerId,Survived,Pclass,Name,Sex,Age,SibSp,Parch,Ticket,Fare,Cabin,Embarked\n",
      "892,0,3,\"Kelly, Mr. James\",male,34.5,0,0,330911,7.8292,,Q\n",
      "893,1,3,\"Wilkes, Mrs. James (Ellen Needs)\",female,47,1,0,363272,7,,S\n",
      "894,0,2,\"Myles, Mr. Thomas Francis\",male,62,0,0,240276,9.6875,,Q\n",
      "895,0,3,\"Wirz, Mr. Albert\",male,27,0,0,315154,8.6625,,S\n",
      "896,1,3,\"Hirvonen, Mrs. Alexander (Helga E Lindqvist)\",female,22,1,1,3101298,12.2875,,S\n",
      "897,0,3,\"Svensson, Mr. Johan Cervin\",male,14,0,0,7538,9.225,,S\n",
      "898,1,3,\"Connolly, Miss. Kate\",female,30,0,0,330972,7.6292,,Q\n",
      "899,0,2,\"Caldwell, Mr. Albert Francis\",male,26,1,1,248738,29,,S\n",
      "900,1,3,\"Abrahim, Mrs. Joseph (Sophie Halaut Easu)\",female,18,0,0,2657,7.2292,,C\n",
      "901,0,3,\"Davies, Mr. John Samuel\",male,21,2,0,A/4 48871,24.15,,S\n",
      "902,0,3,\"Ilieff, Mr. Ylio\",male,,0,0,349220,7.8958,,S\n",
      "903,0,1,\"Jones, Mr. Charles Cresson\",male,46,0,0,694,26,,S\n",
      "904,1,1,\"Snyder, Mrs. John Pillsbury (Nelle Stevenson)\",female,23,1,0,21228,82.2667,B45,S\n",
      "905,0,2,\"Howard, Mr. Benjamin\",male,63,1,0,24065,26,,S\n",
      "906,1,1,\"Chaffee, Mrs. Herbert Fuller (Carrie Constance Toogood)\",female,47,1,0,W.E.P. 5734,61.175,E31,S\n",
      "907,1,2,\"del Carlo, Mrs. Sebastiano (Argenia Genovesi)\",female,24,1,0,SC/PARIS 2167,27.7208,,C\n",
      "908,0,2,\"Keane, Mr. Daniel\",male,35,0,0,233734,12.35,,Q\n",
      "909,0,3,\"Assaf, Mr. Gerios\",male,21,0,0,2692,7.225,,C\n",
      "910,1,3,\"Ilmakangas, Miss. Ida Livija\",female,27,1,0,STON/O2. 3101270,7.925,,S\n",
      "911,1,3,\"Assaf Khalil, Mrs. Mariana (Miriam\"\")\"\"\",female,45,0,0,2696,7.225,,C\n",
      "912,0,1,\"Rothschild, Mr. Martin\",male,55,1,0,PC 17603,59.4,,C\n",
      "913,0,3,\"Olsen, Master. Artur Karl\",male,9,0,1,C 17368,3.1708,,S\n",
      "914,1,1,\"Flegenheim, Mrs. Alfred (Antoinette)\",female,,0,0,PC 17598,31.6833,,S\n",
      "915,0,1,\"Williams, Mr. Richard Norris II\",male,21,0,1,PC 17597,61.3792,,C\n",
      "916,1,1,\"Ryerson, Mrs. Arthur Larned (Emily Maria Borie)\",female,48,1,3,PC 17608,262.375,B57 B59 B63 B66,C\n",
      "917,0,3,\"Robins, Mr. Alexander A\",male,50,1,0,A/5. 3337,14.5,,S\n",
      "918,1,1,\"Ostby, Miss. Helene Ragnhild\",female,22,0,1,113509,61.9792,B36,C\n",
      "919,0,3,\"Daher, Mr. Shedid\",male,22.5,0,0,2698,7.225,,C\n",
      "920,0,1,\"Brady, Mr. John Bertram\",male,41,0,0,113054,30.5,A21,S\n",
      "921,0,3,\"Samaan, Mr. Elias\",male,,2,0,2662,21.6792,,C\n",
      "922,0,2,\"Louch, Mr. Charles Alexander\",male,50,1,0,SC/AH 3085,26,,S\n",
      "923,0,2,\"Jefferys, Mr. Clifford Thomas\",male,24,2,0,C.A. 31029,31.5,,S\n",
      "924,1,3,\"Dean, Mrs. Bertram (Eva Georgetta Light)\",female,33,1,2,C.A. 2315,20.575,,S\n",
      "925,1,3,\"Johnston, Mrs. Andrew G (Elizabeth Lily\"\" Watson)\"\"\",female,,1,2,W./C. 6607,23.45,,S\n",
      "926,0,1,\"Mock, Mr. Philipp Edmund\",male,30,1,0,13236,57.75,C78,C\n",
      "927,0,3,\"Katavelas, Mr. Vassilios (Catavelas Vassilios\"\")\"\"\",male,18.5,0,0,2682,7.2292,,C\n",
      "928,1,3,\"Roth, Miss. Sarah A\",female,,0,0,342712,8.05,,S\n",
      "929,1,3,\"Cacic, Miss. Manda\",female,21,0,0,315087,8.6625,,S\n",
      "930,0,3,\"Sap, Mr. Julius\",male,25,0,0,345768,9.5,,S\n",
      "931,0,3,\"Hee, Mr. Ling\",male,,0,0,1601,56.4958,,S\n",
      "932,0,3,\"Karun, Mr. Franz\",male,39,0,1,349256,13.4167,,C\n",
      "933,0,1,\"Franklin, Mr. Thomas Parham\",male,,0,0,113778,26.55,D34,S\n",
      "934,0,3,\"Goldsmith, Mr. Nathan\",male,41,0,0,SOTON/O.Q. 3101263,7.85,,S\n",
      "935,1,2,\"Corbett, Mrs. Walter H (Irene Colvin)\",female,30,0,0,237249,13,,S\n",
      "936,1,1,\"Kimball, Mrs. Edwin Nelson Jr (Gertrude Parsons)\",female,45,1,0,11753,52.5542,D19,S\n",
      "937,0,3,\"Peltomaki, Mr. Nikolai Johannes\",male,25,0,0,STON/O 2. 3101291,7.925,,S\n",
      "938,0,1,\"Chevre, Mr. Paul Romaine\",male,45,0,0,PC 17594,29.7,A9,C\n",
      "939,0,3,\"Shaughnessy, Mr. Patrick\",male,,0,0,370374,7.75,,Q\n",
      "940,1,1,\"Bucknell, Mrs. William Robert (Emma Eliza Ward)\",female,60,0,0,11813,76.2917,D15,C\n",
      "941,1,3,\"Coutts, Mrs. William (Winnie Minnie\"\" Treanor)\"\"\",female,36,0,2,C.A. 37671,15.9,,S\n",
      "942,0,1,\"Smith, Mr. Lucien Philip\",male,24,1,0,13695,60,C31,S\n",
      "943,0,2,\"Pulbaum, Mr. Franz\",male,27,0,0,SC/PARIS 2168,15.0333,,C\n",
      "944,1,2,\"Hocking, Miss. Ellen Nellie\"\"\"\"\",female,20,2,1,29105,23,,S\n",
      "945,1,1,\"Fortune, Miss. Ethel Flora\",female,28,3,2,19950,263,C23 C25 C27,S\n",
      "946,0,2,\"Mangiavacchi, Mr. Serafino Emilio\",male,,0,0,SC/A.3 2861,15.5792,,C\n",
      "947,0,3,\"Rice, Master. Albert\",male,10,4,1,382652,29.125,,Q\n",
      "948,0,3,\"Cor, Mr. Bartol\",male,35,0,0,349230,7.8958,,S\n",
      "949,0,3,\"Abelseth, Mr. Olaus Jorgensen\",male,25,0,0,348122,7.65,F G63,S\n",
      "950,0,3,\"Davison, Mr. Thomas Henry\",male,,1,0,386525,16.1,,S\n",
      "951,1,1,\"Chaudanson, Miss. Victorine\",female,36,0,0,PC 17608,262.375,B61,C\n",
      "952,0,3,\"Dika, Mr. Mirko\",male,17,0,0,349232,7.8958,,S\n",
      "953,0,2,\"McCrae, Mr. Arthur Gordon\",male,32,0,0,237216,13.5,,S\n",
      "954,0,3,\"Bjorklund, Mr. Ernst Herbert\",male,18,0,0,347090,7.75,,S\n",
      "955,1,3,\"Bradley, Miss. Bridget Delia\",female,22,0,0,334914,7.725,,Q\n",
      "956,0,1,\"Ryerson, Master. John Borie\",male,13,2,2,PC 17608,262.375,B57 B59 B63 B66,C\n",
      "957,1,2,\"Corey, Mrs. Percy C (Mary Phyllis Elizabeth Miller)\",female,,0,0,F.C.C. 13534,21,,S\n",
      "958,1,3,\"Burns, Miss. Mary Delia\",female,18,0,0,330963,7.8792,,Q\n",
      "959,0,1,\"Moore, Mr. Clarence Bloomfield\",male,47,0,0,113796,42.4,,S\n",
      "960,0,1,\"Tucker, Mr. Gilbert Milligan Jr\",male,31,0,0,2543,28.5375,C53,C\n",
      "961,1,1,\"Fortune, Mrs. Mark (Mary McDougald)\",female,60,1,4,19950,263,C23 C25 C27,S\n",
      "962,1,3,\"Mulvihill, Miss. Bertha E\",female,24,0,0,382653,7.75,,Q\n",
      "963,0,3,\"Minkoff, Mr. Lazar\",male,21,0,0,349211,7.8958,,S\n",
      "964,1,3,\"Nieminen, Miss. Manta Josefina\",female,29,0,0,3101297,7.925,,S\n",
      "965,0,1,\"Ovies y Rodriguez, Mr. Servando\",male,28.5,0,0,PC 17562,27.7208,D43,C\n",
      "966,1,1,\"Geiger, Miss. Amalie\",female,35,0,0,113503,211.5,C130,C\n",
      "967,0,1,\"Keeping, Mr. Edwin\",male,32.5,0,0,113503,211.5,C132,C\n",
      "968,0,3,\"Miles, Mr. Frank\",male,,0,0,359306,8.05,,S\n",
      "969,1,1,\"Cornell, Mrs. Robert Clifford (Malvina Helen Lamson)\",female,55,2,0,11770,25.7,C101,S\n",
      "970,0,2,\"Aldworth, Mr. Charles Augustus\",male,30,0,0,248744,13,,S\n",
      "971,1,3,\"Doyle, Miss. Elizabeth\",female,24,0,0,368702,7.75,,Q\n",
      "972,0,3,\"Boulos, Master. Akar\",male,6,1,1,2678,15.2458,,C\n",
      "973,0,1,\"Straus, Mr. Isidor\",male,67,1,0,PC 17483,221.7792,C55 C57,S\n",
      "974,0,1,\"Case, Mr. Howard Brown\",male,49,0,0,19924,26,,S\n",
      "975,0,3,\"Demetri, Mr. Marinko\",male,,0,0,349238,7.8958,,S\n",
      "976,0,2,\"Lamb, Mr. John Joseph\",male,,0,0,240261,10.7083,,Q\n",
      "977,0,3,\"Khalil, Mr. Betros\",male,,1,0,2660,14.4542,,C\n",
      "978,1,3,\"Barry, Miss. Julia\",female,27,0,0,330844,7.8792,,Q\n",
      "979,1,3,\"Badman, Miss. Emily Louisa\",female,18,0,0,A/4 31416,8.05,,S\n",
      "980,1,3,\"O'Donoghue, Ms. Bridget\",female,,0,0,364856,7.75,,Q\n",
      "981,0,2,\"Wells, Master. Ralph Lester\",male,2,1,1,29103,23,,S\n",
      "982,1,3,\"Dyker, Mrs. Adolf Fredrik (Anna Elisabeth Judith Andersson)\",female,22,1,0,347072,13.9,,S\n",
      "983,0,3,\"Pedersen, Mr. Olaf\",male,,0,0,345498,7.775,,S\n",
      "984,1,1,\"Davidson, Mrs. Thornton (Orian Hays)\",female,27,1,2,F.C. 12750,52,B71,S\n",
      "985,0,3,\"Guest, Mr. Robert\",male,,0,0,376563,8.05,,S\n",
      "986,0,1,\"Birnbaum, Mr. Jakob\",male,25,0,0,13905,26,,C\n",
      "987,0,3,\"Tenglin, Mr. Gunnar Isidor\",male,25,0,0,350033,7.7958,,S\n",
      "988,1,1,\"Cavendish, Mrs. Tyrell William (Julia Florence Siegel)\",female,76,1,0,19877,78.85,C46,S\n",
      "989,0,3,\"Makinen, Mr. Kalle Edvard\",male,29,0,0,STON/O 2. 3101268,7.925,,S\n",
      "990,1,3,\"Braf, Miss. Elin Ester Maria\",female,20,0,0,347471,7.8542,,S\n",
      "991,0,3,\"Nancarrow, Mr. William Henry\",male,33,0,0,A./5. 3338,8.05,,S\n",
      "992,1,1,\"Stengel, Mrs. Charles Emil Henry (Annie May Morris)\",female,43,1,0,11778,55.4417,C116,C\n",
      "993,0,2,\"Weisz, Mr. Leopold\",male,27,1,0,228414,26,,S\n",
      "994,0,3,\"Foley, Mr. William\",male,,0,0,365235,7.75,,Q\n",
      "995,0,3,\"Johansson Palmquist, Mr. Oskar Leander\",male,26,0,0,347070,7.775,,S\n",
      "996,1,3,\"Thomas, Mrs. Alexander (Thamine Thelma\"\")\"\"\",female,16,1,1,2625,8.5167,,C\n",
      "997,0,3,\"Holthen, Mr. Johan Martin\",male,28,0,0,C 4001,22.525,,S\n",
      "998,0,3,\"Buckley, Mr. Daniel\",male,21,0,0,330920,7.8208,,Q\n",
      "999,0,3,\"Ryan, Mr. Edward\",male,,0,0,383162,7.75,,Q\n",
      "1000,0,3,\"Willer, Mr. Aaron (Abi Weller\"\")\"\"\",male,,0,0,3410,8.7125,,S\n",
      "1001,0,2,\"Swane, Mr. George\",male,18.5,0,0,248734,13,F,S\n",
      "1002,0,2,\"Stanton, Mr. Samuel Ward\",male,41,0,0,237734,15.0458,,C\n",
      "1003,1,3,\"Shine, Miss. Ellen Natalia\",female,,0,0,330968,7.7792,,Q\n",
      "1004,1,1,\"Evans, Miss. Edith Corse\",female,36,0,0,PC 17531,31.6792,A29,C\n",
      "1005,1,3,\"Buckley, Miss. Katherine\",female,18.5,0,0,329944,7.2833,,Q\n",
      "1006,1,1,\"Straus, Mrs. Isidor (Rosalie Ida Blun)\",female,63,1,0,PC 17483,221.7792,C55 C57,S\n",
      "1007,0,3,\"Chronopoulos, Mr. Demetrios\",male,18,1,0,2680,14.4542,,C\n",
      "1008,0,3,\"Thomas, Mr. John\",male,,0,0,2681,6.4375,,C\n",
      "1009,1,3,\"Sandstrom, Miss. Beatrice Irene\",female,1,1,1,PP 9549,16.7,G6,S\n",
      "1010,0,1,\"Beattie, Mr. Thomson\",male,36,0,0,13050,75.2417,C6,C\n",
      "1011,1,2,\"Chapman, Mrs. John Henry (Sara Elizabeth Lawry)\",female,29,1,0,SC/AH 29037,26,,S\n",
      "1012,1,2,\"Watt, Miss. Bertha J\",female,12,0,0,C.A. 33595,15.75,,S\n",
      "1013,0,3,\"Kiernan, Mr. John\",male,,1,0,367227,7.75,,Q\n",
      "1014,1,1,\"Schabert, Mrs. Paul (Emma Mock)\",female,35,1,0,13236,57.75,C28,C\n",
      "1015,0,3,\"Carver, Mr. Alfred John\",male,28,0,0,392095,7.25,,S\n",
      "1016,0,3,\"Kennedy, Mr. John\",male,,0,0,368783,7.75,,Q\n",
      "1017,1,3,\"Cribb, Miss. Laura Alice\",female,17,0,1,371362,16.1,,S\n",
      "1018,0,3,\"Brobeck, Mr. Karl Rudolf\",male,22,0,0,350045,7.7958,,S\n",
      "1019,1,3,\"McCoy, Miss. Alicia\",female,,2,0,367226,23.25,,Q\n",
      "1020,0,2,\"Bowenur, Mr. Solomon\",male,42,0,0,211535,13,,S\n",
      "1021,0,3,\"Petersen, Mr. Marius\",male,24,0,0,342441,8.05,,S\n",
      "1022,0,3,\"Spinner, Mr. Henry John\",male,32,0,0,STON/OQ. 369943,8.05,,S\n",
      "1023,0,1,\"Gracie, Col. Archibald IV\",male,53,0,0,113780,28.5,C51,C\n",
      "1024,1,3,\"Lefebre, Mrs. Frank (Frances)\",female,,0,4,4133,25.4667,,S\n",
      "1025,0,3,\"Thomas, Mr. Charles P\",male,,1,0,2621,6.4375,,C\n",
      "1026,0,3,\"Dintcheff, Mr. Valtcho\",male,43,0,0,349226,7.8958,,S\n",
      "1027,0,3,\"Carlsson, Mr. Carl Robert\",male,24,0,0,350409,7.8542,,S\n",
      "1028,0,3,\"Zakarian, Mr. Mapriededer\",male,26.5,0,0,2656,7.225,,C\n",
      "1029,0,2,\"Schmidt, Mr. August\",male,26,0,0,248659,13,,S\n",
      "1030,1,3,\"Drapkin, Miss. Jennie\",female,23,0,0,SOTON/OQ 392083,8.05,,S\n",
      "1031,0,3,\"Goodwin, Mr. Charles Frederick\",male,40,1,6,CA 2144,46.9,,S\n",
      "1032,1,3,\"Goodwin, Miss. Jessie Allis\",female,10,5,2,CA 2144,46.9,,S\n",
      "1033,1,1,\"Daniels, Miss. Sarah\",female,33,0,0,113781,151.55,,S\n",
      "1034,0,1,\"Ryerson, Mr. Arthur Larned\",male,61,1,3,PC 17608,262.375,B57 B59 B63 B66,C\n",
      "1035,0,2,\"Beauchamp, Mr. Henry James\",male,28,0,0,244358,26,,S\n",
      "1036,0,1,\"Lindeberg-Lind, Mr. Erik Gustaf (Mr Edward Lingrey\"\")\"\"\",male,42,0,0,17475,26.55,,S\n",
      "1037,0,3,\"Vander Planke, Mr. Julius\",male,31,3,0,345763,18,,S\n",
      "1038,0,1,\"Hilliard, Mr. Herbert Henry\",male,,0,0,17463,51.8625,E46,S\n",
      "1039,0,3,\"Davies, Mr. Evan\",male,22,0,0,SC/A4 23568,8.05,,S\n",
      "1040,0,1,\"Crafton, Mr. John Bertram\",male,,0,0,113791,26.55,,S\n",
      "1041,0,2,\"Lahtinen, Rev. William\",male,30,1,1,250651,26,,S\n",
      "1042,1,1,\"Earnshaw, Mrs. Boulton (Olive Potter)\",female,23,0,1,11767,83.1583,C54,C\n",
      "1043,0,3,\"Matinoff, Mr. Nicola\",male,,0,0,349255,7.8958,,C\n",
      "1044,0,3,\"Storey, Mr. Thomas\",male,60.5,0,0,3701,,,S\n",
      "1045,1,3,\"Klasen, Mrs. (Hulda Kristina Eugenia Lofqvist)\",female,36,0,2,350405,12.1833,,S\n",
      "1046,0,3,\"Asplund, Master. Filip Oscar\",male,13,4,2,347077,31.3875,,S\n",
      "1047,0,3,\"Duquemin, Mr. Joseph\",male,24,0,0,S.O./P.P. 752,7.55,,S\n",
      "1048,1,1,\"Bird, Miss. Ellen\",female,29,0,0,PC 17483,221.7792,C97,S\n",
      "1049,1,3,\"Lundin, Miss. Olga Elida\",female,23,0,0,347469,7.8542,,S\n",
      "1050,0,1,\"Borebank, Mr. John James\",male,42,0,0,110489,26.55,D22,S\n",
      "1051,1,3,\"Peacock, Mrs. Benjamin (Edith Nile)\",female,26,0,2,SOTON/O.Q. 3101315,13.775,,S\n",
      "1052,1,3,\"Smyth, Miss. Julia\",female,,0,0,335432,7.7333,,Q\n",
      "1053,0,3,\"Touma, Master. Georges Youssef\",male,7,1,1,2650,15.2458,,C\n",
      "1054,1,2,\"Wright, Miss. Marion\",female,26,0,0,220844,13.5,,S\n",
      "1055,0,3,\"Pearce, Mr. Ernest\",male,,0,0,343271,7,,S\n",
      "1056,0,2,\"Peruschitz, Rev. Joseph Maria\",male,41,0,0,237393,13,,S\n",
      "1057,1,3,\"Kink-Heilmann, Mrs. Anton (Luise Heilmann)\",female,26,1,1,315153,22.025,,S\n",
      "1058,0,1,\"Brandeis, Mr. Emil\",male,48,0,0,PC 17591,50.4958,B10,C\n",
      "1059,0,3,\"Ford, Mr. Edward Watson\",male,18,2,2,W./C. 6608,34.375,,S\n",
      "1060,1,1,\"Cassebeer, Mrs. Henry Arthur Jr (Eleanor Genevieve Fosdick)\",female,,0,0,17770,27.7208,,C\n",
      "1061,1,3,\"Hellstrom, Miss. Hilda Maria\",female,22,0,0,7548,8.9625,,S\n",
      "1062,0,3,\"Lithman, Mr. Simon\",male,,0,0,S.O./P.P. 251,7.55,,S\n",
      "1063,0,3,\"Zakarian, Mr. Ortin\",male,27,0,0,2670,7.225,,C\n",
      "1064,0,3,\"Dyker, Mr. Adolf Fredrik\",male,23,1,0,347072,13.9,,S\n",
      "1065,0,3,\"Torfa, Mr. Assad\",male,,0,0,2673,7.2292,,C\n",
      "1066,0,3,\"Asplund, Mr. Carl Oscar Vilhelm Gustafsson\",male,40,1,5,347077,31.3875,,S\n",
      "1067,1,2,\"Brown, Miss. Edith Eileen\",female,15,0,2,29750,39,,S\n",
      "1068,1,2,\"Sincock, Miss. Maude\",female,20,0,0,C.A. 33112,36.75,,S\n",
      "1069,0,1,\"Stengel, Mr. Charles Emil Henry\",male,54,1,0,11778,55.4417,C116,C\n",
      "1070,1,2,\"Becker, Mrs. Allen Oliver (Nellie E Baumgardner)\",female,36,0,3,230136,39,F4,S\n",
      "1071,1,1,\"Compton, Mrs. Alexander Taylor (Mary Eliza Ingersoll)\",female,64,0,2,PC 17756,83.1583,E45,C\n",
      "1072,0,2,\"McCrie, Mr. James Matthew\",male,30,0,0,233478,13,,S\n",
      "1073,0,1,\"Compton, Mr. Alexander Taylor Jr\",male,37,1,1,PC 17756,83.1583,E52,C\n",
      "1074,1,1,\"Marvin, Mrs. Daniel Warner (Mary Graham Carmichael Farquarson)\",female,18,1,0,113773,53.1,D30,S\n",
      "1075,0,3,\"Lane, Mr. Patrick\",male,,0,0,7935,7.75,,Q\n",
      "1076,1,1,\"Douglas, Mrs. Frederick Charles (Mary Helene Baxter)\",female,27,1,1,PC 17558,247.5208,B58 B60,C\n",
      "1077,0,2,\"Maybery, Mr. Frank Hubert\",male,40,0,0,239059,16,,S\n",
      "1078,1,2,\"Phillips, Miss. Alice Frances Louisa\",female,21,0,1,S.O./P.P. 2,21,,S\n",
      "1079,0,3,\"Davies, Mr. Joseph\",male,17,2,0,A/4 48873,8.05,,S\n",
      "1080,1,3,\"Sage, Miss. Ada\",female,,8,2,CA. 2343,69.55,,S\n",
      "1081,0,2,\"Veal, Mr. James\",male,40,0,0,28221,13,,S\n",
      "1082,0,2,\"Angle, Mr. William A\",male,34,1,0,226875,26,,S\n",
      "1083,0,1,\"Salomon, Mr. Abraham L\",male,,0,0,111163,26,,S\n",
      "1084,0,3,\"van Billiard, Master. Walter John\",male,11.5,1,1,A/5. 851,14.5,,S\n",
      "1085,0,2,\"Lingane, Mr. John\",male,61,0,0,235509,12.35,,Q\n",
      "1086,0,2,\"Drew, Master. Marshall Brines\",male,8,0,2,28220,32.5,,S\n",
      "1087,0,3,\"Karlsson, Mr. Julius Konrad Eugen\",male,33,0,0,347465,7.8542,,S\n",
      "1088,0,1,\"Spedden, Master. Robert Douglas\",male,6,0,2,16966,134.5,E34,C\n",
      "1089,1,3,\"Nilsson, Miss. Berta Olivia\",female,18,0,0,347066,7.775,,S\n",
      "1090,0,2,\"Baimbrigge, Mr. Charles Robert\",male,23,0,0,C.A. 31030,10.5,,S\n",
      "1091,1,3,\"Rasmussen, Mrs. (Lena Jacobsen Solvang)\",female,,0,0,65305,8.1125,,S\n",
      "1092,1,3,\"Murphy, Miss. Nora\",female,,0,0,36568,15.5,,Q\n",
      "1093,0,3,\"Danbom, Master. Gilbert Sigvard Emanuel\",male,0.33,0,2,347080,14.4,,S\n",
      "1094,0,1,\"Astor, Col. John Jacob\",male,47,1,0,PC 17757,227.525,C62 C64,C\n",
      "1095,1,2,\"Quick, Miss. Winifred Vera\",female,8,1,1,26360,26,,S\n",
      "1096,0,2,\"Andrew, Mr. Frank Thomas\",male,25,0,0,C.A. 34050,10.5,,S\n",
      "1097,0,1,\"Omont, Mr. Alfred Fernand\",male,,0,0,F.C. 12998,25.7417,,C\n",
      "1098,1,3,\"McGowan, Miss. Katherine\",female,35,0,0,9232,7.75,,Q\n",
      "1099,0,2,\"Collett, Mr. Sidney C Stuart\",male,24,0,0,28034,10.5,,S\n",
      "1100,1,1,\"Rosenbaum, Miss. Edith Louise\",female,33,0,0,PC 17613,27.7208,A11,C\n",
      "1101,0,3,\"Delalic, Mr. Redjo\",male,25,0,0,349250,7.8958,,S\n",
      "1102,0,3,\"Andersen, Mr. Albert Karvin\",male,32,0,0,C 4001,22.525,,S\n",
      "1103,0,3,\"Finoli, Mr. Luigi\",male,,0,0,SOTON/O.Q. 3101308,7.05,,S\n",
      "1104,0,2,\"Deacon, Mr. Percy William\",male,17,0,0,S.O.C. 14879,73.5,,S\n",
      "1105,1,2,\"Howard, Mrs. Benjamin (Ellen Truelove Arman)\",female,60,1,0,24065,26,,S\n",
      "1106,1,3,\"Andersson, Miss. Ida Augusta Margareta\",female,38,4,2,347091,7.775,,S\n",
      "1107,0,1,\"Head, Mr. Christopher\",male,42,0,0,113038,42.5,B11,S\n",
      "1108,1,3,\"Mahon, Miss. Bridget Delia\",female,,0,0,330924,7.8792,,Q\n",
      "1109,0,1,\"Wick, Mr. George Dennick\",male,57,1,1,36928,164.8667,,S\n",
      "1110,1,1,\"Widener, Mrs. George Dunton (Eleanor Elkins)\",female,50,1,1,113503,211.5,C80,C\n",
      "1111,0,3,\"Thomson, Mr. Alexander Morrison\",male,,0,0,32302,8.05,,S\n",
      "1112,1,2,\"Duran y More, Miss. Florentina\",female,30,1,0,SC/PARIS 2148,13.8583,,C\n",
      "1113,0,3,\"Reynolds, Mr. Harold J\",male,21,0,0,342684,8.05,,S\n",
      "1114,1,2,\"Cook, Mrs. (Selena Rogers)\",female,22,0,0,W./C. 14266,10.5,F33,S\n",
      "1115,0,3,\"Karlsson, Mr. Einar Gervasius\",male,21,0,0,350053,7.7958,,S\n",
      "1116,1,1,\"Candee, Mrs. Edward (Helen Churchill Hungerford)\",female,53,0,0,PC 17606,27.4458,,C\n",
      "1117,1,3,\"Moubarek, Mrs. George (Omine Amenia\"\" Alexander)\"\"\",female,,0,2,2661,15.2458,,C\n",
      "1118,0,3,\"Asplund, Mr. Johan Charles\",male,23,0,0,350054,7.7958,,S\n",
      "1119,1,3,\"McNeill, Miss. Bridget\",female,,0,0,370368,7.75,,Q\n",
      "1120,0,3,\"Everett, Mr. Thomas James\",male,40.5,0,0,C.A. 6212,15.1,,S\n",
      "1121,0,2,\"Hocking, Mr. Samuel James Metcalfe\",male,36,0,0,242963,13,,S\n",
      "1122,0,2,\"Sweet, Mr. George Frederick\",male,14,0,0,220845,65,,S\n",
      "1123,1,1,\"Willard, Miss. Constance\",female,21,0,0,113795,26.55,,S\n",
      "1124,0,3,\"Wiklund, Mr. Karl Johan\",male,21,1,0,3101266,6.4958,,S\n",
      "1125,0,3,\"Linehan, Mr. Michael\",male,,0,0,330971,7.8792,,Q\n",
      "1126,0,1,\"Cumings, Mr. John Bradley\",male,39,1,0,PC 17599,71.2833,C85,C\n",
      "1127,0,3,\"Vendel, Mr. Olof Edvin\",male,20,0,0,350416,7.8542,,S\n",
      "1128,0,1,\"Warren, Mr. Frank Manley\",male,64,1,0,110813,75.25,D37,C\n",
      "1129,0,3,\"Baccos, Mr. Raffull\",male,20,0,0,2679,7.225,,C\n",
      "1130,1,2,\"Hiltunen, Miss. Marta\",female,18,1,1,250650,13,,S\n",
      "1131,1,1,\"Douglas, Mrs. Walter Donald (Mahala Dutton)\",female,48,1,0,PC 17761,106.425,C86,C\n",
      "1132,1,1,\"Lindstrom, Mrs. Carl Johan (Sigrid Posse)\",female,55,0,0,112377,27.7208,,C\n",
      "1133,1,2,\"Christy, Mrs. (Alice Frances)\",female,45,0,2,237789,30,,S\n",
      "1134,0,1,\"Spedden, Mr. Frederic Oakley\",male,45,1,1,16966,134.5,E34,C\n",
      "1135,0,3,\"Hyman, Mr. Abraham\",male,,0,0,3470,7.8875,,S\n",
      "1136,0,3,\"Johnston, Master. William Arthur Willie\"\"\"\"\",male,,1,2,W./C. 6607,23.45,,S\n",
      "1137,0,1,\"Kenyon, Mr. Frederick R\",male,41,1,0,17464,51.8625,D21,S\n",
      "1138,1,2,\"Karnes, Mrs. J Frank (Claire Bennett)\",female,22,0,0,F.C.C. 13534,21,,S\n",
      "1139,0,2,\"Drew, Mr. James Vivian\",male,42,1,1,28220,32.5,,S\n",
      "1140,1,2,\"Hold, Mrs. Stephen (Annie Margaret Hill)\",female,29,1,0,26707,26,,S\n",
      "1141,1,3,\"Khalil, Mrs. Betros (Zahie Maria\"\" Elias)\"\"\",female,,1,0,2660,14.4542,,C\n",
      "1142,1,2,\"West, Miss. Barbara J\",female,0.92,1,2,C.A. 34651,27.75,,S\n",
      "1143,0,3,\"Abrahamsson, Mr. Abraham August Johannes\",male,20,0,0,SOTON/O2 3101284,7.925,,S\n",
      "1144,0,1,\"Clark, Mr. Walter Miller\",male,27,1,0,13508,136.7792,C89,C\n",
      "1145,0,3,\"Salander, Mr. Karl Johan\",male,24,0,0,7266,9.325,,S\n",
      "1146,0,3,\"Wenzel, Mr. Linhart\",male,32.5,0,0,345775,9.5,,S\n",
      "1147,0,3,\"MacKay, Mr. George William\",male,,0,0,C.A. 42795,7.55,,S\n",
      "1148,0,3,\"Mahon, Mr. John\",male,,0,0,AQ/4 3130,7.75,,Q\n",
      "1149,0,3,\"Niklasson, Mr. Samuel\",male,28,0,0,363611,8.05,,S\n",
      "1150,1,2,\"Bentham, Miss. Lilian W\",female,19,0,0,28404,13,,S\n",
      "1151,0,3,\"Midtsjo, Mr. Karl Albert\",male,21,0,0,345501,7.775,,S\n",
      "1152,0,3,\"de Messemaeker, Mr. Guillaume Joseph\",male,36.5,1,0,345572,17.4,,S\n",
      "1153,0,3,\"Nilsson, Mr. August Ferdinand\",male,21,0,0,350410,7.8542,,S\n",
      "1154,1,2,\"Wells, Mrs. Arthur Henry (Addie\"\" Dart Trevaskis)\"\"\",female,29,0,2,29103,23,,S\n",
      "1155,1,3,\"Klasen, Miss. Gertrud Emilia\",female,1,1,1,350405,12.1833,,S\n",
      "1156,0,2,\"Portaluppi, Mr. Emilio Ilario Giuseppe\",male,30,0,0,C.A. 34644,12.7375,,C\n",
      "1157,0,3,\"Lyntakoff, Mr. Stanko\",male,,0,0,349235,7.8958,,S\n",
      "1158,0,1,\"Chisholm, Mr. Roderick Robert Crispin\",male,,0,0,112051,0,,S\n",
      "1159,0,3,\"Warren, Mr. Charles William\",male,,0,0,C.A. 49867,7.55,,S\n",
      "1160,1,3,\"Howard, Miss. May Elizabeth\",female,,0,0,A. 2. 39186,8.05,,S\n",
      "1161,0,3,\"Pokrnic, Mr. Mate\",male,17,0,0,315095,8.6625,,S\n",
      "1162,0,1,\"McCaffry, Mr. Thomas Francis\",male,46,0,0,13050,75.2417,C6,C\n",
      "1163,0,3,\"Fox, Mr. Patrick\",male,,0,0,368573,7.75,,Q\n",
      "1164,1,1,\"Clark, Mrs. Walter Miller (Virginia McDowell)\",female,26,1,0,13508,136.7792,C89,C\n",
      "1165,1,3,\"Lennon, Miss. Mary\",female,,1,0,370371,15.5,,Q\n",
      "1166,0,3,\"Saade, Mr. Jean Nassr\",male,,0,0,2676,7.225,,C\n",
      "1167,1,2,\"Bryhl, Miss. Dagmar Jenny Ingeborg \",female,20,1,0,236853,26,,S\n",
      "1168,0,2,\"Parker, Mr. Clifford Richard\",male,28,0,0,SC 14888,10.5,,S\n",
      "1169,0,2,\"Faunthorpe, Mr. Harry\",male,40,1,0,2926,26,,S\n",
      "1170,0,2,\"Ware, Mr. John James\",male,30,1,0,CA 31352,21,,S\n",
      "1171,0,2,\"Oxenham, Mr. Percy Thomas\",male,22,0,0,W./C. 14260,10.5,,S\n",
      "1172,1,3,\"Oreskovic, Miss. Jelka\",female,23,0,0,315085,8.6625,,S\n",
      "1173,0,3,\"Peacock, Master. Alfred Edward\",male,0.75,1,1,SOTON/O.Q. 3101315,13.775,,S\n",
      "1174,1,3,\"Fleming, Miss. Honora\",female,,0,0,364859,7.75,,Q\n",
      "1175,1,3,\"Touma, Miss. Maria Youssef\",female,9,1,1,2650,15.2458,,C\n",
      "1176,1,3,\"Rosblom, Miss. Salli Helena\",female,2,1,1,370129,20.2125,,S\n",
      "1177,0,3,\"Dennis, Mr. William\",male,36,0,0,A/5 21175,7.25,,S\n",
      "1178,0,3,\"Franklin, Mr. Charles (Charles Fardon)\",male,,0,0,SOTON/O.Q. 3101314,7.25,,S\n",
      "1179,0,1,\"Snyder, Mr. John Pillsbury\",male,24,1,0,21228,82.2667,B45,S\n",
      "1180,0,3,\"Mardirosian, Mr. Sarkis\",male,,0,0,2655,7.2292,F E46,C\n",
      "1181,0,3,\"Ford, Mr. Arthur\",male,,0,0,A/5 1478,8.05,,S\n",
      "1182,0,1,\"Rheims, Mr. George Alexander Lucien\",male,,0,0,PC 17607,39.6,,S\n",
      "1183,1,3,\"Daly, Miss. Margaret Marcella Maggie\"\"\"\"\",female,30,0,0,382650,6.95,,Q\n",
      "1184,0,3,\"Nasr, Mr. Mustafa\",male,,0,0,2652,7.2292,,C\n",
      "1185,0,1,\"Dodge, Dr. Washington\",male,53,1,1,33638,81.8583,A34,S\n",
      "1186,0,3,\"Wittevrongel, Mr. Camille\",male,36,0,0,345771,9.5,,S\n",
      "1187,0,3,\"Angheloff, Mr. Minko\",male,26,0,0,349202,7.8958,,S\n",
      "1188,1,2,\"Laroche, Miss. Louise\",female,1,1,2,SC/Paris 2123,41.5792,,C\n",
      "1189,0,3,\"Samaan, Mr. Hanna\",male,,2,0,2662,21.6792,,C\n",
      "1190,0,1,\"Loring, Mr. Joseph Holland\",male,30,0,0,113801,45.5,,S\n",
      "1191,0,3,\"Johansson, Mr. Nils\",male,29,0,0,347467,7.8542,,S\n",
      "1192,0,3,\"Olsson, Mr. Oscar Wilhelm\",male,32,0,0,347079,7.775,,S\n",
      "1193,0,2,\"Malachard, Mr. Noel\",male,,0,0,237735,15.0458,D,C\n",
      "1194,0,2,\"Phillips, Mr. Escott Robert\",male,43,0,1,S.O./P.P. 2,21,,S\n",
      "1195,0,3,\"Pokrnic, Mr. Tome\",male,24,0,0,315092,8.6625,,S\n",
      "1196,1,3,\"McCarthy, Miss. Catherine Katie\"\"\"\"\",female,,0,0,383123,7.75,,Q\n",
      "1197,1,1,\"Crosby, Mrs. Edward Gifford (Catherine Elizabeth Halstead)\",female,64,1,1,112901,26.55,B26,S\n",
      "1198,0,1,\"Allison, Mr. Hudson Joshua Creighton\",male,30,1,2,113781,151.55,C22 C26,S\n",
      "1199,0,3,\"Aks, Master. Philip Frank\",male,0.83,0,1,392091,9.35,,S\n",
      "1200,0,1,\"Hays, Mr. Charles Melville\",male,55,1,1,12749,93.5,B69,S\n",
      "1201,1,3,\"Hansen, Mrs. Claus Peter (Jennie L Howard)\",female,45,1,0,350026,14.1083,,S\n",
      "1202,0,3,\"Cacic, Mr. Jego Grga\",male,18,0,0,315091,8.6625,,S\n",
      "1203,0,3,\"Vartanian, Mr. David\",male,22,0,0,2658,7.225,,C\n",
      "1204,0,3,\"Sadowitz, Mr. Harry\",male,,0,0,LP 1588,7.575,,S\n",
      "1205,1,3,\"Carr, Miss. Jeannie\",female,37,0,0,368364,7.75,,Q\n",
      "1206,1,1,\"White, Mrs. John Stuart (Ella Holmes)\",female,55,0,0,PC 17760,135.6333,C32,C\n",
      "1207,1,3,\"Hagardon, Miss. Kate\",female,17,0,0,AQ/3. 30631,7.7333,,Q\n",
      "1208,0,1,\"Spencer, Mr. William Augustus\",male,57,1,0,PC 17569,146.5208,B78,C\n",
      "1209,0,2,\"Rogers, Mr. Reginald Harry\",male,19,0,0,28004,10.5,,S\n",
      "1210,0,3,\"Jonsson, Mr. Nils Hilding\",male,27,0,0,350408,7.8542,,S\n",
      "1211,0,2,\"Jefferys, Mr. Ernest Wilfred\",male,22,2,0,C.A. 31029,31.5,,S\n",
      "1212,0,3,\"Andersson, Mr. Johan Samuel\",male,26,0,0,347075,7.775,,S\n",
      "1213,0,3,\"Krekorian, Mr. Neshan\",male,25,0,0,2654,7.2292,F E57,C\n",
      "1214,0,2,\"Nesson, Mr. Israel\",male,26,0,0,244368,13,F2,S\n",
      "1215,0,1,\"Rowe, Mr. Alfred G\",male,33,0,0,113790,26.55,,S\n",
      "1216,1,1,\"Kreuchen, Miss. Emilie\",female,39,0,0,24160,211.3375,,S\n",
      "1217,0,3,\"Assam, Mr. Ali\",male,23,0,0,SOTON/O.Q. 3101309,7.05,,S\n",
      "1218,1,2,\"Becker, Miss. Ruth Elizabeth\",female,12,2,1,230136,39,F4,S\n",
      "1219,0,1,\"Rosenshine, Mr. George (Mr George Thorne\"\")\"\"\",male,46,0,0,PC 17585,79.2,,C\n",
      "1220,0,2,\"Clarke, Mr. Charles Valentine\",male,29,1,0,2003,26,,S\n",
      "1221,0,2,\"Enander, Mr. Ingvar\",male,21,0,0,236854,13,,S\n",
      "1222,1,2,\"Davies, Mrs. John Morgan (Elizabeth Agnes Mary White) \",female,48,0,2,C.A. 33112,36.75,,S\n",
      "1223,0,1,\"Dulles, Mr. William Crothers\",male,39,0,0,PC 17580,29.7,A18,C\n",
      "1224,0,3,\"Thomas, Mr. Tannous\",male,,0,0,2684,7.225,,C\n",
      "1225,1,3,\"Nakid, Mrs. Said (Waika Mary\"\" Mowad)\"\"\",female,19,1,1,2653,15.7417,,C\n",
      "1226,0,3,\"Cor, Mr. Ivan\",male,27,0,0,349229,7.8958,,S\n",
      "1227,0,1,\"Maguire, Mr. John Edward\",male,30,0,0,110469,26,C106,S\n",
      "1228,0,2,\"de Brito, Mr. Jose Joaquim\",male,32,0,0,244360,13,,S\n",
      "1229,0,3,\"Elias, Mr. Joseph\",male,39,0,2,2675,7.2292,,C\n",
      "1230,0,2,\"Denbury, Mr. Herbert\",male,25,0,0,C.A. 31029,31.5,,S\n",
      "1231,0,3,\"Betros, Master. Seman\",male,,0,0,2622,7.2292,,C\n",
      "1232,0,2,\"Fillbrook, Mr. Joseph Charles\",male,18,0,0,C.A. 15185,10.5,,S\n",
      "1233,0,3,\"Lundstrom, Mr. Thure Edvin\",male,32,0,0,350403,7.5792,,S\n",
      "1234,0,3,\"Sage, Mr. John George\",male,,1,9,CA. 2343,69.55,,S\n",
      "1235,1,1,\"Cardeza, Mrs. James Warburton Martinez (Charlotte Wardle Drake)\",female,58,0,1,PC 17755,512.3292,B51 B53 B55,C\n",
      "1236,0,3,\"van Billiard, Master. James William\",male,,1,1,A/5. 851,14.5,,S\n",
      "1237,1,3,\"Abelseth, Miss. Karen Marie\",female,16,0,0,348125,7.65,,S\n",
      "1238,0,2,\"Botsford, Mr. William Hull\",male,26,0,0,237670,13,,S\n",
      "1239,1,3,\"Whabee, Mrs. George Joseph (Shawneene Abi-Saab)\",female,38,0,0,2688,7.2292,,C\n",
      "1240,0,2,\"Giles, Mr. Ralph\",male,24,0,0,248726,13.5,,S\n",
      "1241,1,2,\"Walcroft, Miss. Nellie\",female,31,0,0,F.C.C. 13528,21,,S\n",
      "1242,1,1,\"Greenfield, Mrs. Leo David (Blanche Strouse)\",female,45,0,1,PC 17759,63.3583,D10 D12,C\n",
      "1243,0,2,\"Stokes, Mr. Philip Joseph\",male,25,0,0,F.C.C. 13540,10.5,,S\n",
      "1244,0,2,\"Dibden, Mr. William\",male,18,0,0,S.O.C. 14879,73.5,,S\n",
      "1245,0,2,\"Herman, Mr. Samuel\",male,49,1,2,220845,65,,S\n",
      "1246,1,3,\"Dean, Miss. Elizabeth Gladys Millvina\"\"\"\"\",female,0.17,1,2,C.A. 2315,20.575,,S\n",
      "1247,0,1,\"Julian, Mr. Henry Forbes\",male,50,0,0,113044,26,E60,S\n",
      "1248,1,1,\"Brown, Mrs. John Murray (Caroline Lane Lamson)\",female,59,2,0,11769,51.4792,C101,S\n",
      "1249,0,3,\"Lockyer, Mr. Edward\",male,,0,0,1222,7.8792,,S\n",
      "1250,0,3,\"O'Keefe, Mr. Patrick\",male,,0,0,368402,7.75,,Q\n",
      "1251,1,3,\"Lindell, Mrs. Edvard Bengtsson (Elin Gerda Persson)\",female,30,1,0,349910,15.55,,S\n",
      "1252,0,3,\"Sage, Master. William Henry\",male,14.5,8,2,CA. 2343,69.55,,S\n",
      "1253,1,2,\"Mallet, Mrs. Albert (Antoinette Magnin)\",female,24,1,1,S.C./PARIS 2079,37.0042,,C\n",
      "1254,1,2,\"Ware, Mrs. John James (Florence Louise Long)\",female,31,0,0,CA 31352,21,,S\n",
      "1255,0,3,\"Strilic, Mr. Ivan\",male,27,0,0,315083,8.6625,,S\n",
      "1256,1,1,\"Harder, Mrs. George Achilles (Dorothy Annan)\",female,25,1,0,11765,55.4417,E50,C\n",
      "1257,1,3,\"Sage, Mrs. John (Annie Bullen)\",female,,1,9,CA. 2343,69.55,,S\n",
      "1258,0,3,\"Caram, Mr. Joseph\",male,,1,0,2689,14.4583,,C\n",
      "1259,1,3,\"Riihivouri, Miss. Susanna Juhantytar Sanni\"\"\"\"\",female,22,0,0,3101295,39.6875,,S\n",
      "1260,1,1,\"Gibson, Mrs. Leonard (Pauline C Boeson)\",female,45,0,1,112378,59.4,,C\n",
      "1261,0,2,\"Pallas y Castello, Mr. Emilio\",male,29,0,0,SC/PARIS 2147,13.8583,,C\n",
      "1262,0,2,\"Giles, Mr. Edgar\",male,21,1,0,28133,11.5,,S\n",
      "1263,1,1,\"Wilson, Miss. Helen Alice\",female,31,0,0,16966,134.5,E39 E41,C\n",
      "1264,0,1,\"Ismay, Mr. Joseph Bruce\",male,49,0,0,112058,0,B52 B54 B56,S\n",
      "1265,0,2,\"Harbeck, Mr. William H\",male,44,0,0,248746,13,,S\n",
      "1266,1,1,\"Dodge, Mrs. Washington (Ruth Vidaver)\",female,54,1,1,33638,81.8583,A34,S\n",
      "1267,1,1,\"Bowen, Miss. Grace Scott\",female,45,0,0,PC 17608,262.375,,C\n",
      "1268,1,3,\"Kink, Miss. Maria\",female,22,2,0,315152,8.6625,,S\n",
      "1269,0,2,\"Cotterill, Mr. Henry Harry\"\"\"\"\",male,21,0,0,29107,11.5,,S\n",
      "1270,0,1,\"Hipkins, Mr. William Edward\",male,55,0,0,680,50,C39,S\n",
      "1271,0,3,\"Asplund, Master. Carl Edgar\",male,5,4,2,347077,31.3875,,S\n",
      "1272,0,3,\"O'Connor, Mr. Patrick\",male,,0,0,366713,7.75,,Q\n",
      "1273,0,3,\"Foley, Mr. Joseph\",male,26,0,0,330910,7.8792,,Q\n",
      "1274,1,3,\"Risien, Mrs. Samuel (Emma)\",female,,0,0,364498,14.5,,S\n",
      "1275,1,3,\"McNamee, Mrs. Neal (Eileen O'Leary)\",female,19,1,0,376566,16.1,,S\n",
      "1276,0,2,\"Wheeler, Mr. Edwin Frederick\"\"\"\"\",male,,0,0,SC/PARIS 2159,12.875,,S\n",
      "1277,1,2,\"Herman, Miss. Kate\",female,24,1,2,220845,65,,S\n",
      "1278,0,3,\"Aronsson, Mr. Ernst Axel Algot\",male,24,0,0,349911,7.775,,S\n",
      "1279,0,2,\"Ashby, Mr. John\",male,57,0,0,244346,13,,S\n",
      "1280,0,3,\"Canavan, Mr. Patrick\",male,21,0,0,364858,7.75,,Q\n",
      "1281,0,3,\"Palsson, Master. Paul Folke\",male,6,3,1,349909,21.075,,S\n",
      "1282,0,1,\"Payne, Mr. Vivian Ponsonby\",male,23,0,0,12749,93.5,B24,S\n",
      "1283,1,1,\"Lines, Mrs. Ernest H (Elizabeth Lindsey James)\",female,51,0,1,PC 17592,39.4,D28,S\n",
      "1284,0,3,\"Abbott, Master. Eugene Joseph\",male,13,0,2,C.A. 2673,20.25,,S\n",
      "1285,0,2,\"Gilbert, Mr. William\",male,47,0,0,C.A. 30769,10.5,,S\n",
      "1286,0,3,\"Kink-Heilmann, Mr. Anton\",male,29,3,1,315153,22.025,,S\n",
      "1287,1,1,\"Smith, Mrs. Lucien Philip (Mary Eloise Hughes)\",female,18,1,0,13695,60,C31,S\n",
      "1288,0,3,\"Colbert, Mr. Patrick\",male,24,0,0,371109,7.25,,Q\n",
      "1289,1,1,\"Frolicher-Stehli, Mrs. Maxmillian (Margaretha Emerentia Stehli)\",female,48,1,1,13567,79.2,B41,C\n",
      "1290,0,3,\"Larsson-Rondberg, Mr. Edvard A\",male,22,0,0,347065,7.775,,S\n",
      "1291,0,3,\"Conlon, Mr. Thomas Henry\",male,31,0,0,21332,7.7333,,Q\n",
      "1292,1,1,\"Bonnell, Miss. Caroline\",female,30,0,0,36928,164.8667,C7,S\n",
      "1293,0,2,\"Gale, Mr. Harry\",male,38,1,0,28664,21,,S\n",
      "1294,1,1,\"Gibson, Miss. Dorothy Winifred\",female,22,0,1,112378,59.4,,C\n",
      "1295,0,1,\"Carrau, Mr. Jose Pedro\",male,17,0,0,113059,47.1,,S\n",
      "1296,0,1,\"Frauenthal, Mr. Isaac Gerald\",male,43,1,0,17765,27.7208,D40,C\n",
      "1297,0,2,\"Nourney, Mr. Alfred (Baron von Drachstedt\"\")\"\"\",male,20,0,0,SC/PARIS 2166,13.8625,D38,C\n",
      "1298,0,2,\"Ware, Mr. William Jeffery\",male,23,1,0,28666,10.5,,S\n",
      "1299,0,1,\"Widener, Mr. George Dunton\",male,50,1,1,113503,211.5,C80,C\n",
      "1300,1,3,\"Riordan, Miss. Johanna Hannah\"\"\"\"\",female,,0,0,334915,7.7208,,Q\n",
      "1301,1,3,\"Peacock, Miss. Treasteall\",female,3,1,1,SOTON/O.Q. 3101315,13.775,,S\n",
      "1302,1,3,\"Naughton, Miss. Hannah\",female,,0,0,365237,7.75,,Q\n",
      "1303,1,1,\"Minahan, Mrs. William Edward (Lillian E Thorpe)\",female,37,1,0,19928,90,C78,Q\n",
      "1304,1,3,\"Henriksson, Miss. Jenny Lovisa\",female,28,0,0,347086,7.775,,S\n",
      "1305,0,3,\"Spector, Mr. Woolf\",male,,0,0,A.5. 3236,8.05,,S\n",
      "1306,1,1,\"Oliva y Ocana, Dona. Fermina\",female,39,0,0,PC 17758,108.9,C105,C\n",
      "1307,0,3,\"Saether, Mr. Simon Sivertsen\",male,38.5,0,0,SOTON/O.Q. 3101262,7.25,,S\n",
      "1308,0,3,\"Ware, Mr. Frederick\",male,,0,0,359309,8.05,,S\n",
      "1309,0,3,\"Peter, Master. Michael J\",male,,1,1,2668,22.3583,,C\n",
      "\n"
     ]
    }
   ],
   "source": [
    "with open (\"tested.csv\",\"r\") as file:\n",
    "    content1 = file.read()\n",
    "    print(content1)"
   ]
  },
  {
   "cell_type": "code",
   "execution_count": 37,
   "id": "b2462a9c",
   "metadata": {},
   "outputs": [
    {
     "name": "stdout",
     "output_type": "stream",
     "text": [
      "<class 'pandas.core.frame.DataFrame'>\n",
      "RangeIndex: 418 entries, 0 to 417\n",
      "Data columns (total 12 columns):\n",
      " #   Column       Non-Null Count  Dtype  \n",
      "---  ------       --------------  -----  \n",
      " 0   PassengerId  418 non-null    int64  \n",
      " 1   Survived     418 non-null    int64  \n",
      " 2   Pclass       418 non-null    int64  \n",
      " 3   Name         418 non-null    object \n",
      " 4   Sex          418 non-null    object \n",
      " 5   Age          332 non-null    float64\n",
      " 6   SibSp        418 non-null    int64  \n",
      " 7   Parch        418 non-null    int64  \n",
      " 8   Ticket       418 non-null    object \n",
      " 9   Fare         417 non-null    float64\n",
      " 10  Cabin        91 non-null     object \n",
      " 11  Embarked     418 non-null    object \n",
      "dtypes: float64(2), int64(5), object(5)\n",
      "memory usage: 39.3+ KB\n"
     ]
    }
   ],
   "source": [
    "df = pd.read_csv(r\"tested.csv\")\n",
    "df.head()\n",
    "df.info()"
   ]
  },
  {
   "cell_type": "code",
   "execution_count": 5,
   "id": "243840f7",
   "metadata": {},
   "outputs": [
    {
     "name": "stdout",
     "output_type": "stream",
     "text": [
      "c:\\Users\\inkan\\Documents\\NJERI KIMARU LUX\\Python class\n"
     ]
    }
   ],
   "source": [
    "import os\n",
    "print(os.getcwd())\n"
   ]
  },
  {
   "cell_type": "code",
   "execution_count": 6,
   "id": "e4aea2eb",
   "metadata": {},
   "outputs": [
    {
     "data": {
      "text/plain": [
       "<Axes: xlabel='Age', ylabel='Count'>"
      ]
     },
     "execution_count": 6,
     "metadata": {},
     "output_type": "execute_result"
    },
    {
     "data": {
      "image/png": "[encoded data removed]",
      "text/plain": [
       "<Figure size 640x480 with 1 Axes>"
      ]
     },
     "metadata": {},
     "output_type": "display_data"
    }
   ],
   "source": [
    "sns.histplot(df, x=df[\"Age\"], kde= True)"
   ]
  },
  {
   "cell_type": "code",
   "execution_count": 7,
   "id": "388dcde0",
   "metadata": {},
   "outputs": [
    {
     "data": {
      "text/plain": [
       "<Axes: xlabel='Age'>"
      ]
     },
     "execution_count": 7,
     "metadata": {},
     "output_type": "execute_result"
    },
    {
     "data": {
      "image/png": "[encoded data removed]",
      "text/plain": [
       "<Figure size 640x480 with 1 Axes>"
      ]
     },
     "metadata": {},
     "output_type": "display_data"
    }
   ],
   "source": [
    "sns.boxplot(df, x=\"Age\")"
   ]
  },
  {
   "cell_type": "code",
   "execution_count": 38,
   "id": "ee6a3958",
   "metadata": {},
   "outputs": [
    {
     "name": "stdout",
     "output_type": "stream",
     "text": [
      "<class 'pandas.core.frame.DataFrame'>\n",
      "RangeIndex: 418 entries, 0 to 417\n",
      "Data columns (total 12 columns):\n",
      " #   Column       Non-Null Count  Dtype  \n",
      "---  ------       --------------  -----  \n",
      " 0   PassengerId  418 non-null    int64  \n",
      " 1   Survived     418 non-null    int64  \n",
      " 2   Pclass       418 non-null    int64  \n",
      " 3   Name         418 non-null    object \n",
      " 4   Sex          418 non-null    object \n",
      " 5   Age          418 non-null    float64\n",
      " 6   SibSp        418 non-null    int64  \n",
      " 7   Parch        418 non-null    int64  \n",
      " 8   Ticket       418 non-null    object \n",
      " 9   Fare         417 non-null    float64\n",
      " 10  Cabin        91 non-null     object \n",
      " 11  Embarked     418 non-null    object \n",
      "dtypes: float64(2), int64(5), object(5)\n",
      "memory usage: 39.3+ KB\n"
     ]
    }
   ],
   "source": [
    "# median because mean could be biased\n",
    "df[\"Age\"] = df[\"Age\"].fillna(df[\"Age\"].median())\n",
    "df.head()\n",
    "df.info()"
   ]
  },
  {
   "cell_type": "markdown",
   "id": "393c6522",
   "metadata": {},
   "source": [
    "### Population statistics\n",
    "#### mean"
   ]
  },
  {
   "cell_type": "code",
   "execution_count": 39,
   "id": "457ff809",
   "metadata": {},
   "outputs": [
    {
     "data": {
      "text/plain": [
       "np.float64(29.599282296650717)"
      ]
     },
     "execution_count": 39,
     "metadata": {},
     "output_type": "execute_result"
    }
   ],
   "source": [
    "mu =df[\"Age\"].mean()\n",
    "mu"
   ]
  },
  {
   "cell_type": "markdown",
   "id": "7daff410",
   "metadata": {},
   "source": [
    "#### sample mean"
   ]
  },
  {
   "cell_type": "code",
   "execution_count": 42,
   "id": "59a41728",
   "metadata": {},
   "outputs": [
    {
     "data": {
      "text/plain": [
       "np.float64(29.7067)"
      ]
     },
     "execution_count": 42,
     "metadata": {},
     "output_type": "execute_result"
    }
   ],
   "source": [
    "# n = 100,means you are using 100 samples or rows from dataframe\n",
    "# randomstate ensures the value remains same can be any number\n",
    "sample = df.sample(n=100, random_state=22)\n",
    "xbar = sample[\"Age\"].mean()\n",
    "xbar"
   ]
  },
  {
   "cell_type": "code",
   "execution_count": 11,
   "id": "e1c0209b",
   "metadata": {},
   "outputs": [
    {
     "data": {
      "text/plain": [
       "np.float64(0.3629064457466228)"
      ]
     },
     "execution_count": 11,
     "metadata": {},
     "output_type": "execute_result"
    }
   ],
   "source": [
    "error = xbar - mu\n",
    "percentage_error = (error/mu) * 100\n",
    "percentage_error"
   ]
  },
  {
   "cell_type": "code",
   "execution_count": 12,
   "id": "f2febff1",
   "metadata": {},
   "outputs": [
    {
     "data": {
      "text/plain": [
       "np.float64(0.10741770334928447)"
      ]
     },
     "execution_count": 12,
     "metadata": {},
     "output_type": "execute_result"
    }
   ],
   "source": [
    "error = np.abs(xbar-mu)\n",
    "error"
   ]
  },
  {
   "cell_type": "markdown",
   "id": "dc3b4ca9",
   "metadata": {},
   "source": [
    "# MONDAY CLASS 22ND SEP,2025"
   ]
  },
  {
   "cell_type": "markdown",
   "id": "f27d059f",
   "metadata": {},
   "source": [
    "### Statistical Distributions and Use cases\n",
    "- Statistical Distribution- Representation of frequency of potential events\n",
    "- Discrete distributions: use pmf\n",
    "1. Bernoulli distribution- 1 experiment 2 potential events. \n",
    "2. Binomial distribution- made up of many independent bernoulli.\n",
    "3. Uniform Distributions\n",
    "\n",
    "- Continous Distributions: pdf\n",
    "1. Normal Distribution- 2 inputs; mean,std\n",
    "- The Central Limit Theorem- keep adding data , it becomes normal distribution."
   ]
  },
  {
   "cell_type": "markdown",
   "id": "10b84638",
   "metadata": {},
   "source": [
    "#### PMF (Probability Mass Function)"
   ]
  },
  {
   "cell_type": "code",
   "execution_count": 13,
   "id": "69cc7f17",
   "metadata": {},
   "outputs": [
    {
     "name": "stdout",
     "output_type": "stream",
     "text": [
      "Counter({1: 4, 2: 4, 3: 2, 5: 2, 4: 1})\n",
      "13\n"
     ]
    }
   ],
   "source": [
    "import collections\n",
    "x = [1,1,1,1,2,2,2,2,3,3,4,5,5]\n",
    "counter = collections.Counter(x)\n",
    "print (counter)\n",
    "\n",
    "print (len(x))"
   ]
  },
  {
   "cell_type": "code",
   "execution_count": 14,
   "id": "6225908e",
   "metadata": {},
   "outputs": [
    {
     "name": "stdout",
     "output_type": "stream",
     "text": [
      "p(1) =  0.3076923076923077\n",
      "p(2) =  0.3076923076923077\n",
      "p(3) =  0.15384615384615385\n",
      "p(4) =  0.07692307692307693\n",
      "p(5) =  0.15384615384615385\n"
     ]
    }
   ],
   "source": [
    "# x represents the whole list i after the underscore represents a specific number\n",
    "# pmf = frequency/total number\n",
    "def p(x_i):\n",
    "    frequency = counter[x_i]\n",
    "    total_number = len(x)\n",
    "    return frequency/total_number\n",
    "\n",
    "print (\"p(1) = \", p(1))\n",
    "print (\"p(2) = \", p(2))\n",
    "print (\"p(3) = \", p(3))\n",
    "print (\"p(4) = \", p(4))\n",
    "print (\"p(5) = \", p(5))"
   ]
  },
  {
   "cell_type": "code",
   "execution_count": 15,
   "id": "9338f085",
   "metadata": {},
   "outputs": [
    {
     "data": {
      "text/plain": [
       "2.4615384615384617"
      ]
     },
     "execution_count": 15,
     "metadata": {},
     "output_type": "execute_result"
    }
   ],
   "source": [
    "# calculate expected value of mu\n",
    "# p(x_i) * x_i --Multiply the probability by the value → weighted contribution\n",
    "# sum calculates all weighted contributions\n",
    "# same as μ=(1*0.31​)+(2*0.31​)+(3*0.15​)+(4*0.077)+(5*0.15) = 2.46\n",
    "mu = sum([p(x_i)*x_i for x_i in set(x)])\n",
    "mu"
   ]
  },
  {
   "cell_type": "code",
   "execution_count": 16,
   "id": "7f2f2ffa",
   "metadata": {},
   "outputs": [
    {
     "data": {
      "text/plain": [
       "1.6923076923076925"
      ]
     },
     "execution_count": 16,
     "metadata": {},
     "output_type": "execute_result"
    }
   ],
   "source": [
    "# square brackets coz it makes a list of the value x_i multiplied by its probability p(x_i) for each unique value in x.\n",
    "y=[5,2,2,4,6,8,8,100,9]\n",
    "mu_y=sum([p(x_i)*x_i for x_i in set(y)])\n",
    "mu_y"
   ]
  },
  {
   "cell_type": "code",
   "execution_count": 17,
   "id": "7b227563",
   "metadata": {},
   "outputs": [
    {
     "name": "stdout",
     "output_type": "stream",
     "text": [
      "mean: 16.0\n"
     ]
    }
   ],
   "source": [
    "import numpy as np\n",
    "mean_value=np.mean(y)\n",
    "print(\"mean:\",mean_value)"
   ]
  },
  {
   "cell_type": "code",
   "execution_count": null,
   "id": "8a0b5017",
   "metadata": {},
   "outputs": [
    {
     "name": "stdout",
     "output_type": "stream",
     "text": [
      "dict_keys([1, 2, 3, 4, 5]) [0.31, 0.31, 0.15, 0.08, 0.15]\n",
      "5 2\n"
     ]
    }
   ],
   "source": [
    "# square brackets because pmf is an empty list\n",
    "# key means value,,,,,,, val means how many times the value appears\n",
    "# pmf.append to add numbers with 2dp in []\n",
    "# 2 shows number of decimal places\n",
    "pmf = []\n",
    "for key, val in counter.items():\n",
    "    pmf.append(round(val/len(x), 2))\n",
    "    \n",
    "print(counter.keys(), pmf)"
   ]
  },
  {
   "cell_type": "code",
   "execution_count": 19,
   "id": "5e848213",
   "metadata": {},
   "outputs": [
    {
     "data": {
      "text/plain": [
       "np.float64(1.0)"
      ]
     },
     "execution_count": 19,
     "metadata": {},
     "output_type": "execute_result"
    }
   ],
   "source": [
    "import numpy as np\n",
    "np.array(pmf).sum()"
   ]
  },
  {
   "cell_type": "markdown",
   "id": "442f1f22",
   "metadata": {},
   "source": [
    "\n",
    "--- Assignment: pmf, pdf, cdf labs"
   ]
  },
  {
   "cell_type": "code",
   "execution_count": 20,
   "id": "a6505eb7",
   "metadata": {},
   "outputs": [
    {
     "data": {
      "text/html": [
       "<div>\n",
       "<style scoped>\n",
       "    .dataframe tbody tr th:only-of-type {\n",
       "        vertical-align: middle;\n",
       "    }\n",
       "\n",
       "    .dataframe tbody tr th {\n",
       "        vertical-align: top;\n",
       "    }\n",
       "\n",
       "    .dataframe thead th {\n",
       "        text-align: right;\n",
       "    }\n",
       "</style>\n",
       "<table border=\"1\" class=\"dataframe\">\n",
       "  <thead>\n",
       "    <tr style=\"text-align: right;\">\n",
       "      <th></th>\n",
       "      <th>Gender</th>\n",
       "      <th>Height</th>\n",
       "      <th>Weight</th>\n",
       "    </tr>\n",
       "  </thead>\n",
       "  <tbody>\n",
       "    <tr>\n",
       "      <th>0</th>\n",
       "      <td>Male</td>\n",
       "      <td>73.847017</td>\n",
       "      <td>241.893563</td>\n",
       "    </tr>\n",
       "    <tr>\n",
       "      <th>1</th>\n",
       "      <td>Male</td>\n",
       "      <td>68.781904</td>\n",
       "      <td>162.310473</td>\n",
       "    </tr>\n",
       "    <tr>\n",
       "      <th>2</th>\n",
       "      <td>Male</td>\n",
       "      <td>74.110105</td>\n",
       "      <td>212.740856</td>\n",
       "    </tr>\n",
       "    <tr>\n",
       "      <th>3</th>\n",
       "      <td>Male</td>\n",
       "      <td>71.730978</td>\n",
       "      <td>220.042470</td>\n",
       "    </tr>\n",
       "    <tr>\n",
       "      <th>4</th>\n",
       "      <td>Male</td>\n",
       "      <td>69.881796</td>\n",
       "      <td>206.349801</td>\n",
       "    </tr>\n",
       "  </tbody>\n",
       "</table>\n",
       "</div>"
      ],
      "text/plain": [
       "  Gender     Height      Weight\n",
       "0   Male  73.847017  241.893563\n",
       "1   Male  68.781904  162.310473\n",
       "2   Male  74.110105  212.740856\n",
       "3   Male  71.730978  220.042470\n",
       "4   Male  69.881796  206.349801"
      ]
     },
     "execution_count": 20,
     "metadata": {},
     "output_type": "execute_result"
    }
   ],
   "source": [
    "import pandas as pd\n",
    "import numpy as np\n",
    "import matplotlib.pyplot as plt\n",
    "import seaborn as sns\n",
    "import scipy.stats as stats\n",
    "\n",
    "df= pd.read_csv(r\"weight-height.csv\")\n",
    "df.head()\n"
   ]
  },
  {
   "cell_type": "markdown",
   "id": "8a1d700f",
   "metadata": {},
   "source": [
    "### Visualization"
   ]
  },
  {
   "cell_type": "code",
   "execution_count": 21,
   "id": "e6e8df2c",
   "metadata": {},
   "outputs": [
    {
     "data": {
      "image/png": "[encoded data removed]",
      "text/plain": [
       "<Figure size 640x480 with 1 Axes>"
      ]
     },
     "metadata": {},
     "output_type": "display_data"
    }
   ],
   "source": [
    "import matplotlib.pyplot as plt\n",
    "%matplotlib inline\n",
    "plt.style.use('ggplot')\n",
    "\n",
    "outcomes = counter.keys()\n",
    "\n",
    "plt.bar(outcomes, [p(x_i) for x_i in outcomes]);\n",
    "plt.title(\"A Probability Mass Function\")\n",
    "plt.xlabel(\"Outcomes\")\n",
    "plt.ylabel(\"Probabilities of Outcomes\");"
   ]
  },
  {
   "cell_type": "markdown",
   "id": "33c32939",
   "metadata": {},
   "source": [
    "# TUESDAY 23RD SEP, 2025\n",
    "## Discrete distributions\n",
    "### Bernoulli distributions\n",
    "- MEAN or expected value = E(X) = P\n",
    "- VARIANCE = P * (1-P)\n",
    "\n",
    "### Binomial Distribution\n",
    "- Mean or EXPECTED VALUE = E(x) = n * p\n",
    "- VARIANCE = n * P * (1-P)\n",
    "- Finding P(y = k) = combination (n,k) * ((p^k) * (p^(n-k)))"
   ]
  },
  {
   "cell_type": "code",
   "execution_count": 22,
   "id": "6a87a38f",
   "metadata": {},
   "outputs": [
    {
     "data": {
      "text/plain": [
       "0.009175039999999992"
      ]
     },
     "execution_count": 22,
     "metadata": {},
     "output_type": "execute_result"
    }
   ],
   "source": [
    "# n represents the number of experiments and is constant in all cases\n",
    "# k represents the number of success outcomes\n",
    "# p is the probability of scoring which is constant in all cases\n",
    "\n",
    "n = int(input(\"Enter your total experiments:\"))\n",
    "k = int(input(\"Enter your desired value here:\"))\n",
    "p = float(input(\"Enter your probability here:\"))\n",
    "\n",
    "import math\n",
    "math.comb(n,k)*((p**k)*((1-p)**(n-k)))"
   ]
  },
  {
   "cell_type": "code",
   "execution_count": 46,
   "id": "1cb24e16",
   "metadata": {},
   "outputs": [
    {
     "name": "stdout",
     "output_type": "stream",
     "text": [
      "0.25028228759765625\n"
     ]
    }
   ],
   "source": [
    "def binom_dist(n,k,p):\n",
    "    return math.comb(n,k) * ((p**k) * ((1-p)**(n-k)))\n",
    "\n",
    "print (binom_dist(10,3,0.25))"
   ]
  },
  {
   "cell_type": "code",
   "execution_count": 24,
   "id": "f6a2ad20",
   "metadata": {},
   "outputs": [
    {
     "data": {
      "text/plain": [
       "0.25028228759765625"
      ]
     },
     "execution_count": 24,
     "metadata": {},
     "output_type": "execute_result"
    }
   ],
   "source": [
    "binom_dist(10,3,0.25)"
   ]
  },
  {
   "cell_type": "code",
   "execution_count": 25,
   "id": "c08f83b7",
   "metadata": {},
   "outputs": [
    {
     "data": {
      "text/plain": [
       "0.00308990478515625"
      ]
     },
     "execution_count": 25,
     "metadata": {},
     "output_type": "execute_result"
    }
   ],
   "source": [
    "binom_dist(10,7,0.25)"
   ]
  },
  {
   "cell_type": "markdown",
   "id": "e70af072",
   "metadata": {},
   "source": [
    "### Uniform distribution\n",
    "- PDF = f(x) = 1 / (b-a) when a<= x <= b and f(x) = 0 when x e (a,b)\n",
    "- A is the smallest value\n",
    "- B is the largest value\n",
    "- MEAN or E(X) = (a+b)/ 2\n",
    "- VARIANCE = ((b-a)(b-a+2)) / 12"
   ]
  },
  {
   "cell_type": "markdown",
   "id": "e2e634a7",
   "metadata": {},
   "source": [
    "## Continuos Distribution\n",
    "### Normal distribution\n",
    "- CLT - Central Limit Theorem\n",
    "- bell curve or gaussian curve\n",
    "- two parameters : mean  and standard deviation\n",
    "- MEAN , MEDIAN, MODE are equal \n",
    "- 68% one standard deviation, 95% two standard deviations, 99.7% three std deviations\n",
    "- it has a sigmoid curve for cdf"
   ]
  },
  {
   "cell_type": "markdown",
   "id": "fce58533",
   "metadata": {},
   "source": [
    "#### Standard Normal Distribution\n",
    "- Has a mean of 0 and a std deviation of 1\n",
    "- z score helps identify outliers and compares the variables with the average\n",
    "- z score = x((variable) - u(mean)) / std deviation"
   ]
  },
  {
   "cell_type": "markdown",
   "id": "78b5b7c3",
   "metadata": {},
   "source": [
    "### Data Standardization"
   ]
  },
  {
   "cell_type": "markdown",
   "id": "9aaaaf1e",
   "metadata": {},
   "source": [
    "# THURSDAY 25TH SEP,2025\n",
    "## CENTRAL LIMIT THEOREM"
   ]
  },
  {
   "cell_type": "markdown",
   "id": "f0011906",
   "metadata": {},
   "source": [
    "--- listing pumpkin and its weights"
   ]
  },
  {
   "cell_type": "code",
   "execution_count": 26,
   "id": "ce650ef2",
   "metadata": {},
   "outputs": [],
   "source": [
    "pumpkin = [\"a\",\"b\",\"c\",\"d\",\"e\",\"f\"]\n",
    "weights = [19,14,15,9,10,17]"
   ]
  },
  {
   "cell_type": "markdown",
   "id": "4e11def6",
   "metadata": {},
   "source": [
    "--- making a dictionary"
   ]
  },
  {
   "cell_type": "code",
   "execution_count": 27,
   "id": "4c22c275",
   "metadata": {},
   "outputs": [
    {
     "data": {
      "text/plain": [
       "{'a': 19, 'b': 14, 'c': 15, 'd': 9, 'e': 10, 'f': 17}"
      ]
     },
     "execution_count": 27,
     "metadata": {},
     "output_type": "execute_result"
    }
   ],
   "source": [
    "\n",
    "import numpy as np\n",
    "import matplotlib.pyplot as plt\n",
    "import itertools\n",
    "from collections import Counter\n",
    "\n",
    "# zip places keys with corresponding values\n",
    "pumpkin_dict = dict(zip(pumpkin,weights))\n",
    "pumpkin_dict"
   ]
  },
  {
   "cell_type": "markdown",
   "id": "f36b5351",
   "metadata": {},
   "source": [
    "--- calculating mean"
   ]
  },
  {
   "cell_type": "code",
   "execution_count": 28,
   "id": "8b673812",
   "metadata": {},
   "outputs": [],
   "source": [
    "def calculate_mu(x):\n",
    "    d = sum(x.values())/len(x)\n",
    "    return d"
   ]
  },
  {
   "cell_type": "code",
   "execution_count": 29,
   "id": "ee00e325",
   "metadata": {},
   "outputs": [
    {
     "data": {
      "text/plain": [
       "14.0"
      ]
     },
     "execution_count": 29,
     "metadata": {},
     "output_type": "execute_result"
    }
   ],
   "source": [
    "pumpkin_mu = calculate_mu(pumpkin_dict)\n",
    "pumpkin_mu"
   ]
  },
  {
   "cell_type": "markdown",
   "id": "f8d76379",
   "metadata": {},
   "source": [
    "--- plotting"
   ]
  },
  {
   "cell_type": "code",
   "execution_count": 30,
   "id": "0d565564",
   "metadata": {},
   "outputs": [
    {
     "data": {
      "image/png": "[encoded data removed]",
      "text/plain": [
       "<Figure size 640x480 with 1 Axes>"
      ]
     },
     "metadata": {},
     "output_type": "display_data"
    }
   ],
   "source": [
    "\n",
    "plt.bar(pumpkin, weights, color=\"orange\", edgecolor=\"black\")\n",
    "plt.axhline(pumpkin_mu, color=\"red\", linestyle=\"--\", linewidth=2, label=f\"Mean = {pumpkin_mu}\")\n",
    "plt.xlabel(\"Pumpkins\")\n",
    "plt.ylabel(\"Weight\")\n",
    "plt.title(\"Pumpkin Weights with Mean Highlighted\")\n",
    "plt.legend()\n",
    "plt.show()\n",
    " "
   ]
  },
  {
   "cell_type": "markdown",
   "id": "15fb7392",
   "metadata": {},
   "source": [
    "--- combinations of values by 2"
   ]
  },
  {
   "cell_type": "code",
   "execution_count": 31,
   "id": "b0495f57",
   "metadata": {},
   "outputs": [
    {
     "data": {
      "text/plain": [
       "[('a', 'b'),\n",
       " ('a', 'c'),\n",
       " ('a', 'd'),\n",
       " ('a', 'e'),\n",
       " ('a', 'f'),\n",
       " ('b', 'c'),\n",
       " ('b', 'd'),\n",
       " ('b', 'e'),\n",
       " ('b', 'f'),\n",
       " ('c', 'd'),\n",
       " ('c', 'e'),\n",
       " ('c', 'f'),\n",
       " ('d', 'e'),\n",
       " ('d', 'f'),\n",
       " ('e', 'f')]"
      ]
     },
     "execution_count": 31,
     "metadata": {},
     "output_type": "execute_result"
    }
   ],
   "source": [
    "# itertools returns an iterator as it iterates.\n",
    "# combs have two arguments the n and k in our case n is the keys and k is the sample size which is 2\n",
    "# combs has to take list function because it lists\n",
    "\n",
    "sample_size = 2\n",
    "combs = list(itertools.combinations(pumpkin_dict.keys(), sample_size))\n",
    "combs"
   ]
  },
  {
   "cell_type": "markdown",
   "id": "7acd1a8b",
   "metadata": {},
   "source": [
    "--- each combination with its sample mean"
   ]
  },
  {
   "cell_type": "code",
   "execution_count": 32,
   "id": "77066e34",
   "metadata": {},
   "outputs": [],
   "source": [
    "# n is the sample size\n",
    "# generating possible combinations using the given sample size\n",
    "# data.values() is a dictionary\n",
    "# data.sample when whe have a dataset\n",
    "# mu is to compare all the means with the population mean\n",
    "\n",
    "def sample_mean(n,data):\n",
    "    n = n\n",
    "    mu = sum(data.values())/len(data)\n",
    "    combinations =list(itertools.combinations(data.keys(), n))\n",
    "\n",
    "# sample mean\n",
    "# then we use for loop\n",
    "    xbar_list = []\n",
    "    for comb in combinations:\n",
    "        sample_weights = [data[p] for p in comb]\n",
    "        sample_mean = sum(sample_weights)/n\n",
    "        xbar_list.append(sample_mean)\n",
    "    return combinations, xbar_list\n",
    "\n",
    "# returns each comb with its mean"
   ]
  },
  {
   "cell_type": "code",
   "execution_count": 33,
   "id": "8e966222",
   "metadata": {},
   "outputs": [
    {
     "name": "stdout",
     "output_type": "stream",
     "text": [
      "('a', 'b') 16.5\n",
      "('a', 'c') 17.0\n",
      "('a', 'd') 14.0\n",
      "('a', 'e') 14.5\n",
      "('a', 'f') 18.0\n",
      "('b', 'c') 14.5\n",
      "('b', 'd') 11.5\n",
      "('b', 'e') 12.0\n",
      "('b', 'f') 15.5\n",
      "('c', 'd') 12.0\n",
      "('c', 'e') 12.5\n",
      "('c', 'f') 16.0\n",
      "('d', 'e') 9.5\n",
      "('d', 'f') 13.0\n",
      "('e', 'f') 13.5\n"
     ]
    }
   ],
   "source": [
    "combinations, xbar_list = sample_mean(sample_size, pumpkin_dict)\n",
    "for c,m in zip(combinations, xbar_list):\n",
    "    print (c,m)\n",
    "    \n",
    "# c is each comb\n",
    "# m is sample mean\n"
   ]
  },
  {
   "cell_type": "code",
   "execution_count": 34,
   "id": "31996e31",
   "metadata": {},
   "outputs": [
    {
     "data": {
      "text/plain": [
       "14.0"
      ]
     },
     "execution_count": 34,
     "metadata": {},
     "output_type": "execute_result"
    }
   ],
   "source": [
    "mean_of_allsample_means = sum(xbar_list)/len(xbar_list)\n",
    "mean_of_allsample_means"
   ]
  },
  {
   "cell_type": "code",
   "execution_count": 6,
   "id": "8138bde5",
   "metadata": {},
   "outputs": [
    {
     "name": "stdout",
     "output_type": "stream",
     "text": [
      "Skewness: 2.170271505283854\n"
     ]
    }
   ],
   "source": [
    "from scipy import stats\n",
    "import numpy as np\n",
    "\n",
    "data = np.random.exponential(scale=2, size=1000)\n",
    "print(\"Skewness:\", stats.skew(data))\n"
   ]
  },
  {
   "cell_type": "code",
   "execution_count": 7,
   "id": "8cf2a7c5",
   "metadata": {},
   "outputs": [],
   "source": [
    "# Setting a seed for consistent results\n",
    "np.random.seed(42)\n",
    "\n",
    "x_random = None\n",
    "\n",
    "# With seed set to 42, and if you wrote your code the *exact* way we have it in the solution branch\n",
    "# you should get these results:\n",
    "# Skewness = 0.001963697766356243\n",
    "# kurtosis = 0.026479272360444117\n"
   ]
  }
 ],
 "metadata": {
  "kernelspec": {
   "display_name": "my_env",
   "language": "python",
   "name": "python3"
  },
  "language_info": {
   "codemirror_mode": {
    "name": "ipython",
    "version": 3
   },
   "file_extension": ".py",
   "mimetype": "text/x-python",
   "name": "python",
   "nbconvert_exporter": "python",
   "pygments_lexer": "ipython3",
   "version": "3.12.10"
  }
 },
 "nbformat": 4,
 "nbformat_minor": 5
}
