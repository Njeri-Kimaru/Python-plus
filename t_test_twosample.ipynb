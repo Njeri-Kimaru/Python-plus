{
 "cells": [
  {
   "cell_type": "markdown",
   "id": "8d2f80ec",
   "metadata": {},
   "source": [
    "# MONDAY 6TH OCT,2025"
   ]
  },
  {
   "cell_type": "markdown",
   "id": "11792ca9",
   "metadata": {},
   "source": [
    "## T-TEST TWO SAMPLES"
   ]
  },
  {
   "cell_type": "code",
   "execution_count": 1,
   "id": "df8e1e59",
   "metadata": {},
   "outputs": [],
   "source": [
    "import numpy as np\n",
    "from scipy import stats"
   ]
  },
  {
   "cell_type": "markdown",
   "id": "9c9fad6b",
   "metadata": {},
   "source": [
    "--- data\n"
   ]
  },
  {
   "cell_type": "code",
   "execution_count": 4,
   "id": "b56f8a40",
   "metadata": {},
   "outputs": [],
   "source": [
    "# Use this sample data to conduct experimentation\n",
    "\n",
    "control = np.array([166, 165, 120,  94, 104, 166,  98,  85,  97,  87, 114, 100, 152,\n",
    "                    87, 152, 102,  82,  80,  84, 109,  98, 154, 135, 164, 137, 128,\n",
    "                    122, 146,  86, 146,  85, 101, 109, 105, 163, 136, 142, 144, 140,\n",
    "                    128, 126, 119, 121, 126, 169,  87,  97, 167,  89, 155])\n",
    "\n",
    "experimental = np.array([ 83, 100, 123,  75, 130,  77,  78,  87, 116, 116, 141,  93, 107,\n",
    "                         101, 142, 152, 130, 123, 122, 154, 119, 149, 106, 107, 108, 151,\n",
    "                         97,  95, 104, 141,  80, 110, 136, 134, 142, 135, 111,  83,  86,\n",
    "                         116,  86, 117,  87, 143, 104, 107,  86,  88, 124,  76])\n"
   ]
  },
  {
   "cell_type": "markdown",
   "id": "6cc30fca",
   "metadata": {},
   "source": [
    "--- means"
   ]
  },
  {
   "cell_type": "code",
   "execution_count": 5,
   "id": "48bde53e",
   "metadata": {},
   "outputs": [
    {
     "data": {
      "text/plain": [
       "np.float64(121.38)"
      ]
     },
     "execution_count": 5,
     "metadata": {},
     "output_type": "execute_result"
    }
   ],
   "source": [
    "control_mean = control.mean()\n",
    "control_mean"
   ]
  },
  {
   "cell_type": "code",
   "execution_count": 6,
   "id": "12efeb69",
   "metadata": {},
   "outputs": [
    {
     "data": {
      "text/plain": [
       "np.float64(111.56)"
      ]
     },
     "execution_count": 6,
     "metadata": {},
     "output_type": "execute_result"
    }
   ],
   "source": [
    "experimental_mean = experimental.mean()\n",
    "experimental_mean"
   ]
  },
  {
   "cell_type": "markdown",
   "id": "1d318f99",
   "metadata": {},
   "source": [
    "--- mean diff"
   ]
  },
  {
   "cell_type": "code",
   "execution_count": 7,
   "id": "ecab9991",
   "metadata": {},
   "outputs": [
    {
     "data": {
      "text/plain": [
       "np.float64(-9.819999999999993)"
      ]
     },
     "execution_count": 7,
     "metadata": {},
     "output_type": "execute_result"
    }
   ],
   "source": [
    "experimental_mean - control_mean"
   ]
  },
  {
   "cell_type": "markdown",
   "id": "9e9d04ff",
   "metadata": {},
   "source": [
    "--- variances"
   ]
  },
  {
   "cell_type": "code",
   "execution_count": 8,
   "id": "dcf58846",
   "metadata": {},
   "outputs": [
    {
     "data": {
      "text/plain": [
       "np.float64(530.7664)"
      ]
     },
     "execution_count": 8,
     "metadata": {},
     "output_type": "execute_result"
    }
   ],
   "source": [
    "experimental_variance = experimental.var()\n",
    "experimental_variance"
   ]
  },
  {
   "cell_type": "code",
   "execution_count": 9,
   "id": "0b9d25eb",
   "metadata": {},
   "outputs": [
    {
     "data": {
      "text/plain": [
       "np.float64(789.8755999999998)"
      ]
     },
     "execution_count": 9,
     "metadata": {},
     "output_type": "execute_result"
    }
   ],
   "source": [
    "control_variance = control.var()\n",
    "control_variance"
   ]
  },
  {
   "cell_type": "markdown",
   "id": "a304207c",
   "metadata": {},
   "source": [
    "--- degrees of freedom"
   ]
  },
  {
   "cell_type": "code",
   "execution_count": 11,
   "id": "92412e33",
   "metadata": {},
   "outputs": [
    {
     "data": {
      "text/plain": [
       "49"
      ]
     },
     "execution_count": 11,
     "metadata": {},
     "output_type": "execute_result"
    }
   ],
   "source": [
    "experimental_df = len(experimental)-1\n",
    "experimental_df"
   ]
  },
  {
   "cell_type": "code",
   "execution_count": 10,
   "id": "ed4dd7fe",
   "metadata": {},
   "outputs": [
    {
     "data": {
      "text/plain": [
       "49"
      ]
     },
     "execution_count": 10,
     "metadata": {},
     "output_type": "execute_result"
    }
   ],
   "source": [
    "control_df = len(control)-1\n",
    "control_df"
   ]
  },
  {
   "cell_type": "code",
   "execution_count": 12,
   "id": "7dd8c433",
   "metadata": {},
   "outputs": [
    {
     "data": {
      "text/plain": [
       "np.float64(660.3209999999999)"
      ]
     },
     "execution_count": 12,
     "metadata": {},
     "output_type": "execute_result"
    }
   ],
   "source": [
    "pooled_var = ((control_df*control_variance)+(experimental_df*experimental_variance))/(experimental_df+control_df)\n",
    "pooled_var"
   ]
  },
  {
   "cell_type": "markdown",
   "id": "11c6522d",
   "metadata": {},
   "source": [
    "--- t statistics"
   ]
  },
  {
   "cell_type": "code",
   "execution_count": 13,
   "id": "c79645e0",
   "metadata": {},
   "outputs": [
    {
     "data": {
      "text/plain": [
       "np.float64(1.9107503046680214)"
      ]
     },
     "execution_count": 13,
     "metadata": {},
     "output_type": "execute_result"
    }
   ],
   "source": [
    "positive_t_statistic = (control_mean - experimental_mean) / (np.sqrt(pooled_var*(1/len(control) + 1/len(experimental))))\n",
    "positive_t_statistic"
   ]
  },
  {
   "cell_type": "code",
   "execution_count": 14,
   "id": "439a0505",
   "metadata": {},
   "outputs": [
    {
     "data": {
      "text/plain": [
       "np.float64(-1.9107503046680214)"
      ]
     },
     "execution_count": 14,
     "metadata": {},
     "output_type": "execute_result"
    }
   ],
   "source": [
    "negative_t_statistic = (experimental_mean - control_mean) / np.sqrt(pooled_var*(1/len(control)+1/len(experimental)))\n",
    "negative_t_statistic"
   ]
  },
  {
   "cell_type": "markdown",
   "id": "b2a42a26",
   "metadata": {},
   "source": [
    "--- P VALUE"
   ]
  },
  {
   "cell_type": "code",
   "execution_count": 15,
   "id": "8eebc8c9",
   "metadata": {},
   "outputs": [
    {
     "data": {
      "text/plain": [
       "np.float64(0.058959439394545586)"
      ]
     },
     "execution_count": 15,
     "metadata": {},
     "output_type": "execute_result"
    }
   ],
   "source": [
    "lower_tall = stats.t.cdf(negative_t_statistic,(50+50-2),0,1)\n",
    "upper_tall = 1.-stats.t.cdf(positive_t_statistic,(50+50-2),0,1)\n",
    "pvalue = lower_tall + upper_tall\n",
    "pvalue"
   ]
  }
 ],
 "metadata": {
  "kernelspec": {
   "display_name": "my_env",
   "language": "python",
   "name": "python3"
  },
  "language_info": {
   "codemirror_mode": {
    "name": "ipython",
    "version": 3
   },
   "file_extension": ".py",
   "mimetype": "text/x-python",
   "name": "python",
   "nbconvert_exporter": "python",
   "pygments_lexer": "ipython3",
   "version": "3.12.10"
  }
 },
 "nbformat": 4,
 "nbformat_minor": 5
}
