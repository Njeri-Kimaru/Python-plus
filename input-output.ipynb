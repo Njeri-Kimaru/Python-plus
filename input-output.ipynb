{
 "cells": [
  {
   "cell_type": "markdown",
   "id": "2469f631",
   "metadata": {},
   "source": [
    "# THURSDAY 4TH SEP PYTHON"
   ]
  },
  {
   "cell_type": "code",
   "execution_count": 1,
   "id": "9ef8c71b",
   "metadata": {},
   "outputs": [
    {
     "name": "stdout",
     "output_type": "stream",
     "text": [
      "I am 23 years old\n"
     ]
    }
   ],
   "source": [
    "year_of_birth = int (input(\"Enter your year of birth\"))\n",
    "age = 2025 - year_of_birth\n",
    "print(f\"I am {age} years old\")\n",
    "# f string allows to mix different data types"
   ]
  },
  {
   "cell_type": "code",
   "execution_count": null,
   "id": "646407c1",
   "metadata": {},
   "outputs": [
    {
     "name": "stdout",
     "output_type": "stream",
     "text": [
      "I was born on date 1\n"
     ]
    }
   ],
   "source": [
    "date_of_birth = int(input(\"I was born on date:\"))\n",
    "print (f\"I was born on date {date_of_birth}\")\n"
   ]
  },
  {
   "cell_type": "code",
   "execution_count": null,
   "id": "b628ec36",
   "metadata": {},
   "outputs": [
    {
     "name": "stdout",
     "output_type": "stream",
     "text": [
      "I have been employed for 22 years.\n"
     ]
    }
   ],
   "source": [
    "#years employed\n",
    "year_employed = int(input(\"I was employed in the year:\"))\n",
    "years_employed = 2025 - year_employed\n",
    "print(f\"I have been employed for {years_employed} years.\")"
   ]
  },
  {
   "cell_type": "code",
   "execution_count": null,
   "id": "acd0e2b4",
   "metadata": {},
   "outputs": [
    {
     "name": "stdout",
     "output_type": "stream",
     "text": [
      "hi too\n"
     ]
    }
   ],
   "source": [
    "# a programme that greets you back\n",
    "Greetings = (input(\"say hi to get a response\"))\n",
    "print(\"hi too\")"
   ]
  },
  {
   "cell_type": "code",
   "execution_count": null,
   "id": "a056ec76",
   "metadata": {},
   "outputs": [
    {
     "name": "stdout",
     "output_type": "stream",
     "text": [
      "my favorite colour is yellow.\n"
     ]
    }
   ],
   "source": [
    "# a programme that tells you your favorite colour\n",
    "favorite_colour = (input(\"Whats your favorite colour?:\"))\n",
    "print (f\"my favorite colour is {favorite_colour}.\")"
   ]
  },
  {
   "cell_type": "code",
   "execution_count": null,
   "id": "32805b2d",
   "metadata": {},
   "outputs": [
    {
     "name": "stdout",
     "output_type": "stream",
     "text": [
      "My name is Njeri, I am 23 years old. I was born on 1st, November, 2002\n"
     ]
    }
   ],
   "source": [
    "# get users name, age and date of birth\n",
    "def suffix_date(day):\n",
    "    if day >= 4 and day <= 30:\n",
    "        return (f\"{day}th\")\n",
    "    elif day == 3:\n",
    "        return (f\"{day}rd\")\n",
    "    elif day == 2:\n",
    "        return (f\"{day}nd\")\n",
    "    else:\n",
    "        return (f\"{day}st\")\n",
    "\n",
    "user = (input(\"name:\"))\n",
    "year_born = int(input(\"year born:\"))\n",
    "age = 2025 - year_born\n",
    "month_born = (input(\"month born:\"))\n",
    "day = int(input(\"date:\"))\n",
    "day_with_suffix = suffix_date(day)\n",
    "date_born = f\"{day_with_suffix}, {month_born}, {year_born}\"\n",
    "\n",
    "\n",
    "\n",
    "print (f\"My name is {user}, I am {age} years old. I was born on {date_born}\")"
   ]
  },
  {
   "cell_type": "code",
   "execution_count": 2,
   "id": "f46cb5a7",
   "metadata": {},
   "outputs": [
    {
     "name": "stdout",
     "output_type": "stream",
     "text": [
      "am very good\n",
      "I am fine thank you\n"
     ]
    }
   ],
   "source": [
    "greetings = (input(\"Say hi to get a response: \"))\n",
    "name = \" Njeri\"\n",
    "greetings += name + \" how are you doing?\"\n",
    "print (input(greetings))\n",
    "print (\"I am fine thank you\")\n"
   ]
  },
  {
   "cell_type": "markdown",
   "id": "efdd273d",
   "metadata": {},
   "source": [
    "#### variables\n",
    "define x to be 10 and y to be 20"
   ]
  },
  {
   "cell_type": "code",
   "execution_count": null,
   "id": "5ad4e6df",
   "metadata": {},
   "outputs": [],
   "source": [
    "#ARITHMETIC FUNCTIONS IN PYTHON\n",
    "# ADD, DIVISION, MULTIPLICATION, SUBTRACT, SUBTRACTION, ABSOLUTE(AGREGATIVE NUMBER)\n",
    "x=10\n",
    "y=20"
   ]
  },
  {
   "cell_type": "code",
   "execution_count": null,
   "id": "68801e71",
   "metadata": {},
   "outputs": [
    {
     "data": {
      "text/plain": [
       "10"
      ]
     },
     "execution_count": 18,
     "metadata": {},
     "output_type": "execute_result"
    }
   ],
   "source": [
    "y-x"
   ]
  },
  {
   "cell_type": "markdown",
   "id": "019334ab",
   "metadata": {},
   "source": [
    "##### Multiplication"
   ]
  },
  {
   "cell_type": "code",
   "execution_count": null,
   "id": "8ed626d2",
   "metadata": {},
   "outputs": [
    {
     "data": {
      "text/plain": [
       "200"
      ]
     },
     "execution_count": 20,
     "metadata": {},
     "output_type": "execute_result"
    }
   ],
   "source": [
    "y*x"
   ]
  },
  {
   "cell_type": "markdown",
   "id": "a0c1b688",
   "metadata": {},
   "source": [
    "##### Division"
   ]
  },
  {
   "cell_type": "code",
   "execution_count": null,
   "id": "c3b5cbd7",
   "metadata": {},
   "outputs": [
    {
     "data": {
      "text/plain": [
       "2.0"
      ]
     },
     "execution_count": 21,
     "metadata": {},
     "output_type": "execute_result"
    }
   ],
   "source": [
    "y/x"
   ]
  },
  {
   "cell_type": "markdown",
   "id": "66b40f1c",
   "metadata": {},
   "source": [
    "##### Power"
   ]
  },
  {
   "cell_type": "code",
   "execution_count": null,
   "id": "d5dfdf16",
   "metadata": {},
   "outputs": [
    {
     "data": {
      "text/plain": [
       "1000"
      ]
     },
     "execution_count": 23,
     "metadata": {},
     "output_type": "execute_result"
    }
   ],
   "source": [
    "x**3"
   ]
  },
  {
   "cell_type": "code",
   "execution_count": null,
   "id": "69d974b4",
   "metadata": {},
   "outputs": [
    {
     "data": {
      "text/plain": [
       "400"
      ]
     },
     "execution_count": 24,
     "metadata": {},
     "output_type": "execute_result"
    }
   ],
   "source": [
    "y**2"
   ]
  },
  {
   "cell_type": "markdown",
   "id": "6c83f875",
   "metadata": {},
   "source": [
    "##### Modulus"
   ]
  },
  {
   "cell_type": "code",
   "execution_count": null,
   "id": "449fccbf",
   "metadata": {},
   "outputs": [],
   "source": [
    "z=3"
   ]
  },
  {
   "cell_type": "code",
   "execution_count": null,
   "id": "7ffba050",
   "metadata": {},
   "outputs": [
    {
     "data": {
      "text/plain": [
       "0"
      ]
     },
     "execution_count": 25,
     "metadata": {},
     "output_type": "execute_result"
    }
   ],
   "source": [
    "y%x"
   ]
  },
  {
   "cell_type": "code",
   "execution_count": null,
   "id": "f6fcdf0b",
   "metadata": {},
   "outputs": [
    {
     "data": {
      "text/plain": [
       "1"
      ]
     },
     "execution_count": 27,
     "metadata": {},
     "output_type": "execute_result"
    }
   ],
   "source": [
    "x%z"
   ]
  },
  {
   "cell_type": "code",
   "execution_count": null,
   "id": "88e722c1",
   "metadata": {},
   "outputs": [
    {
     "data": {
      "text/plain": [
       "0"
      ]
     },
     "execution_count": 28,
     "metadata": {},
     "output_type": "execute_result"
    }
   ],
   "source": [
    "y%x"
   ]
  },
  {
   "cell_type": "markdown",
   "id": "27ea9efa",
   "metadata": {},
   "source": [
    "### logical operators\n",
    "They include\n",
    "- And\n",
    "- Or\n",
    "- Not\n",
    "\n",
    "### Comparison operators\n",
    "They include \n",
    "- Equals ==\n",
    "- Not equals to !=\n",
    "- Greater than >\n",
    "- less than <\n",
    "- greater than or equals to >=\n",
    "- less than or equals to <="
   ]
  },
  {
   "cell_type": "code",
   "execution_count": null,
   "id": "cae885e0",
   "metadata": {},
   "outputs": [
    {
     "name": "stdout",
     "output_type": "stream",
     "text": [
      "30 100000000000000000000 10\n"
     ]
    }
   ],
   "source": [
    "print (x+y, x**y, x%y)"
   ]
  },
  {
   "cell_type": "code",
   "execution_count": null,
   "id": "e963b0e6",
   "metadata": {},
   "outputs": [
    {
     "data": {
      "text/plain": [
       "True"
      ]
     },
     "execution_count": 36,
     "metadata": {},
     "output_type": "execute_result"
    }
   ],
   "source": [
    "y>x and z<5"
   ]
  },
  {
   "cell_type": "code",
   "execution_count": null,
   "id": "2af56ff4",
   "metadata": {},
   "outputs": [
    {
     "data": {
      "text/plain": [
       "False"
      ]
     },
     "execution_count": 35,
     "metadata": {},
     "output_type": "execute_result"
    }
   ],
   "source": [
    "x>y"
   ]
  },
  {
   "cell_type": "markdown",
   "id": "cc731539",
   "metadata": {},
   "source": [
    "#### Control flows\n",
    "1. Conditional statements\n",
    "- if\n",
    "- else\n",
    "- elif\n",
    "- if...else two conditions\n",
    "- if elif else... multiple conditions"
   ]
  },
  {
   "cell_type": "code",
   "execution_count": null,
   "id": "de61697a",
   "metadata": {},
   "outputs": [
    {
     "name": "stdout",
     "output_type": "stream",
     "text": [
      "Mtoto\n"
     ]
    }
   ],
   "source": [
    "miaka = int (input(\"Weka miaka yako:\" ))\n",
    "if miaka >= 18: \n",
    "    print (\"Mtu mzima!\")      \n",
    "else:\n",
    "    print (\"Mtoto\")"
   ]
  },
  {
   "cell_type": "code",
   "execution_count": null,
   "id": "2806354b",
   "metadata": {},
   "outputs": [
    {
     "name": "stdout",
     "output_type": "stream",
     "text": [
      "mzee\n"
     ]
    }
   ],
   "source": [
    "# child, teenager, young adult, senior\n",
    "miaka = int(input(\"Weka miaka yako:\"))\n",
    "if miaka > 0 and miaka < 13:\n",
    "    print (\"mtoto\")\n",
    "elif miaka >= 13 and miaka < 20:\n",
    "    print (\"kijana\")\n",
    "elif miaka >= 20 and miaka < 35:\n",
    "    print (\"mtu mzima\")\n",
    "else:\n",
    "    print (\"mzee\")\n",
    "   "
   ]
  },
  {
   "cell_type": "code",
   "execution_count": null,
   "id": "4dfaaf78",
   "metadata": {},
   "outputs": [
    {
     "name": "stdout",
     "output_type": "stream",
     "text": [
      "1st\n"
     ]
    }
   ],
   "source": [
    "date_of_birth =  int(input(\" date born:\"))\n",
    "if date_of_birth == 1:\n",
    "    print(f\"{date_of_birth}st\")\n",
    "elif date_of_birth == 2:\n",
    "    print(f\"{date_of_birth}nd\")\n",
    "elif date_of_birth == 3:\n",
    "    print(f\"{date_of_birth}rd\")\n",
    "else:\n",
    "    print(f\"{date_of_birth}th\")"
   ]
  },
  {
   "cell_type": "markdown",
   "id": "6f6c79d5",
   "metadata": {},
   "source": [
    "#### Control flows\n",
    "- Break\n",
    "- Control\n",
    "- Pass\n",
    "\n",
    "#### loops\n",
    "- while loop - italates through every element in a data structure\n",
    "- for loop - if the condition is met or if it remains true it run the code"
   ]
  },
  {
   "cell_type": "code",
   "execution_count": null,
   "id": "7cd9d7b7",
   "metadata": {},
   "outputs": [
    {
     "name": "stdout",
     "output_type": "stream",
     "text": [
      "Mango\n",
      "pawpaw\n",
      "oranges\n",
      "watermelons\n",
      "pears\n"
     ]
    }
   ],
   "source": [
    "# list fruits\n",
    "Fruits = [\"Mango\", \"pawpaw\", \"oranges\", \"watermelons\", \"pears\"]\n",
    "for t in Fruits:\n",
    "    print (t)"
   ]
  },
  {
   "cell_type": "code",
   "execution_count": null,
   "id": "83390040",
   "metadata": {},
   "outputs": [
    {
     "name": "stdout",
     "output_type": "stream",
     "text": [
      "1, 2, 3, 4, 5, 6, 7, 8, 9, 10, "
     ]
    }
   ],
   "source": [
    "Numbers = [1,2,3,4,5,6,7,8,9,10]\n",
    "for number in Numbers:\n",
    "    print(number,end=\", \")\n",
    "\n",
    "# TO PLACE HORIZONTALLY USE END= \" \""
   ]
  },
  {
   "cell_type": "code",
   "execution_count": null,
   "id": "57c2e76f",
   "metadata": {},
   "outputs": [
    {
     "name": "stdout",
     "output_type": "stream",
     "text": [
      "mary john doe "
     ]
    }
   ],
   "source": [
    "Teachers = [\"mary\",\"john\",\"doe\"]\n",
    "for t in Teachers:\n",
    "    print(t,end=\" \")"
   ]
  },
  {
   "cell_type": "markdown",
   "id": "451d6f66",
   "metadata": {},
   "source": [
    "While loop"
   ]
  },
  {
   "cell_type": "code",
   "execution_count": null,
   "id": "ce7fd3f3",
   "metadata": {},
   "outputs": [
    {
     "name": "stdout",
     "output_type": "stream",
     "text": [
      "0\n",
      "1\n",
      "2\n",
      "3\n",
      "4\n"
     ]
    }
   ],
   "source": [
    "## counting from 0 and stop at 5\n",
    "count = 0\n",
    "while count < 5:\n",
    "    print(count)\n",
    "    count += 1\n",
    "#if we add the incremental value;\n",
    "## write a program chatbot that uses a while loop to answer questions about data science ans AI"
   ]
  },
  {
   "cell_type": "code",
   "execution_count": null,
   "id": "f14b7dab",
   "metadata": {},
   "outputs": [
    {
     "name": "stdout",
     "output_type": "stream",
     "text": [
      "0\n",
      "1\n",
      "2\n",
      "3\n",
      "4\n",
      "5\n"
     ]
    }
   ],
   "source": [
    "count = 0\n",
    "while count < 6:\n",
    "    print (count)\n",
    "    count += 1\n",
    "    "
   ]
  },
  {
   "cell_type": "code",
   "execution_count": null,
   "id": "ea2679a5",
   "metadata": {},
   "outputs": [
    {
     "name": "stdout",
     "output_type": "stream",
     "text": [
      "10\n",
      "12\n",
      "14\n",
      "16\n",
      "18\n"
     ]
    }
   ],
   "source": [
    "count = 10\n",
    "while count < 20:\n",
    "    print(count)\n",
    "    count +=2"
   ]
  },
  {
   "cell_type": "code",
   "execution_count": null,
   "id": "e6f4b3aa",
   "metadata": {},
   "outputs": [
    {
     "name": "stdout",
     "output_type": "stream",
     "text": [
      "1\n",
      "2\n",
      "3\n",
      "4\n"
     ]
    }
   ],
   "source": [
    "for num in Numbers:\n",
    "    if num >= 5:\n",
    "        break\n",
    "    print (num)"
   ]
  },
  {
   "cell_type": "code",
   "execution_count": null,
   "id": "2c896bc6",
   "metadata": {},
   "outputs": [
    {
     "name": "stdout",
     "output_type": "stream",
     "text": [
      "1\n",
      "2\n",
      "3\n",
      "4\n",
      "6\n",
      "7\n",
      "8\n",
      "9\n",
      "10\n"
     ]
    }
   ],
   "source": [
    "for num in Numbers:\n",
    "    if num == 5:\n",
    "        continue\n",
    "    print (num)"
   ]
  },
  {
   "cell_type": "code",
   "execution_count": null,
   "id": "40615f68",
   "metadata": {},
   "outputs": [
    {
     "name": "stdout",
     "output_type": "stream",
     "text": [
      "1\n",
      "2\n",
      "3\n",
      "4\n",
      "5\n",
      "6\n",
      "7\n",
      "8\n",
      "9\n",
      "10\n"
     ]
    }
   ],
   "source": [
    "for num in Numbers:\n",
    "    if num >= 5:\n",
    "        pass\n",
    "    print (num)"
   ]
  },
  {
   "cell_type": "code",
   "execution_count": null,
   "id": "9a7b0d94",
   "metadata": {},
   "outputs": [
    {
     "name": "stdout",
     "output_type": "stream",
     "text": [
      "1, 2, 3, 4, 5, 6, 7, 8, 9, 10, 11, 12, 13, 14, 15, 16, 17, 18, 19, 20, "
     ]
    }
   ],
   "source": [
    "Numbers = [1,2,3,4,5,6,7,8,9,10,11,12,13,14,15,16,17,18,19,20]\n",
    "for t in Numbers:\n",
    "    print(t,end=\", \")"
   ]
  },
  {
   "cell_type": "code",
   "execution_count": null,
   "id": "933533fc",
   "metadata": {},
   "outputs": [
    {
     "name": "stdout",
     "output_type": "stream",
     "text": [
      "1\n",
      "2\n",
      "3\n",
      "4\n",
      "5\n"
     ]
    }
   ],
   "source": [
    "for num in Numbers:\n",
    "    if num == 6:\n",
    "        break\n",
    "    print (num)"
   ]
  },
  {
   "cell_type": "code",
   "execution_count": null,
   "id": "bc269985",
   "metadata": {},
   "outputs": [
    {
     "name": "stdout",
     "output_type": "stream",
     "text": [
      "1\n",
      "2\n",
      "3\n",
      "4\n",
      "5\n",
      "6\n",
      "7\n",
      "8\n",
      "9\n",
      "10\n",
      "11\n",
      "12\n",
      "13\n",
      "14\n",
      "15\n",
      "16\n",
      "17\n",
      "18\n",
      "19\n",
      "20\n"
     ]
    }
   ],
   "source": [
    "for t in Numbers:\n",
    "    if t == 12:\n",
    "        pass\n",
    "    print(t)"
   ]
  },
  {
   "cell_type": "code",
   "execution_count": null,
   "id": "7ee65b68",
   "metadata": {},
   "outputs": [
    {
     "name": "stdout",
     "output_type": "stream",
     "text": [
      "1\n",
      "2\n",
      "3\n",
      "4\n",
      "5\n",
      "6\n",
      "7\n",
      "8\n",
      "9\n",
      "10\n",
      "11\n",
      "12\n",
      "13\n",
      "14\n",
      "15\n",
      "17\n",
      "18\n",
      "19\n",
      "20\n"
     ]
    }
   ],
   "source": [
    "for r in Numbers:\n",
    "    if r == 16:\n",
    "        continue\n",
    "    print(r)"
   ]
  },
  {
   "cell_type": "markdown",
   "id": "d82f798b",
   "metadata": {},
   "source": [
    "### List comprehensions\n",
    "- They are an easier way of creating list from loops\n"
   ]
  },
  {
   "cell_type": "code",
   "execution_count": null,
   "id": "eb06c559",
   "metadata": {},
   "outputs": [
    {
     "name": "stdout",
     "output_type": "stream",
     "text": [
      "[0, 2, 4, 6, 8, 10]\n"
     ]
    }
   ],
   "source": [
    "# even numbers from 0-10\n",
    "even_numbers = [i for i in range(0,11) if i%2 == 0]\n",
    "print(even_numbers)"
   ]
  },
  {
   "cell_type": "code",
   "execution_count": null,
   "id": "4a9d3821",
   "metadata": {},
   "outputs": [
    {
     "name": "stdout",
     "output_type": "stream",
     "text": [
      "[1, 3, 5, 7, 9, 11, 13, 15, 17, 19]\n"
     ]
    }
   ],
   "source": [
    "# odd numbers\n",
    "odd_numbers = [i for i in range(0,21) if i%2 == 1]\n",
    "print(odd_numbers)"
   ]
  },
  {
   "cell_type": "code",
   "execution_count": null,
   "id": "0d534560",
   "metadata": {},
   "outputs": [],
   "source": []
  },
  {
   "cell_type": "code",
   "execution_count": null,
   "id": "7f6bcf1a",
   "metadata": {},
   "outputs": [
    {
     "name": "stdout",
     "output_type": "stream",
     "text": [
      "[0, 1, 2, 3, 5, 7, 11, 13, 17, 19, 23, 29, 31, 37, 41, 43, 47]\n"
     ]
    }
   ],
   "source": [
    "# prime numbers\n",
    "prime_numbers = [i for i in range(0, 50) if all(i % n != 0 for n in range(2, int(i**0.5) + 1))]\n",
    "print(prime_numbers)\n"
   ]
  },
  {
   "cell_type": "code",
   "execution_count": null,
   "id": "26a91ff1",
   "metadata": {},
   "outputs": [
    {
     "name": "stdout",
     "output_type": "stream",
     "text": [
      "[0, 1, 4, 9, 16, 25, 36, 49, 64, 81, 100, 121, 144, 169, 196, 225, 256, 289, 324, 361, 400, 441, 484, 529, 576, 625]\n"
     ]
    }
   ],
   "source": [
    "# squares\n",
    "square_numbers = [i**2 for i in range (0,26)]\n",
    "print(square_numbers)"
   ]
  },
  {
   "cell_type": "code",
   "execution_count": null,
   "id": "c94df1a9",
   "metadata": {},
   "outputs": [
    {
     "name": "stdout",
     "output_type": "stream",
     "text": [
      "[0, 1, 8, 27, 64, 125, 216, 343, 512, 729, 1000, 1331, 1728, 2197, 2744, 3375, 4096, 4913, 5832, 6859, 8000, 9261, 10648, 12167, 13824, 15625]\n"
     ]
    }
   ],
   "source": [
    "#cubed\n",
    "cubed_numbers = [i**3 for i in range (0,26)]\n",
    "print (cubed_numbers)"
   ]
  },
  {
   "cell_type": "code",
   "execution_count": null,
   "id": "4071ed45",
   "metadata": {},
   "outputs": [
    {
     "name": "stdout",
     "output_type": "stream",
     "text": [
      "[1, 3, 5, 7, 9, 11, 13, 15, 17, 19, 21, 23, 25]\n"
     ]
    }
   ],
   "source": [
    "odd_numbers = [i for i in range(0,26) if i%2 != 0 ]\n",
    "print(odd_numbers)"
   ]
  },
  {
   "cell_type": "code",
   "execution_count": null,
   "id": "2a866cd6",
   "metadata": {},
   "outputs": [
    {
     "name": "stdout",
     "output_type": "stream",
     "text": [
      "[0, 1, 2, 3, 4, 5, 6, 7, 8, 9, 10, 11, 12, 13, 14, 15, 16, 17, 18, 19, 20, 21, 22, 23, 24, 25]\n"
     ]
    }
   ],
   "source": [
    "prime_numbers = [i for i in range(0,26) if i%1 == 0 or i%i == 0]\n",
    "print (prime_numbers)"
   ]
  },
  {
   "cell_type": "markdown",
   "id": "4b3dc9f3",
   "metadata": {},
   "source": [
    "#### Python functions\n",
    "block of reusable code\n",
    "- Normal function -- start with def\n",
    "- lamda functions\n",
    "- decorators"
   ]
  },
  {
   "cell_type": "code",
   "execution_count": null,
   "id": "aaddad40",
   "metadata": {},
   "outputs": [],
   "source": [
    "# function that add two numbers\n",
    "# DEFINING FUNCTION-- parameter\n",
    "def add(X,Y):\n",
    "    return X+Y"
   ]
  },
  {
   "cell_type": "code",
   "execution_count": null,
   "id": "02f98ffd",
   "metadata": {},
   "outputs": [
    {
     "name": "stdout",
     "output_type": "stream",
     "text": [
      "40\n"
     ]
    }
   ],
   "source": [
    "# CALLING FUNCTION -- argument\n",
    "add1=add(10,30)\n",
    "print(add1)"
   ]
  },
  {
   "cell_type": "code",
   "execution_count": null,
   "id": "c2e9b343",
   "metadata": {},
   "outputs": [
    {
     "data": {
      "text/plain": [
       "50"
      ]
     },
     "execution_count": 2,
     "metadata": {},
     "output_type": "execute_result"
    }
   ],
   "source": [
    "add(20,30)"
   ]
  },
  {
   "cell_type": "code",
   "execution_count": null,
   "id": "bc996c86",
   "metadata": {},
   "outputs": [
    {
     "name": "stdout",
     "output_type": "stream",
     "text": [
      "167\n"
     ]
    }
   ],
   "source": [
    "add2= add(69,98)\n",
    "print(add2)"
   ]
  },
  {
   "cell_type": "code",
   "execution_count": null,
   "id": "dcd94a4a",
   "metadata": {},
   "outputs": [],
   "source": [
    "#multiply 3 numbers\n",
    "def multiply (x,y,z):\n",
    "    return (x*y*z)"
   ]
  },
  {
   "cell_type": "code",
   "execution_count": null,
   "id": "730371e7",
   "metadata": {},
   "outputs": [
    {
     "name": "stdout",
     "output_type": "stream",
     "text": [
      "24000\n"
     ]
    }
   ],
   "source": [
    "product1 = multiply(10,30,80)\n",
    "print(product1)\n"
   ]
  },
  {
   "cell_type": "code",
   "execution_count": null,
   "id": "d46431f3",
   "metadata": {},
   "outputs": [],
   "source": [
    "def multiply(a,b,c):\n",
    "    return(a*b*c)"
   ]
  },
  {
   "cell_type": "code",
   "execution_count": null,
   "id": "488623b2",
   "metadata": {},
   "outputs": [
    {
     "name": "stdout",
     "output_type": "stream",
     "text": [
      "1320\n"
     ]
    }
   ],
   "source": [
    "multiply1 = multiply(10,11,12)\n",
    "print(multiply1)"
   ]
  },
  {
   "cell_type": "code",
   "execution_count": null,
   "id": "9ff04e3c",
   "metadata": {},
   "outputs": [],
   "source": [
    "# A function that greets someone\n",
    "def greetings (name):\n",
    "    print(f\"hi {name} .How are you?\")\n",
    "    \n"
   ]
  },
  {
   "cell_type": "code",
   "execution_count": null,
   "id": "6a4f3a82",
   "metadata": {},
   "outputs": [
    {
     "name": "stdout",
     "output_type": "stream",
     "text": [
      "hi Njeri .How are you?\n",
      "None\n"
     ]
    }
   ],
   "source": [
    "greetings1 = greetings(\"Njeri\")\n",
    "print(greetings1)"
   ]
  },
  {
   "cell_type": "code",
   "execution_count": null,
   "id": "07820936",
   "metadata": {},
   "outputs": [
    {
     "name": "stdout",
     "output_type": "stream",
     "text": [
      "hi Mercy .How are you?\n"
     ]
    }
   ],
   "source": [
    "greetings2 = greetings(\"Mercy\")\n",
    "greetings2"
   ]
  },
  {
   "cell_type": "code",
   "execution_count": null,
   "id": "9ef26803",
   "metadata": {},
   "outputs": [],
   "source": [
    "def calculate_area(length,width):\n",
    "    return(length*width)"
   ]
  },
  {
   "cell_type": "code",
   "execution_count": null,
   "id": "8e14b3bb",
   "metadata": {},
   "outputs": [
    {
     "name": "stdout",
     "output_type": "stream",
     "text": [
      "63\n"
     ]
    }
   ],
   "source": [
    "Area1 = calculate_area(7,9)\n",
    "print(Area1)"
   ]
  },
  {
   "cell_type": "code",
   "execution_count": null,
   "id": "72ec3fe4",
   "metadata": {},
   "outputs": [],
   "source": [
    "\n",
    "\n",
    "def student_report (name,grades,average):\n",
    "       if average >= 80:\n",
    "            print(\"excellent\")\n",
    "       elif average >= 50:\n",
    "            print(\"good\")\n",
    "       else:\n",
    "            print(\"bad\")\n",
    "\n",
    "         \n",
    "       print(f\"I am {name} , with grade {grades} and remark {average}\")\n",
    "\n",
    "    \n",
    "\n",
    "    \n",
    "  "
   ]
  },
  {
   "cell_type": "code",
   "execution_count": null,
   "id": "08861cd1",
   "metadata": {},
   "outputs": [
    {
     "name": "stdout",
     "output_type": "stream",
     "text": [
      "good\n",
      "I am njeri , with grade 77 and remark 77\n"
     ]
    }
   ],
   "source": [
    "student_report('njeri', 77, 77)"
   ]
  },
  {
   "cell_type": "code",
   "execution_count": null,
   "id": "db1cb59b",
   "metadata": {},
   "outputs": [],
   "source": [
    "def personality(name,colour,month,date):\n",
    "    return(f\"Hi, my name is {name}.My favorite colour is {colour} and I was born on {month} {date}\")\n",
    "    "
   ]
  },
  {
   "cell_type": "code",
   "execution_count": null,
   "id": "ef6e3f6e",
   "metadata": {},
   "outputs": [
    {
     "name": "stdout",
     "output_type": "stream",
     "text": [
      "Hi, my name is Njeri.My favorite colour is white and I was born on November 1\n"
     ]
    }
   ],
   "source": [
    "Person1= personality(\"Njeri\",\"white\",\"November\",1)\n",
    "print(Person1)\n"
   ]
  },
  {
   "cell_type": "code",
   "execution_count": null,
   "id": "81f64cf4",
   "metadata": {},
   "outputs": [
    {
     "name": "stdout",
     "output_type": "stream",
     "text": [
      "Hi there, Welcome to windy chatbot. How may I help you today? \n",
      "What would you like to know?\n",
      "Goodbye , thanks for using windy chatbot\n"
     ]
    }
   ],
   "source": [
    "# break is used to stop the while loop otherwise it'll keep on running\n",
    "print (\"Hi there, Welcome to windy chatbot. How may I help you today? \")\n",
    "print(\"What would you like to know?\")\n",
    "\n",
    "\n",
    "while True:\n",
    "    question = (input(\"...\")).lower()\n",
    "\n",
    "    if  \"what is data science\" in question:\n",
    "        print(\"Good question. Data Science is the field that combines Statistics, Programming, Domain knowledge, Machine learning & AI, to extract insights and knowledge from data\")\n",
    "    elif  \"what is ai in full\" in question:\n",
    "        print(\"Artificial Intelligence\")\n",
    "    elif  \"what is ai\" in question:\n",
    "        print(\"It is the simulation of human intelligence by machines.\")\n",
    "    elif \"what is python\" in question:\n",
    "        print(\"Python is the most popular programming language for AI and Data Science due to its simplicity and rich libraries.\")\n",
    "    elif \"exit\" in question:\n",
    "        print(\"Goodbye , thanks for using windy chatbot\")\n",
    "        break\n",
    "    else:\n",
    "        print(\"I dont have the answer to this question\")"
   ]
  },
  {
   "cell_type": "markdown",
   "id": "e0381ff8",
   "metadata": {},
   "source": [
    "# MONDAY 8TH SEP CLASS\n",
    "#### Lambda function\n"
   ]
  },
  {
   "cell_type": "code",
   "execution_count": null,
   "id": "12185c30",
   "metadata": {},
   "outputs": [],
   "source": [
    "result = lambda X,y,z: X*y*z"
   ]
  },
  {
   "cell_type": "code",
   "execution_count": null,
   "id": "0f5255d8",
   "metadata": {},
   "outputs": [
    {
     "data": {
      "text/plain": [
       "12420"
      ]
     },
     "execution_count": 86,
     "metadata": {},
     "output_type": "execute_result"
    }
   ],
   "source": [
    "result1 = result(23,45,12)\n",
    "result1"
   ]
  },
  {
   "cell_type": "code",
   "execution_count": null,
   "id": "21d5aa2f",
   "metadata": {},
   "outputs": [],
   "source": [
    "sayhi = lambda name:f\"Hi,{name}\""
   ]
  },
  {
   "cell_type": "code",
   "execution_count": null,
   "id": "ef1ac029",
   "metadata": {},
   "outputs": [
    {
     "data": {
      "text/plain": [
       "'Hi,njeri'"
      ]
     },
     "execution_count": 13,
     "metadata": {},
     "output_type": "execute_result"
    }
   ],
   "source": [
    "greet1 = sayhi(\"njeri\")\n",
    "greet1"
   ]
  },
  {
   "cell_type": "markdown",
   "id": "c9947d6e",
   "metadata": {},
   "source": [
    "#### list, Tupples, set, dictionary"
   ]
  },
  {
   "cell_type": "markdown",
   "id": "9eb859e7",
   "metadata": {},
   "source": [
    "##### List\n",
    "- can be changed\n",
    "- [ ]\n",
    "-  apppend -- to add elements\n",
    "-  pop -- removes elements"
   ]
  },
  {
   "cell_type": "code",
   "execution_count": null,
   "id": "068e7b3b",
   "metadata": {},
   "outputs": [
    {
     "data": {
      "text/plain": [
       "['apple', 'banana', 'cherry', 'orange']"
      ]
     },
     "execution_count": 22,
     "metadata": {},
     "output_type": "execute_result"
    }
   ],
   "source": [
    "#List\n",
    "# apppend -- to add elements\n",
    "# pop -- removes elements\n",
    "fruits = [\"apple\",\"banana\",\"cherry\"]\n",
    "fruits.append(\"orange\")\n",
    "fruits"
   ]
  },
  {
   "cell_type": "code",
   "execution_count": null,
   "id": "0dd6f72a",
   "metadata": {},
   "outputs": [
    {
     "name": "stdout",
     "output_type": "stream",
     "text": [
      "['apple']\n"
     ]
    }
   ],
   "source": [
    "fruits.pop()\n",
    "print(fruits)"
   ]
  },
  {
   "cell_type": "code",
   "execution_count": null,
   "id": "150c2c3b",
   "metadata": {},
   "outputs": [
    {
     "data": {
      "text/plain": [
       "['apple', 'banana', 'cherry']"
      ]
     },
     "execution_count": 24,
     "metadata": {},
     "output_type": "execute_result"
    }
   ],
   "source": [
    "fruits"
   ]
  },
  {
   "cell_type": "markdown",
   "id": "d67b8d04",
   "metadata": {},
   "source": [
    "#### Tupples"
   ]
  },
  {
   "cell_type": "code",
   "execution_count": null,
   "id": "82197cba",
   "metadata": {},
   "outputs": [
    {
     "data": {
      "text/plain": [
       "1"
      ]
     },
     "execution_count": 32,
     "metadata": {},
     "output_type": "execute_result"
    }
   ],
   "source": [
    "Image_pixels = (1920,1080)\n",
    "Image_pixels.count(1920)"
   ]
  },
  {
   "cell_type": "code",
   "execution_count": null,
   "id": "cdd5caa3",
   "metadata": {},
   "outputs": [
    {
     "data": {
      "text/plain": [
       "1"
      ]
     },
     "execution_count": 34,
     "metadata": {},
     "output_type": "execute_result"
    }
   ],
   "source": [
    "Image_pixels.index(1080)"
   ]
  },
  {
   "cell_type": "code",
   "execution_count": null,
   "id": "ec5f615c",
   "metadata": {},
   "outputs": [
    {
     "data": {
      "text/plain": [
       "1080"
      ]
     },
     "execution_count": 35,
     "metadata": {},
     "output_type": "execute_result"
    }
   ],
   "source": [
    "Image_pixels[1]"
   ]
  },
  {
   "cell_type": "markdown",
   "id": "10785487",
   "metadata": {},
   "source": [
    "--- remove bananas"
   ]
  },
  {
   "cell_type": "markdown",
   "id": "1a0279e7",
   "metadata": {},
   "source": [
    "#### Set operators\n",
    "- not ordered\n",
    "- elements can be added (it is mutable)\n",
    "- denoted by {}\n",
    "- Intersection(common values) and union(combination)\n",
    "- they do not take duplicates"
   ]
  },
  {
   "cell_type": "code",
   "execution_count": null,
   "id": "e286ff11",
   "metadata": {},
   "outputs": [],
   "source": [
    "set1 = {5,7,6,8,4}\n",
    "set2 = {1,2,3,4,9}\n"
   ]
  },
  {
   "cell_type": "code",
   "execution_count": null,
   "id": "0415ae4a",
   "metadata": {},
   "outputs": [
    {
     "data": {
      "text/plain": [
       "{4}"
      ]
     },
     "execution_count": 43,
     "metadata": {},
     "output_type": "execute_result"
    }
   ],
   "source": [
    "set3 = set1.intersection(set2)\n",
    "set3"
   ]
  },
  {
   "cell_type": "code",
   "execution_count": null,
   "id": "a7364fb7",
   "metadata": {},
   "outputs": [
    {
     "data": {
      "text/plain": [
       "{1, 2, 3, 4, 5, 6, 7, 8, 9}"
      ]
     },
     "execution_count": 44,
     "metadata": {},
     "output_type": "execute_result"
    }
   ],
   "source": [
    "set4 = set1.union(set2)\n",
    "set4"
   ]
  },
  {
   "cell_type": "markdown",
   "id": "7b207a62",
   "metadata": {},
   "source": [
    "--- read more about set in notes"
   ]
  },
  {
   "cell_type": "markdown",
   "id": "b2e916f2",
   "metadata": {},
   "source": [
    "#### Dictionary\n",
    "- denoted by {}\n",
    "- key pair and the corresponding value \n",
    "- mutable\n"
   ]
  },
  {
   "cell_type": "code",
   "execution_count": null,
   "id": "d746e212",
   "metadata": {},
   "outputs": [
    {
     "name": "stdout",
     "output_type": "stream",
     "text": [
      "{'Name': 'Nj', 'age': 21, 'fruit': 'water melon'}\n"
     ]
    }
   ],
   "source": [
    "person = {\n",
    "    \"Name\": \"Nj\",\n",
    "    \"age\" : 21,\n",
    "    \"fruit\": \"water melon\"\n",
    "\n",
    "}\n",
    "person"
   ]
  },
  {
   "cell_type": "code",
   "execution_count": null,
   "id": "5d186fdc",
   "metadata": {},
   "outputs": [
    {
     "data": {
      "text/plain": [
       "{'name': ['john', 'doe', 'alice', 'mountain', 'alex'],\n",
       " 'age': [12, 13, 86, 24, 53],\n",
       " 'fruit': ['melon', 'apple', 'quava', 'mango', 'kiwi']}"
      ]
     },
     "execution_count": 3,
     "metadata": {},
     "output_type": "execute_result"
    }
   ],
   "source": [
    "data = {\n",
    "    \"name\":[\"john\",\"doe\",\"alice\",\"mountain\",\"alex\"],\n",
    "    \"age\":[12,13,86,24,53],\n",
    "    \"fruit\":[\"melon\",\"apple\",\"quava\",\"mango\",\"kiwi\"]\n",
    "}\n",
    "data"
   ]
  },
  {
   "cell_type": "code",
   "execution_count": null,
   "id": "22dc0c39",
   "metadata": {},
   "outputs": [
    {
     "data": {
      "text/html": [
       "<div>\n",
       "<style scoped>\n",
       "    .dataframe tbody tr th:only-of-type {\n",
       "        vertical-align: middle;\n",
       "    }\n",
       "\n",
       "    .dataframe tbody tr th {\n",
       "        vertical-align: top;\n",
       "    }\n",
       "\n",
       "    .dataframe thead th {\n",
       "        text-align: right;\n",
       "    }\n",
       "</style>\n",
       "<table border=\"1\" class=\"dataframe\">\n",
       "  <thead>\n",
       "    <tr style=\"text-align: right;\">\n",
       "      <th></th>\n",
       "      <th>name</th>\n",
       "      <th>age</th>\n",
       "      <th>fruit</th>\n",
       "    </tr>\n",
       "  </thead>\n",
       "  <tbody>\n",
       "    <tr>\n",
       "      <th>0</th>\n",
       "      <td>john</td>\n",
       "      <td>12</td>\n",
       "      <td>melon</td>\n",
       "    </tr>\n",
       "    <tr>\n",
       "      <th>1</th>\n",
       "      <td>doe</td>\n",
       "      <td>13</td>\n",
       "      <td>apple</td>\n",
       "    </tr>\n",
       "    <tr>\n",
       "      <th>2</th>\n",
       "      <td>alice</td>\n",
       "      <td>86</td>\n",
       "      <td>quava</td>\n",
       "    </tr>\n",
       "    <tr>\n",
       "      <th>3</th>\n",
       "      <td>mountain</td>\n",
       "      <td>24</td>\n",
       "      <td>mango</td>\n",
       "    </tr>\n",
       "    <tr>\n",
       "      <th>4</th>\n",
       "      <td>alex</td>\n",
       "      <td>53</td>\n",
       "      <td>kiwi</td>\n",
       "    </tr>\n",
       "  </tbody>\n",
       "</table>\n",
       "</div>"
      ],
      "text/plain": [
       "       name  age  fruit\n",
       "0      john   12  melon\n",
       "1       doe   13  apple\n",
       "2     alice   86  quava\n",
       "3  mountain   24  mango\n",
       "4      alex   53   kiwi"
      ]
     },
     "execution_count": 4,
     "metadata": {},
     "output_type": "execute_result"
    }
   ],
   "source": [
    "# install pandas\n",
    "# call functions\n",
    "import pandas as pd\n",
    "df=pd.DataFrame(data)\n",
    "df.head()\n"
   ]
  },
  {
   "cell_type": "markdown",
   "id": "033e9fde",
   "metadata": {},
   "source": [
    "--- read on the methods of dictionary"
   ]
  },
  {
   "cell_type": "markdown",
   "id": "8f3de090",
   "metadata": {},
   "source": [
    "#### PANDAS \n",
    "- DATA FRAMES are tables in python"
   ]
  },
  {
   "cell_type": "markdown",
   "id": "89b6ae2a",
   "metadata": {},
   "source": [
    "#### INDEX\n",
    "-uses indices returns without modifying the original list"
   ]
  },
  {
   "cell_type": "code",
   "execution_count": null,
   "id": "3715ae6f",
   "metadata": {},
   "outputs": [],
   "source": [
    "numbers = [10,20,30,40,50]\n"
   ]
  },
  {
   "cell_type": "code",
   "execution_count": null,
   "id": "ae973841",
   "metadata": {},
   "outputs": [
    {
     "data": {
      "text/plain": [
       "30"
      ]
     },
     "execution_count": 62,
     "metadata": {},
     "output_type": "execute_result"
    }
   ],
   "source": [
    "numbers[2]"
   ]
  },
  {
   "cell_type": "code",
   "execution_count": null,
   "id": "31dd343d",
   "metadata": {},
   "outputs": [
    {
     "data": {
      "text/plain": [
       "40"
      ]
     },
     "execution_count": 64,
     "metadata": {},
     "output_type": "execute_result"
    }
   ],
   "source": [
    "numbers[3]"
   ]
  },
  {
   "cell_type": "code",
   "execution_count": null,
   "id": "17fcc383",
   "metadata": {},
   "outputs": [
    {
     "data": {
      "text/plain": [
       "[10, 20, 30]"
      ]
     },
     "execution_count": 69,
     "metadata": {},
     "output_type": "execute_result"
    }
   ],
   "source": [
    "numbers[:3]"
   ]
  },
  {
   "cell_type": "code",
   "execution_count": null,
   "id": "9a9f3635",
   "metadata": {},
   "outputs": [
    {
     "data": {
      "text/plain": [
       "[10]"
      ]
     },
     "execution_count": 70,
     "metadata": {},
     "output_type": "execute_result"
    }
   ],
   "source": [
    "numbers[:1]"
   ]
  },
  {
   "cell_type": "code",
   "execution_count": null,
   "id": "a2995792",
   "metadata": {},
   "outputs": [
    {
     "data": {
      "text/plain": [
       "[20, 30, 40]"
      ]
     },
     "execution_count": 71,
     "metadata": {},
     "output_type": "execute_result"
    }
   ],
   "source": [
    "numbers[1:]"
   ]
  },
  {
   "cell_type": "code",
   "execution_count": null,
   "id": "2752661b",
   "metadata": {},
   "outputs": [
    {
     "data": {
      "text/plain": [
       "[30, 40]"
      ]
     },
     "execution_count": 73,
     "metadata": {},
     "output_type": "execute_result"
    }
   ],
   "source": [
    "numbers[2:]"
   ]
  },
  {
   "cell_type": "code",
   "execution_count": null,
   "id": "377d731c",
   "metadata": {},
   "outputs": [
    {
     "data": {
      "text/plain": [
       "[10, 20, 30, 40, 50, 60]"
      ]
     },
     "execution_count": 81,
     "metadata": {},
     "output_type": "execute_result"
    }
   ],
   "source": [
    "numbers.append(60)\n",
    "numbers"
   ]
  },
  {
   "cell_type": "code",
   "execution_count": null,
   "id": "87259597",
   "metadata": {},
   "outputs": [
    {
     "data": {
      "text/plain": [
       "[40, 50, 60]"
      ]
     },
     "execution_count": 84,
     "metadata": {},
     "output_type": "execute_result"
    }
   ],
   "source": [
    "numbers[3:6]"
   ]
  },
  {
   "cell_type": "markdown",
   "id": "3bed3744",
   "metadata": {},
   "source": [
    "--- read on decorators"
   ]
  },
  {
   "cell_type": "markdown",
   "id": "66fe925e",
   "metadata": {},
   "source": [
    "# TUESDAY 9TH SEPTEMBER \n",
    "#### OOP\n",
    "##### Classes\n",
    "- always use uppercase for the first letter\n",
    "- a class is a blue print for creating objects\n",
    "- always think of attributes when creating an object\n",
    "- function inside a class is a method"
   ]
  },
  {
   "cell_type": "code",
   "execution_count": null,
   "id": "8c096dca",
   "metadata": {},
   "outputs": [],
   "source": [
    "## a class must be initialized so we use def __def__init(self,attributes)\n",
    "## the class must start with a capital letter\n",
    "## the indent should be correct.\n",
    "class Person :\n",
    "    def __init__(self,name,age,gender,nationality):\n",
    "        self.name = name\n",
    "        self.age = age\n",
    "        self.gender = gender\n",
    "        self.nationality = nationality\n",
    "    def speak(self):\n",
    "        return f\"Hi my name is {self.name}. I am {self.age} years old. I am a {self.gender} and I am {self.nationality}.\""
   ]
  },
  {
   "cell_type": "code",
   "execution_count": null,
   "id": "0262378b",
   "metadata": {},
   "outputs": [
    {
     "name": "stdout",
     "output_type": "stream",
     "text": [
      "Hi my name is Njeri. I am 21 years old. I am a Female and I am Kenyan.\n"
     ]
    }
   ],
   "source": [
    "person1 = Person(\"Njeri\",21,\"Female\",\"Kenyan\")\n",
    "print (person1.speak())"
   ]
  },
  {
   "cell_type": "code",
   "execution_count": null,
   "id": "ce66049e",
   "metadata": {},
   "outputs": [],
   "source": [
    "class Rectangle:\n",
    "    def __init__(self,length,width):\n",
    "        self.length = length\n",
    "        self.width = width\n",
    "    def area(self):\n",
    "        area = self.length*self.width\n",
    "        return f\"The area of our rectangle of width {self.width} and length {self.length} is {area}.\"\n",
    "    def perimeter(self):\n",
    "        perimeter = self.length + self.width + self.length + self.width\n",
    "        return f\"The perimeter of our rectangle of width {self.width} and length {self.length} is {perimeter}\""
   ]
  },
  {
   "cell_type": "code",
   "execution_count": null,
   "id": "2b961d26",
   "metadata": {},
   "outputs": [
    {
     "name": "stdout",
     "output_type": "stream",
     "text": [
      "The area of our rectangle of width 98 and length 12 is 1176.\n",
      "The perimeter of our rectangle of width 98 and length 12 is 220\n"
     ]
    }
   ],
   "source": [
    "rectangle1 = Rectangle(12,98)\n",
    "print (rectangle1.area())\n",
    "print (rectangle1.perimeter())"
   ]
  },
  {
   "cell_type": "code",
   "execution_count": null,
   "id": "5a0c1669",
   "metadata": {},
   "outputs": [],
   "source": [
    "# Constants including PI should be written in capital and not to be defined in self as an attribute.\n",
    "# constructor\n",
    "class Circle:\n",
    "    def __init__(self,radius):\n",
    "        self.radius = radius\n",
    "        self.PI = 3.142\n",
    "    def area(self):\n",
    "        area = self.PI * (self.radius**2)\n",
    "        return f\"The area of the Circle with radius {self.radius} is {area}\"\n",
    "    def perimeter(self):\n",
    "        perimeter = self.PI * self.radius* 2\n",
    "        return f\"the perimeter of the circle with radius {self.radius} is {perimeter}\"\n",
    "    "
   ]
  },
  {
   "cell_type": "code",
   "execution_count": null,
   "id": "5e9c9954",
   "metadata": {},
   "outputs": [
    {
     "name": "stdout",
     "output_type": "stream",
     "text": [
      "The area of the Circle with radius 7 is 153.958\n",
      "the perimeter of the circle with radius 7 is 43.988\n"
     ]
    }
   ],
   "source": [
    "circle1 = Circle(7)\n",
    "print (circle1.area())\n",
    "print (circle1.perimeter())"
   ]
  },
  {
   "cell_type": "code",
   "execution_count": null,
   "id": "d8f07b34",
   "metadata": {},
   "outputs": [
    {
     "name": "stdout",
     "output_type": "stream",
     "text": [
      "the perimeter of the circle with radius 21 is 131.964\n"
     ]
    }
   ],
   "source": [
    "circle2 = Circle(21)\n",
    "print(circle2.perimeter())"
   ]
  },
  {
   "cell_type": "markdown",
   "id": "27b7452b",
   "metadata": {},
   "source": [
    "### Inheritance in classes\n",
    "- constructor --  where we store attributes.\n",
    "- method \n",
    "- class with attributes\n",
    "- class with methods\n",
    "- Parent class - we define the attributes\n",
    "- the sub class or child class - will inherit attributes from parent class"
   ]
  },
  {
   "cell_type": "code",
   "execution_count": null,
   "id": "79ac6077",
   "metadata": {},
   "outputs": [],
   "source": [
    "# Write a class car with attributes brand and year and a method called display that prints a formatted string\n",
    "class Car:\n",
    "    def __init__(self,brand,year):\n",
    "        self.brand = brand\n",
    "        self.year = year\n",
    "    def display(self):\n",
    "        return f\"This car is a {self.brand} model {self.year}.\"\n",
    "    "
   ]
  },
  {
   "cell_type": "code",
   "execution_count": null,
   "id": "186b191a",
   "metadata": {},
   "outputs": [
    {
     "name": "stdout",
     "output_type": "stream",
     "text": [
      "This car is a TOYOTA model 2019.\n"
     ]
    }
   ],
   "source": [
    "car3 = Car(\"TOYOTA\",2019)\n",
    "print(car3.display())"
   ]
  },
  {
   "cell_type": "code",
   "execution_count": null,
   "id": "78c2c06e",
   "metadata": {},
   "outputs": [],
   "source": [
    "class Animal:\n",
    "    def __init__(self,name):\n",
    "        self.name = name\n",
    "    def speak(self):\n",
    "        return f\"{self.name} makes a sound\""
   ]
  },
  {
   "cell_type": "code",
   "execution_count": null,
   "id": "2716347e",
   "metadata": {},
   "outputs": [],
   "source": [
    "class Dog(Animal):\n",
    "    def speak(self):\n",
    "        return f\"{self.name} says woof!\""
   ]
  },
  {
   "cell_type": "code",
   "execution_count": null,
   "id": "d2495523",
   "metadata": {},
   "outputs": [
    {
     "name": "stdout",
     "output_type": "stream",
     "text": [
      "gubash says woof!\n"
     ]
    }
   ],
   "source": [
    "dog1 = Dog(\"gubash\")\n",
    "print(dog1.speak())"
   ]
  },
  {
   "cell_type": "code",
   "execution_count": null,
   "id": "d37db84f",
   "metadata": {},
   "outputs": [],
   "source": [
    "class Cow(Animal):\n",
    "    def speak(self):\n",
    "        return f\"{self.name} says moow\""
   ]
  },
  {
   "cell_type": "code",
   "execution_count": null,
   "id": "ce526740",
   "metadata": {},
   "outputs": [
    {
     "name": "stdout",
     "output_type": "stream",
     "text": [
      "mosh says moow\n"
     ]
    }
   ],
   "source": [
    "cow1 = Cow(\"mosh\")\n",
    "print(cow1.speak())"
   ]
  },
  {
   "cell_type": "code",
   "execution_count": null,
   "id": "2cd97c36",
   "metadata": {},
   "outputs": [],
   "source": [
    "class Cat(Animal):\n",
    "    def speak(self):\n",
    "        return f\"{self.name} says meow\""
   ]
  },
  {
   "cell_type": "code",
   "execution_count": null,
   "id": "2e85daed",
   "metadata": {},
   "outputs": [
    {
     "name": "stdout",
     "output_type": "stream",
     "text": [
      "mwoosh says meow\n"
     ]
    }
   ],
   "source": [
    "cat1 = Cat(\"mwoosh\")\n",
    "print(cat1.speak())"
   ]
  },
  {
   "cell_type": "markdown",
   "id": "427263f7",
   "metadata": {},
   "source": [
    "--- create a class employee name it salary then create a subclass manager witha an extra dept attribute and  method to display full details."
   ]
  },
  {
   "cell_type": "code",
   "execution_count": null,
   "id": "6dad55c9",
   "metadata": {},
   "outputs": [],
   "source": [
    "class Employee:\n",
    "    def __init__(self,salary,department):\n",
    "        self.salary = salary\n",
    "        self.department = department\n",
    "    def speak(self):\n",
    "        return f\"Hi my salary is {self.salary} and my department is {self.department}.\"\n",
    "        "
   ]
  },
  {
   "cell_type": "code",
   "execution_count": null,
   "id": "fdfe18e0",
   "metadata": {},
   "outputs": [],
   "source": [
    "class Manager(Employee):\n",
    "    def speak(self):\n",
    "        return f\"Hi my salary is {self.salary} and my department is {self.department}.\"\n"
   ]
  },
  {
   "cell_type": "code",
   "execution_count": null,
   "id": "a3acc1f3",
   "metadata": {},
   "outputs": [
    {
     "name": "stdout",
     "output_type": "stream",
     "text": [
      "Hi my salary is 500000 and my department is Data.\n"
     ]
    }
   ],
   "source": [
    "Manager1 = Employee(500000,\"Data\")\n",
    "print(Manager1.speak())"
   ]
  }
 ],
 "metadata": {
  "kernelspec": {
   "display_name": "my_env",
   "language": "python",
   "name": "python3"
  },
  "language_info": {
   "codemirror_mode": {
    "name": "ipython",
    "version": 3
   },
   "file_extension": ".py",
   "mimetype": "text/x-python",
   "name": "python",
   "nbconvert_exporter": "python",
   "pygments_lexer": "ipython3",
   "version": "3.12.10"
  }
 },
 "nbformat": 4,
 "nbformat_minor": 5
}
