{
 "cells": [
  {
   "cell_type": "markdown",
   "id": "a6a95a34",
   "metadata": {},
   "source": [
    "##### imports\n",
    "    from scipy import stats\n",
    "    from math import sqrt\n",
    "    import numpy as np\n",
    "\n",
    "##### cdf\n",
    "    cdf = stats.norm.cdf(1.5)\n",
    "    cdf\n",
    "    \n",
    "##### pvalue\n",
    "    p_value = 1 - (stats.norm.cdf(1.5))\n",
    "    p_value\n",
    "\n",
    "##### sample list\n",
    "    student_scores = [434, 694, 457, 534, 720, 400, 484, 478, 610, 641, 425 ,636 ,454, 514, 563, 370, 499, 640 ,501, 625, 612, 471, 598, 509, 531]\n",
    "    student_scores_array = np.array(student_scores)\n",
    "    student_scores_array\n",
    "    \n",
    "##### calculating z-statistic\n",
    "    population_mean = 500\n",
    "    x_bar = np.mean(student_scores_array)\n",
    "    population_std = 100\n",
    "    population_size = 25\n",
    "    program_null_hypothesis = \"we contradict that the SAT preparation program  will increase the SAT score.\"\n",
    "    program_alternative_hypothesis = \"we agree that the SAT preparation program will increase the SAT score.\"\n",
    "    alpha = 0.5\n",
    "    z_statistic = (x_bar - population_mean) / ( (population_std) / np.sqrt(population_size) )\n",
    "    z_statistic\n",
    "    \n",
    "##### P_value\n",
    "    pvalue = 1- (stats.norm.cdf(z_statistic))\n",
    "    pvalue\n",
    "    \n",
    "##### proving null/alternative hypothesis\n",
    "    if pvalue < alpha:\n",
    "        print f\"based on the current evidence {program_alternative_hypothesis}.\"\n",
    "    else:\n",
    "        print f\"based on the current evidence {program_null_hypothesis}.\""
   ]
  },
  {
   "cell_type": "code",
   "execution_count": null,
   "id": "975810f9",
   "metadata": {},
   "outputs": [],
   "source": []
  },
  {
   "cell_type": "markdown",
   "id": "9dd7afcc",
   "metadata": {},
   "source": [
    "# WEDNESDAY 1ST OCT, 2025"
   ]
  },
  {
   "cell_type": "markdown",
   "id": "a5e2af2d",
   "metadata": {},
   "source": [
    "## Hypothesis testing\n",
    "### pvalue and cdf"
   ]
  },
  {
   "cell_type": "code",
   "execution_count": 1,
   "id": "79bf3c93",
   "metadata": {},
   "outputs": [
    {
     "data": {
      "text/plain": [
       "np.float64(0.9331927987311419)"
      ]
     },
     "execution_count": 1,
     "metadata": {},
     "output_type": "execute_result"
    }
   ],
   "source": [
    "from scipy import stats\n",
    "cdf = stats.norm.cdf(1.5)\n",
    "cdf"
   ]
  },
  {
   "cell_type": "code",
   "execution_count": 2,
   "id": "73a7035a",
   "metadata": {},
   "outputs": [
    {
     "data": {
      "text/plain": [
       "np.float64(0.06680720126885809)"
      ]
     },
     "execution_count": 2,
     "metadata": {},
     "output_type": "execute_result"
    }
   ],
   "source": [
    "p_value = (1-cdf)\n",
    "p_value"
   ]
  },
  {
   "cell_type": "code",
   "execution_count": 3,
   "id": "43cc8cf5",
   "metadata": {},
   "outputs": [
    {
     "data": {
      "text/plain": [
       "np.float64(0.9098773275355476)"
      ]
     },
     "execution_count": 3,
     "metadata": {},
     "output_type": "execute_result"
    }
   ],
   "source": [
    "# probability of zscore being <= 1.34 \n",
    "cdff = stats.norm.cdf(1.34)\n",
    "cdff"
   ]
  },
  {
   "cell_type": "code",
   "execution_count": 6,
   "id": "05a68c11",
   "metadata": {},
   "outputs": [
    {
     "data": {
      "text/plain": [
       "np.float64(0.09012267246445238)"
      ]
     },
     "execution_count": 6,
     "metadata": {},
     "output_type": "execute_result"
    }
   ],
   "source": [
    "p_value2= 1 - stats.norm.cdf(1.34)\n",
    "p_value2"
   ]
  },
  {
   "cell_type": "markdown",
   "id": "e1fbd52c",
   "metadata": {},
   "source": [
    "## Hypotheses\n",
    "- it is an educated guess\n",
    "- alternative hypothesis - initial observation that is the first obs that there's no diff\n",
    "- null hypothesis - no difference between two experiments"
   ]
  },
  {
   "cell_type": "markdown",
   "id": "09e6ca58",
   "metadata": {},
   "source": [
    "# THURSDAY 2ND OCTOBER,2025"
   ]
  },
  {
   "cell_type": "markdown",
   "id": "c0e56a69",
   "metadata": {},
   "source": [
    "### Calculating the z-statistic"
   ]
  },
  {
   "cell_type": "markdown",
   "id": "d9d6822e",
   "metadata": {},
   "source": [
    "### Example 1"
   ]
  },
  {
   "cell_type": "code",
   "execution_count": 13,
   "id": "748d9708",
   "metadata": {},
   "outputs": [
    {
     "data": {
      "text/plain": [
       "np.float64(1.1858541225631423)"
      ]
     },
     "execution_count": 13,
     "metadata": {},
     "output_type": "execute_result"
    }
   ],
   "source": [
    "# we can use math or np for the sqrt\n",
    "# 1.18 is also the zscore so its in the first std hence in the 68% rule\n",
    "from math import sqrt\n",
    "import numpy as np\n",
    "from scipy import stats\n",
    "sample_size = 40\n",
    "population_mean = 100\n",
    "population_sd = 16\n",
    "x_bar = 103\n",
    "alpha = 0.05\n",
    "z_statistic=(x_bar-population_mean)/(population_sd/(np.sqrt(sample_size)))\n",
    "z_statistic"
   ]
  },
  {
   "cell_type": "code",
   "execution_count": 8,
   "id": "c893cad2",
   "metadata": {},
   "outputs": [
    {
     "data": {
      "text/plain": [
       "np.float64(0.8821600432854813)"
      ]
     },
     "execution_count": 8,
     "metadata": {},
     "output_type": "execute_result"
    }
   ],
   "source": [
    "cdf= stats.norm.cdf(z_statistic)\n",
    "cdf"
   ]
  },
  {
   "cell_type": "code",
   "execution_count": 9,
   "id": "1e0c651c",
   "metadata": {},
   "outputs": [
    {
     "data": {
      "text/plain": [
       "np.float64(0.11783995671451875)"
      ]
     },
     "execution_count": 9,
     "metadata": {},
     "output_type": "execute_result"
    }
   ],
   "source": [
    "p_value3 = 1-cdf\n",
    "p_value3"
   ]
  },
  {
   "cell_type": "code",
   "execution_count": 14,
   "id": "1b0743d1",
   "metadata": {},
   "outputs": [
    {
     "name": "stdout",
     "output_type": "stream",
     "text": [
      "fail to reject null hypothesis\n"
     ]
    }
   ],
   "source": [
    "if p_value3 < alpha:\n",
    "    print (\"reject null hypothesis\")\n",
    "else:\n",
    "    print (\"fail to reject null hypothesis\")"
   ]
  },
  {
   "cell_type": "markdown",
   "id": "26c8fd09",
   "metadata": {},
   "source": [
    "### Example 2\n",
    "-- alternative hypothesis we are contradicting the claim of our first service\n",
    "-- null hypothesi we are agreeing with the claim of our first service"
   ]
  },
  {
   "cell_type": "code",
   "execution_count": null,
   "id": "a982a1b6",
   "metadata": {},
   "outputs": [
    {
     "data": {
      "text/plain": [
       "np.float64(3.0)"
      ]
     },
     "execution_count": 17,
     "metadata": {},
     "output_type": "execute_result"
    }
   ],
   "source": [
    "customers_size = 36\n",
    "customers_mean = 60\n",
    "customers_sd = 30\n",
    "sample_mean = 75\n",
    "alpha = 0.05\n",
    "alternative_hypothesis = \"we are contradicting the claim of our fast service\"\n",
    "null_hypothesis = \"we are agreeing with the claim of our fast service\"\n",
    "z_stat=(sample_mean-customers_mean)/(customers_sd/(np.sqrt(customers_size)))\n",
    "z_stat"
   ]
  },
  {
   "cell_type": "code",
   "execution_count": 18,
   "id": "a554e508",
   "metadata": {},
   "outputs": [
    {
     "data": {
      "text/plain": [
       "np.float64(0.0013498980316301035)"
      ]
     },
     "execution_count": 18,
     "metadata": {},
     "output_type": "execute_result"
    }
   ],
   "source": [
    "# p_value\n",
    "p_value4 = 1-(stats.norm.cdf(z_stat))\n",
    "p_value4"
   ]
  },
  {
   "cell_type": "code",
   "execution_count": 23,
   "id": "5b39c291",
   "metadata": {},
   "outputs": [
    {
     "name": "stdout",
     "output_type": "stream",
     "text": [
      "based on the current evidence we are contradicting the claim of our first service\n"
     ]
    }
   ],
   "source": [
    "if p_value4 < alpha:\n",
    "    print (f\"based on the current evidence {alternative_hypothesis}\")\n",
    "else:\n",
    "    print (f\"based on the current evidence {null_hypothesis}\")\n",
    "    "
   ]
  },
  {
   "cell_type": "markdown",
   "id": "a2359605",
   "metadata": {},
   "source": [
    "--- we conclude  that based on the current evidence we conclude the claim of the fast service is false"
   ]
  },
  {
   "cell_type": "markdown",
   "id": "a6544e45",
   "metadata": {},
   "source": [
    "### Example 3"
   ]
  },
  {
   "cell_type": "markdown",
   "id": "b9d9f9ff",
   "metadata": {},
   "source": [
    "--- 25 students complete a preparation program for taking the SAT test. Here are the SAT scores from the 25 students who completed the program: 434 694 457 534 720 400 484 478 610 641 425 636 454 514 563 370 499 640 501 625 612 471 598 509 531\n",
    "--- We know that the population average for SAT scores is 500 with a standard deviation of 100.\n",
    "--- Are our 25 students’ SAT scores significantly higher than the population's mean score? Note that the SAT preparation program claims that it will increase (and not decrease) the SAT score. So, you can conduct a one-directional test. (alpha = .05)."
   ]
  },
  {
   "cell_type": "code",
   "execution_count": 46,
   "id": "c03fde28",
   "metadata": {},
   "outputs": [
    {
     "data": {
      "text/plain": [
       "array([434, 694, 457, 534, 720, 400, 484, 478, 610, 641, 425, 636, 454,\n",
       "       514, 563, 370, 499, 640, 501, 625, 612, 471, 598, 509, 531])"
      ]
     },
     "execution_count": 46,
     "metadata": {},
     "output_type": "execute_result"
    }
   ],
   "source": [
    "student_scores = [434, 694, 457, 534, 720, 400, 484, 478, 610, 641, 425 ,636 ,454, 514, 563, 370, 499, 640 ,501, 625, 612, 471, 598, 509, 531]\n",
    "student_scores_array = np.array(student_scores)\n",
    "student_scores_array"
   ]
  },
  {
   "cell_type": "code",
   "execution_count": 44,
   "id": "72532a15",
   "metadata": {},
   "outputs": [
    {
     "data": {
      "text/plain": [
       "np.float64(1.8)"
      ]
     },
     "execution_count": 44,
     "metadata": {},
     "output_type": "execute_result"
    }
   ],
   "source": [
    "students_size = 25\n",
    "students_mean = 500\n",
    "samplestudents_mean = np.mean(student_scores_array)\n",
    "students_sd = 100\n",
    "program_null_hypothesis = \"we contradict that the SAT preparation program  will increase the SAT score.\"\n",
    "program_alternative_hypothesis = \"we agree that the SAT preparation program will increase the SAT score.\"\n",
    "z_statis = (samplestudents_mean-students_mean)/(students_sd/(np.sqrt(students_size)))\n",
    "z_statis"
   ]
  },
  {
   "cell_type": "code",
   "execution_count": 40,
   "id": "863720c4",
   "metadata": {},
   "outputs": [
    {
     "data": {
      "text/plain": [
       "np.float64(0.03593031911292577)"
      ]
     },
     "execution_count": 40,
     "metadata": {},
     "output_type": "execute_result"
    }
   ],
   "source": [
    "p_value5 = 1-(stats.norm.cdf(z_statis))\n",
    "p_value5"
   ]
  },
  {
   "cell_type": "code",
   "execution_count": 41,
   "id": "ee483407",
   "metadata": {},
   "outputs": [
    {
     "name": "stdout",
     "output_type": "stream",
     "text": [
      "based on the current evidence we agree that the SAT preparation program will increase the SAT score.\n"
     ]
    }
   ],
   "source": [
    "if p_value5 < alpha:\n",
    "    print (f\"based on the current evidence {program_alternative_hypothesis}\")\n",
    "else:\n",
    "    print (f\"based on the current evidence {program_null_hypothesis}\")\n",
    "    "
   ]
  }
 ],
 "metadata": {
  "kernelspec": {
   "display_name": "my_env",
   "language": "python",
   "name": "python3"
  },
  "language_info": {
   "codemirror_mode": {
    "name": "ipython",
    "version": 3
   },
   "file_extension": ".py",
   "mimetype": "text/x-python",
   "name": "python",
   "nbconvert_exporter": "python",
   "pygments_lexer": "ipython3",
   "version": "3.12.10"
  }
 },
 "nbformat": 4,
 "nbformat_minor": 5
}
